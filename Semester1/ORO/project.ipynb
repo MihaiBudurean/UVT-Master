{
 "cells": [
  {
   "cell_type": "code",
   "execution_count": 7,
   "metadata": {},
   "outputs": [],
   "source": [
    "from pulp import *"
   ]
  },
  {
   "cell_type": "markdown",
   "metadata": {},
   "source": [
    "### Problem Constants"
   ]
  },
  {
   "cell_type": "code",
   "execution_count": 8,
   "metadata": {},
   "outputs": [],
   "source": [
    "week_days = ['Monday', 'Tuesday', 'Wednesday', 'Thursday', 'Friday']\n",
    "\n",
    "# Hours allocated daily for productive activities\n",
    "productive_hours = 12\n",
    "maximum_extra_hours = 5\n",
    "\n",
    "# 27 euros / hour, 35 euros / teaching session and 14 euros / graphic material\n",
    "payments = [27, 35, 14]\n",
    "\n",
    "# 1 hour of work, 1.5 hours for a teaching session and approx 35-40 minutes for a graphic material\n",
    "time_spent_on_unit = [1, 1.5, 0.6]\n",
    "\n",
    "# minimum 30h of work, minimum 5 teaching sessions and minimum 10 graphic materials\n",
    "minimum_requirements = [30, 5, 10]"
   ]
  },
  {
   "cell_type": "markdown",
   "metadata": {},
   "source": [
    "### Problem Name and Variables"
   ]
  },
  {
   "cell_type": "code",
   "execution_count": 9,
   "metadata": {},
   "outputs": [],
   "source": [
    "problem = LpProblem('wWeeklyScheduleAndIncome', LpMaximize)\n",
    "\n",
    "# Variables\n",
    "work_variables = LpVariable.dicts('Work_Hours', week_days, lowBound=4, upBound=8, cat=LpInteger)\n",
    "teaching_variables = LpVariable.dicts('Teaching_Sessions', week_days, lowBound=1, upBound=3, cat=LpInteger)\n",
    "graphic_variables = LpVariable.dicts('Graphic_Materials', week_days, lowBound=1, cat=LpInteger)"
   ]
  },
  {
   "cell_type": "markdown",
   "metadata": {},
   "source": [
    "### Objective Function"
   ]
  },
  {
   "cell_type": "code",
   "execution_count": 10,
   "metadata": {},
   "outputs": [],
   "source": [
    "problem += payments[0] * lpSum(work_variables) + \\\n",
    "           payments[1] * lpSum(teaching_variables) + \\\n",
    "           payments[2] * lpSum(graphic_variables)"
   ]
  },
  {
   "cell_type": "markdown",
   "metadata": {},
   "source": [
    "### Constraints"
   ]
  },
  {
   "cell_type": "code",
   "execution_count": 11,
   "metadata": {},
   "outputs": [],
   "source": [
    "problem += lpSum(work_variables) >= minimum_requirements[0], 'Minimum Hours of Work Constraint'\n",
    "problem += lpSum(work_variables) <= minimum_requirements[0] + maximum_extra_hours, 'Maximum Hours of Work Constraint'\n",
    "problem += lpSum(work_variables) >= minimum_requirements[1], 'Minimum Teaching Sessions Constraint'\n",
    "problem += lpSum(work_variables) >= minimum_requirements[2], 'Minimum Graphic Materials Constraint'\n",
    "\n",
    "for i in range(len(week_days)):\n",
    "    problem += time_spent_on_unit[0] * work_variables[week_days[i]] + \\\n",
    "               time_spent_on_unit[1] * teaching_variables[week_days[i]] + \\\n",
    "               time_spent_on_unit[2] * graphic_variables[week_days[i]] <= productive_hours, f'{week_days[i]} Time Constraint'"
   ]
  },
  {
   "cell_type": "markdown",
   "metadata": {},
   "source": [
    "### Solve Problem and Display Variables"
   ]
  },
  {
   "cell_type": "code",
   "execution_count": 12,
   "metadata": {},
   "outputs": [
    {
     "name": "stdout",
     "output_type": "stream",
     "text": [
      "Total income: 1520.0 euros per week\n",
      "\n",
      "Graphic_Materials_Friday: 5.0\n",
      "Graphic_Materials_Monday: 4.0\n",
      "Graphic_Materials_Thursday: 5.0\n",
      "Graphic_Materials_Tuesday: 5.0\n",
      "Graphic_Materials_Wednesday: 4.0\n",
      "Teaching_Sessions_Friday: 2.0\n",
      "Teaching_Sessions_Monday: 1.0\n",
      "Teaching_Sessions_Thursday: 2.0\n",
      "Teaching_Sessions_Tuesday: 2.0\n",
      "Teaching_Sessions_Wednesday: 1.0\n",
      "Work_Hours_Friday: 6.0\n",
      "Work_Hours_Monday: 8.0\n",
      "Work_Hours_Thursday: 6.0\n",
      "Work_Hours_Tuesday: 6.0\n",
      "Work_Hours_Wednesday: 8.0\n"
     ]
    }
   ],
   "source": [
    "problem.solve(PULP_CBC_CMD(msg=0))\n",
    "\n",
    "if LpStatus[problem.status] == \"Optimal\":\n",
    "    print(f'Total income: {value(problem.objective)} euros per week\\n')\n",
    "\n",
    "for variable in problem.variables():\n",
    "    print(f'{variable.name}: {variable.varValue}')"
   ]
  }
 ],
 "metadata": {
  "kernelspec": {
   "display_name": "oro",
   "language": "python",
   "name": "python3"
  },
  "language_info": {
   "codemirror_mode": {
    "name": "ipython",
    "version": 3
   },
   "file_extension": ".py",
   "mimetype": "text/x-python",
   "name": "python",
   "nbconvert_exporter": "python",
   "pygments_lexer": "ipython3",
   "version": "3.12.0"
  }
 },
 "nbformat": 4,
 "nbformat_minor": 2
}
