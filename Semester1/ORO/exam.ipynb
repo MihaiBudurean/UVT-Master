{
 "cells": [
  {
   "cell_type": "markdown",
   "metadata": {},
   "source": [
    "# Problem 3\n",
    "\n",
    "A company plans its business in a three month period. It can produce 110\n",
    "units at a cost of 600 each. The minimum amount it must produce per\n",
    "month is 15 units if active (but of course, it can choose to be closed during\n",
    "the month, and produce 0 units). Each month it can subcontract the\n",
    "production of 60 units, at a cost of 660 each. Storing a unit for one month\n",
    "costs 20$ per unit per month. The marketing department has forecasted\n",
    "sales of 100, 130 and 150 units for the next three months, respectively.\n",
    "\n",
    "The goal is to meet the demand each month while minimizing the total\n",
    "cost."
   ]
  },
  {
   "cell_type": "markdown",
   "metadata": {},
   "source": [
    "## Variables\n",
    "\n",
    "- $u_1$ - number of units with a price of 600 produced in the first month\n",
    "- $u_2$ - number of units with a price of 600 produced in the second month\n",
    "- $u_3$ - number of units with a price of 600 produced in the third month\n",
    "\n",
    "- $su_1$ - number of contracts with 60 units, 660 cost each in first month\n",
    "- $su_2$ - number of contracts with 60 units, 660 cost each in second month\n",
    "- $su_3$ - number of contracts with 60 units, 660 cost each in third month\n",
    "\n",
    "\n",
    "\n"
   ]
  },
  {
   "cell_type": "markdown",
   "metadata": {},
   "source": [
    "## Objective Function\n",
    "\n",
    "- Cost for any $u_i, i \\in \\{1, 2, 3\\} = 620$, 600 for production and 20 for storing.\n",
    "- Cost for any $su_i, i \\in \\{1, 2, 3\\} = 40800$, 60 units per contract, 660 for production of a unit, 20 for storing, so $60 \\cdot (660 + 20) = 40800$.\n",
    "\n",
    "$min((u_1 + u_2 + u_3) \\cdot 620 + (su_1 + su_2 + su_3) \\cdot 40800)$"
   ]
  },
  {
   "cell_type": "markdown",
   "metadata": {},
   "source": [
    "## Constraints\n",
    "\n",
    "- $u_1 + u_2 + u_3 \\leq 110$, Maximum Cost of Units with cost 600 Constraint\n",
    "- $u_1 + 60su_1 \\geq 100$, Minimum Units Produced in First Month Constraint\n",
    "- $u_2 + 60su_2 \\geq 130$, Minimum Units Produced in Second Month Constraint\n",
    "- $u_3 + 60su_3 \\geq 150$, Minimum Units Produced in Third Month Constraint"
   ]
  },
  {
   "cell_type": "markdown",
   "metadata": {},
   "source": [
    "## Code"
   ]
  },
  {
   "cell_type": "code",
   "execution_count": 1,
   "metadata": {},
   "outputs": [
    {
     "name": "stdout",
     "output_type": "stream",
     "text": [
      "Total cost: $253600.0\n",
      "\n",
      "su_1: 1.0\n",
      "su_2: 2.0\n",
      "su_3: 2.0\n",
      "u_1: 40.0\n",
      "u_2: 10.0\n",
      "u_3: 30.0\n"
     ]
    }
   ],
   "source": [
    "from pulp import *\n",
    "\n",
    "max_cheap_units = 110\n",
    "forecasts = [100, 130, 150]\n",
    "\n",
    "problem = LpProblem('Problem3', LpMinimize)\n",
    "\n",
    "# Variables\n",
    "units_variables = LpVariable.dicts('u', range(1, 4), lowBound=0, cat=LpInteger)\n",
    "contracts_variables = LpVariable.dicts('su', range(1, 4), lowBound=0, cat=LpInteger)\n",
    "\n",
    "# Objective Function\n",
    "problem += lpSum(units_variables) * 620 + lpSum(contracts_variables) * 40800\n",
    "\n",
    "# Constraints\n",
    "problem += lpSum(units_variables) <= max_cheap_units, 'Maximum cost of units with cost 600 Constraint'\n",
    "for i in range(3):\n",
    "    problem += units_variables[i + 1] + 60 * contracts_variables[i + 1] >= forecasts[i], f'Minimum units produced in month {i + 1} Constraint'\n",
    "\n",
    "# Solve Problem and Display Results\n",
    "problem.solve(PULP_CBC_CMD(msg=0))\n",
    "\n",
    "if LpStatus[problem.status] == \"Optimal\":\n",
    "    print(f'Total cost: ${value(problem.objective)}\\n')\n",
    "\n",
    "for variable in problem.variables():\n",
    "    print(f'{variable.name}: {variable.varValue}')\n"
   ]
  },
  {
   "cell_type": "markdown",
   "metadata": {},
   "source": [
    "# Problem 4\n",
    "\n",
    "A consulting company estimates its business for the next five months, in hours, at 6000, 7000, 8000, 9500, 11000 hours, respectively. Currently the company employs 50 consultants, each at 160 hours/month, paid 2000 euros/month. To meet demand, company must recruit and retain new consultants. Training takes one month and 50 hours of supervision from an existing consultant. Trainees are paid 1000 euros/month. After training, 5% of the trainees leave the firm.\n",
    "\n",
    "Plan the activity to meet the demand and incur the minimum cost."
   ]
  },
  {
   "cell_type": "markdown",
   "metadata": {},
   "source": [
    "## Variables\n",
    "\n",
    "Training is 1 month, so trainees from the first month become consultants in the second month. 5% of trainees leave the firm, so 95% become consultants next month. In conclusion, the number of consultants from each month can be determined if the number of trainees is known, so the only variables of the problem will be number of trainees from each month. Since the estimation is done for only 5 months, it is not profitable to have trainees in the last month.\n",
    "\n",
    "- $t_1$ - number of trainees in the first month\n",
    "- $t_2$ - number of trainees in the second month\n",
    "- $t_3$ - number of trainees in the third month\n",
    "- $t_4$ - number of trainees in the fourth month"
   ]
  },
  {
   "cell_type": "markdown",
   "metadata": {},
   "source": [
    "## Objective Function\n",
    "\n",
    "The cost per month is $2000 \\cdot number\\_of\\_consultants + 1000 \\cdot number\\_of\\_trainees$.\n",
    "\n",
    "Cost for each month:\n",
    "- first month: $50 \\cdot 2000 + t_1 \\cdot 1000$\n",
    "- second month: $(50 + 0.95t_1) \\cdot 2000 + t_2 \\cdot 1000$\n",
    "- third month: $(50 + 0.95 \\cdot (t_1 + t_2)) \\cdot 2000 + t_3 \\cdot 1000$\n",
    "- fourth month: $(50 + 0.95 \\cdot (t_1 + t_2 + t_3)) \\cdot 2000 + t_4 \\cdot 1000$\n",
    "- fifth month: $(50 + 0.95 \\cdot (t_1 + t_2 + t_3 + t_4)) \\cdot 2000$\n",
    "\n",
    "After doing the math, the minimization function is:\n",
    "\n",
    "$min((5 \\cdot 50 + 0.95 \\cdot (4t_1 + 3t_2 + 2t_3 + t_4)) \\cdot 2000 + (t_1 + t_2 + t_3 + t_4) \\cdot 1000)$"
   ]
  },
  {
   "cell_type": "markdown",
   "metadata": {},
   "source": [
    "## Constraints\n",
    "\n",
    "- $50 \\cdot 160 - t_1 \\cdot 50 \\geq 6000$, First Month Constraint\n",
    "- $(50 + 0.95t_1) \\cdot 160 - t_2 \\cdot 50 \\geq 7000$, First Month Constraint\n",
    "- $(50 + 0.95 \\cdot(t_1 + t_2)) \\cdot 160 - t_3 \\cdot 50 \\geq 8000$, First Month Constraint\n",
    "- $(50 + 0.95 \\cdot(t_1 + t_2 + t_3)) \\cdot 160 - t_4 \\cdot 50 \\geq 9500$, First Month Constraint\n",
    "- $(50 + 0.95 \\cdot(t_1 + t_2 + t_3 + t_4)) \\cdot 160 - t_5 \\cdot 50 \\geq 11000$, First Month Constraint"
   ]
  },
  {
   "cell_type": "markdown",
   "metadata": {},
   "source": [
    "## Code"
   ]
  },
  {
   "cell_type": "code",
   "execution_count": 2,
   "metadata": {},
   "outputs": [
    {
     "name": "stdout",
     "output_type": "stream",
     "text": [
      "Total cost: $590300.0\n",
      "\n",
      "t_1: 0.0\n",
      "t_2: 4.0\n",
      "t_3: 9.0\n",
      "t_4: 7.0\n"
     ]
    }
   ],
   "source": [
    "from pulp import *\n",
    "\n",
    "working_hours = 160\n",
    "training_hours = 50\n",
    "hours_target = [6000, 7000, 8000, 9500, 11000]\n",
    "\n",
    "problem = LpProblem('Problem4', LpMinimize)\n",
    "\n",
    "# Variables\n",
    "t_vars = LpVariable.dicts('t', range(1, 5), lowBound=0, cat=LpInteger)\n",
    "\n",
    "# Objective Function\n",
    "problem += (5 * 50 + 0.95 * (4 * t_vars[1] + 3 * t_vars[2] + 2 * t_vars[3] + t_vars[4])) * 2000 + lpSum(t_vars) * 1000\n",
    "\n",
    "# Constraints\n",
    "problem += 50 * 160 - t_vars[1] * 50 >= hours_target[0], 'First Month Constraint'\n",
    "problem += (50 + 0.95 * t_vars[1]) * 160 - t_vars[2] * 50 >= hours_target[1], 'Second Month Constraint'\n",
    "problem += (50 + 0.95 * (t_vars[1] + t_vars[2])) * 160 - t_vars[3] * 50 >= hours_target[2], 'Third Month Constraint'\n",
    "problem += (50 + 0.95 * (t_vars[1] + t_vars[2] + t_vars[3])) * 160 - t_vars[4] * 50 >= hours_target[3], 'Fourth Month Constraint'\n",
    "problem += (50 + 0.95 * (t_vars[1] + t_vars[2] + t_vars[3] + t_vars[4])) * 160 >= hours_target[4], 'Fifth Month Constraint'\n",
    "\n",
    "# Solve Problem and Display Results\n",
    "problem.solve(PULP_CBC_CMD(msg=0))\n",
    "\n",
    "if LpStatus[problem.status] == \"Optimal\":\n",
    "    print(f'Total cost: ${value(problem.objective)}\\n')\n",
    "\n",
    "for variable in problem.variables():\n",
    "    print(f'{variable.name}: {variable.varValue}')\n"
   ]
  }
 ],
 "metadata": {
  "kernelspec": {
   "display_name": "dsml",
   "language": "python",
   "name": "python3"
  },
  "language_info": {
   "codemirror_mode": {
    "name": "ipython",
    "version": 3
   },
   "file_extension": ".py",
   "mimetype": "text/x-python",
   "name": "python",
   "nbconvert_exporter": "python",
   "pygments_lexer": "ipython3",
   "version": "3.12.0"
  }
 },
 "nbformat": 4,
 "nbformat_minor": 2
}
