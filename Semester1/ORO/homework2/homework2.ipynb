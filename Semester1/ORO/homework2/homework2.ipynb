{
 "cells": [
  {
   "cell_type": "code",
   "execution_count": 9,
   "metadata": {},
   "outputs": [],
   "source": [
    "from pulp import *"
   ]
  },
  {
   "cell_type": "markdown",
   "metadata": {},
   "source": [
    "# Market Survey"
   ]
  },
  {
   "cell_type": "code",
   "execution_count": 10,
   "metadata": {},
   "outputs": [
    {
     "name": "stdout",
     "output_type": "stream",
     "text": [
      "Total cost: 1020.0\n",
      "EveningCalls: 200.0\n",
      "MorningCalls: 700.0\n"
     ]
    }
   ],
   "source": [
    "morning_percentages = [0.3, 0.1, 0.1, 0.1]\n",
    "evening_percentages = [0.3, 0.2, 0.3, 0.15]\n",
    "minimum_numbers = [150, 110, 120, 100]\n",
    "people_type = ['MarriedWomen', 'UnmarriedWomen', 'MarriedMen', 'UnmarriedMen']\n",
    "morning_cost = 1\n",
    "evening_cost = 1.6\n",
    "\n",
    "problem = LpProblem('MarketSurvey', LpMinimize)\n",
    "\n",
    "morning_calls = LpVariable('MorningCalls', lowBound=0, cat=LpInteger)\n",
    "evening_calls = LpVariable('EveningCalls', lowBound=0, cat=LpInteger)\n",
    "\n",
    "problem += morning_cost * morning_calls + evening_cost * evening_calls\n",
    "\n",
    "for i in range(len(people_type)):\n",
    "      problem += morning_percentages[i] * morning_calls + evening_percentages[i] * evening_calls >= minimum_numbers[i], people_type[i] + ' Calls'\n",
    "\n",
    "problem += morning_calls + evening_calls >= sum(minimum_numbers), 'Total Calls'\n",
    "\n",
    "problem.solve(PULP_CBC_CMD(msg=0))\n",
    "\n",
    "if LpStatus[problem.status] == \"Optimal\":\n",
    "    print(f'Total cost: {value(problem.objective)}')\n",
    "\n",
    "for variable in problem.variables():\n",
    "        print(f'{variable.name}: {variable.varValue}')\n"
   ]
  },
  {
   "cell_type": "markdown",
   "metadata": {},
   "source": [
    "# Rental of Computers"
   ]
  },
  {
   "cell_type": "code",
   "execution_count": 11,
   "metadata": {},
   "outputs": [
    {
     "name": "stdout",
     "output_type": "stream",
     "text": [
      "Total cost: 14200.0\n",
      "Apr1Month: 0.0\n",
      "Apr2Month: 2.0\n",
      "Apr3Month: 5.0\n",
      "Feb1Month: 0.0\n",
      "Feb2Month: 0.0\n",
      "Feb3Month: 0.0\n",
      "Jan1Month: 4.0\n",
      "Jan2Month: 0.0\n",
      "Jan3Month: 5.0\n",
      "Jun1Month: 0.0\n",
      "Mar1Month: 0.0\n",
      "Mar2Month: 0.0\n",
      "Mar3Month: 2.0\n",
      "May1Month: 1.0\n",
      "May2Month: 0.0\n"
     ]
    }
   ],
   "source": [
    "problem = LpProblem('RentalOfComputers', LpMinimize)\n",
    "\n",
    "jan1 = LpVariable('Jan1Month', 0, None, LpInteger)\n",
    "jan2 = LpVariable('Jan2Month', 0, None, LpInteger)\n",
    "jan3 = LpVariable('Jan3Month', 0, None, LpInteger)\n",
    "feb1 = LpVariable('Feb1Month', 0, None, LpInteger)\n",
    "feb2 = LpVariable('Feb2Month', 0, None, LpInteger)\n",
    "feb3 = LpVariable('Feb3Month', 0, None, LpInteger)\n",
    "mar1 = LpVariable('Mar1Month', 0, None, LpInteger)\n",
    "mar2 = LpVariable('Mar2Month', 0, None, LpInteger)\n",
    "mar3 = LpVariable('Mar3Month', 0, None, LpInteger)\n",
    "apr1 = LpVariable('Apr1Month', 0, None, LpInteger)\n",
    "apr2 = LpVariable('Apr2Month', 0, None, LpInteger)\n",
    "apr3 = LpVariable('Apr3Month', 0, None, LpInteger)\n",
    "may1 = LpVariable('May1Month', 0, None, LpInteger)\n",
    "may2 = LpVariable('May2Month', 0, None, LpInteger)\n",
    "jun1 = LpVariable('Jun1Month', 0, None, LpInteger)\n",
    "\n",
    "problem += 400 * (jan1 + feb1 + mar1 + apr1 + may1 + jun1) \\\n",
    "  + 700 * (jan2 + feb2 + mar2 + apr2 + may2) \\\n",
    "  + 900 * (jan3 + feb3 + mar3 + apr3)\n",
    "\n",
    "problem += jan1 + jan2 + jan3 >= 9, \"Jan\"\n",
    "problem += jan2 + jan3 + feb1 + feb2 + feb3 >= 5, \"Feb\"\n",
    "problem += jan3 + feb2 + feb3 + mar1 + mar2 + mar3 >= 7, \"Mar\"\n",
    "problem += feb3 + mar2 + mar3 + apr1 + apr2 + apr3 >= 9, \"Apr\"\n",
    "problem += mar3 + apr2 + apr3 + may1 + may2 >= 10, \"May\"\n",
    "problem += apr3 + may2 + jun1 >= 5, \"Jun\"\n",
    "\n",
    "problem.solve(PULP_CBC_CMD(msg=0))\n",
    "\n",
    "if LpStatus[problem.status] == \"Optimal\":\n",
    "    print(f'Total cost: {value(problem.objective)}')\n",
    "\n",
    "for variable in problem.variables():\n",
    "        print(f'{variable.name}: {variable.varValue}')"
   ]
  },
  {
   "cell_type": "markdown",
   "metadata": {},
   "source": [
    "# Newspapers and TV Advertising"
   ]
  },
  {
   "cell_type": "code",
   "execution_count": 12,
   "metadata": {},
   "outputs": [
    {
     "name": "stdout",
     "output_type": "stream",
     "text": [
      "Total contacts: 130000.0\n",
      "Newspaper_Ads_0: 10.0\n",
      "Newspaper_Ads_1: 10.0\n",
      "Newspaper_Ads_2: 0.0\n",
      "TV_Commercials_0: 10.0\n",
      "TV_Commercials_1: 3.0\n",
      "TV_Commercials_2: 0.0\n"
     ]
    }
   ],
   "source": [
    "budget = 150\n",
    "newspaper_ad_cost = 1\n",
    "tv_commercial_cost = 10\n",
    "newspaper_new_contacts = [900, 600, 300]\n",
    "tv_new_contacts = [10000, 5000, 2000]\n",
    "\n",
    "problem = LpProblem('NewspapersAndTVAdvertising', LpMaximize)\n",
    "\n",
    "newspaper_ads = LpVariable.dicts('Newspaper_Ads', range(3), lowBound=0, upBound=10, cat=LpInteger)\n",
    "tv_ads = LpVariable.dicts('TV_Commercials', range(3), lowBound=0, upBound=10, cat=LpInteger)\n",
    "\n",
    "problem += lpDot(newspaper_new_contacts, newspaper_ads.values()) + lpDot(tv_new_contacts, tv_ads.values())\n",
    "\n",
    "problem += newspaper_ad_cost * lpSum(newspaper_ads) + tv_commercial_cost * lpSum(tv_ads) <= budget, 'Total Cost Constraint'\n",
    "\n",
    "for n in newspaper_ads.values():\n",
    "      n <= newspaper_ad_cost, f'Newspaper Slot Constraint'\n",
    "\n",
    "\n",
    "for t in tv_ads.values():\n",
    "      t <= tv_commercial_cost, f'TV Slot Constraint'\n",
    "\n",
    "problem.solve(PULP_CBC_CMD(msg=0))\n",
    "\n",
    "if LpStatus[problem.status] == \"Optimal\":\n",
    "    print(f'Total contacts: {value(problem.objective)}')\n",
    "\n",
    "for variable in problem.variables():\n",
    "        print(f'{variable.name}: {variable.varValue}')"
   ]
  },
  {
   "cell_type": "markdown",
   "metadata": {},
   "source": [
    "# Asignment of Machining Operations"
   ]
  },
  {
   "cell_type": "markdown",
   "metadata": {},
   "source": [
    "# Production of Pancakes"
   ]
  },
  {
   "cell_type": "code",
   "execution_count": 13,
   "metadata": {},
   "outputs": [
    {
     "name": "stdout",
     "output_type": "stream",
     "text": [
      "Total profit: 14450.0\n",
      "P_AmericanPancakeBlueberry: 0.0\n",
      "P_AmericanPancakeCheese: 0.0\n",
      "P_AmericanPancakeChocolate: 350.0\n",
      "P_NormalCrepeBlueberry: 200.0\n",
      "P_NormalCrepeCheese: 100.0\n",
      "P_NormalCrepeChocolate: 0.0\n",
      "P_PathiriBlueberry: 0.0\n",
      "P_PathiriCheese: 400.0\n",
      "P_PathiriChocolate: 0.0\n"
     ]
    }
   ],
   "source": [
    "pancakes = {'NormalCrepe': 300, 'AmericanPancake': 350, 'Pathiri': 400}\n",
    "toppings = {'Chocolate': 720, 'Blueberry': 330, 'Cheese': 500}\n",
    "prices = [8, 10, 12, 15, 12, 8, 8, 9, 15]\n",
    "\n",
    "problem = LpProblem('ProductionOfPancakes', LpMaximize)\n",
    "\n",
    "variables = LpVariable.dicts('P', [p + t for p in pancakes for t in toppings], lowBound=0, cat=LpInteger)\n",
    "\n",
    "problem += (lpDot(prices, variables.values()))\n",
    "\n",
    "for p in pancakes:\n",
    "    problem += lpSum([variables[p+t] for t in toppings]) <= pancakes[p], p\n",
    "\n",
    "for t in toppings:\n",
    "    problem += lpSum([variables[p+t] for p in pancakes]) <= toppings[t], t\n",
    "\n",
    "problem.solve(PULP_CBC_CMD(msg=0))\n",
    "\n",
    "if LpStatus[problem.status] == \"Optimal\":\n",
    "    print(f'Total profit: {value(problem.objective)}')\n",
    "\n",
    "for variable in problem.variables():\n",
    "        print(f'{variable.name}: {variable.varValue}')\n"
   ]
  }
 ],
 "metadata": {
  "kernelspec": {
   "display_name": "Python 3",
   "language": "python",
   "name": "python3"
  },
  "language_info": {
   "codemirror_mode": {
    "name": "ipython",
    "version": 3
   },
   "file_extension": ".py",
   "mimetype": "text/x-python",
   "name": "python",
   "nbconvert_exporter": "python",
   "pygments_lexer": "ipython3",
   "version": "3.11.5"
  }
 },
 "nbformat": 4,
 "nbformat_minor": 2
}
