{
 "cells": [
  {
   "cell_type": "code",
   "execution_count": 23,
   "metadata": {},
   "outputs": [],
   "source": [
    "import pandas as pd\n",
    "import numpy as np\n",
    "import matplotlib.pyplot as plt\n",
    "from sklearn.preprocessing import MinMaxScaler\n",
    "from sklearn.preprocessing import StandardScaler\n",
    "from sklearn.preprocessing import KBinsDiscretizer\n",
    "from sklearn.impute import SimpleImputer"
   ]
  },
  {
   "cell_type": "markdown",
   "metadata": {},
   "source": [
    "Select one of the following datasets:\n",
    "- Hotel reservations (kaggle) - I selected this dataset\n",
    "- Home loans (kaggle)\n",
    "- Airlines delay (kaggle)\n",
    "- Job placement (kaggle)\n",
    "- Superstore marketing (kaggle)"
   ]
  },
  {
   "cell_type": "markdown",
   "metadata": {},
   "source": [
    "1. Identify the types of attributes:  quantitative (continuous or discrete values), qualitative (ordinal or nominal)"
   ]
  },
  {
   "cell_type": "code",
   "execution_count": 22,
   "metadata": {},
   "outputs": [
    {
     "name": "stdout",
     "output_type": "stream",
     "text": [
      "Booking_ID: qualitative\n",
      "no_of_adults: quantitative\n",
      "no_of_children: quantitative\n",
      "no_of_weekend_nights: quantitative\n",
      "no_of_week_nights: quantitative\n",
      "type_of_meal_plan: qualitative\n",
      "required_car_parking_space: quantitative\n",
      "room_type_reserved: qualitative\n",
      "lead_time: quantitative\n",
      "arrival_year: quantitative\n",
      "arrival_month: quantitative\n",
      "arrival_date: quantitative\n",
      "market_segment_type: qualitative\n",
      "repeated_guest: quantitative\n",
      "no_of_previous_cancellations: quantitative\n",
      "no_of_previous_bookings_not_canceled: quantitative\n",
      "avg_price_per_room: quantitative\n",
      "no_of_special_requests: quantitative\n",
      "booking_status: qualitative\n"
     ]
    }
   ],
   "source": [
    "hotel_reservations = pd.read_csv('./datasets/homework1-2/hotel_reservations.csv')\n",
    "\n",
    "column_types = hotel_reservations.dtypes\n",
    "quantitative_attributes = []\n",
    "qualitative_attributes = []\n",
    "\n",
    "\n",
    "for column_name, dtype in column_types.items():\n",
    "    if pd.api.types.is_numeric_dtype(dtype):\n",
    "        print(f'{column_name}: quantitative')\n",
    "        quantitative_attributes.append(column_name)\n",
    "    else:\n",
    "        print(f'{column_name}: qualitative')\n",
    "        qualitative_attributes.append(column_name)"
   ]
  },
  {
   "cell_type": "markdown",
   "metadata": {},
   "source": [
    "2. Select a quantitative attribute and apply (independently) the following transformations:\n",
    "\n",
    "    a. Scaling (all values will be in [0,1])\n",
    "\n",
    "    b. Standardization (after the transformation the attribute will have value 0 and standard deviation 1)\n",
    "    \n",
    "    c. Discretization (using 5 bins)"
   ]
  },
  {
   "cell_type": "code",
   "execution_count": 21,
   "metadata": {},
   "outputs": [
    {
     "name": "stderr",
     "output_type": "stream",
     "text": [
      "/home/mihai/.local/lib/python3.12/site-packages/sklearn/preprocessing/_discretization.py:248: FutureWarning: In version 1.5 onwards, subsample=200_000 will be used by default. Set subsample explicitly to silence this warning in the mean time. Set subsample=None to disable subsampling explicitly.\n",
      "  warnings.warn(\n"
     ]
    },
    {
     "data": {
      "text/plain": [
       "Text(0.5, 1.0, 'uniform')"
      ]
     },
     "execution_count": 21,
     "metadata": {},
     "output_type": "execute_result"
    },
    {
     "data": {
      "image/png": "[encoded data removed]",
      "text/plain": [
       "<Figure size 640x480 with 2 Axes>"
      ]
     },
     "metadata": {},
     "output_type": "display_data"
    }
   ],
   "source": [
    "price = np.array(hotel_reservations.avg_price_per_room)\n",
    "\n",
    "# a.\n",
    "scaler = MinMaxScaler()\n",
    "scaled_price = scaler.fit_transform(price.reshape(-1, 1))\n",
    "\n",
    "# b.\n",
    "standardizer = StandardScaler()\n",
    "standardized_price = standardizer.fit_transform(price.reshape(-1, 1))\n",
    "\n",
    "# c.\n",
    "discretizer = KBinsDiscretizer(n_bins=5, strategy='uniform', encode='ordinal')\n",
    "discretized_price = discretizer.fit_transform(price.reshape(-1,1))\n",
    "\n",
    "fig, axs = plt.subplots(1, 2, sharey=True, tight_layout=True)\n",
    "axs[0].hist(price, bins=5)\n",
    "axs[0].set_title('original')\n",
    "axs[1].hist(discretized_price, bins=5)\n",
    "axs[1].set_title('uniform')"
   ]
  },
  {
   "cell_type": "markdown",
   "metadata": {},
   "source": [
    "3. Identify an attribute with missing values (if there is none, remove at most 5% of the values of one attribute to create one) and apply an imputation technique"
   ]
  },
  {
   "cell_type": "code",
   "execution_count": 46,
   "metadata": {},
   "outputs": [
    {
     "ename": "IndexError",
     "evalue": "index 0 is out of bounds for axis 0 with size 0",
     "output_type": "error",
     "traceback": [
      "\u001b[0;31m---------------------------------------------------------------------------\u001b[0m",
      "\u001b[0;31mIndexError\u001b[0m                                Traceback (most recent call last)",
      "Cell \u001b[0;32mIn[46], line 2\u001b[0m\n\u001b[1;32m      1\u001b[0m missing_values \u001b[38;5;241m=\u001b[39m hotel_reservations\u001b[38;5;241m.\u001b[39misnull()\u001b[38;5;241m.\u001b[39msum()\n\u001b[0;32m----> 2\u001b[0m attribute_with_missing_values \u001b[38;5;241m=\u001b[39m \u001b[43mmissing_values\u001b[49m\u001b[43m[\u001b[49m\u001b[43mmissing_values\u001b[49m\u001b[43m \u001b[49m\u001b[38;5;241;43m>\u001b[39;49m\u001b[43m \u001b[49m\u001b[38;5;241;43m0\u001b[39;49m\u001b[43m]\u001b[49m\u001b[38;5;241;43m.\u001b[39;49m\u001b[43mindex\u001b[49m\u001b[43m[\u001b[49m\u001b[38;5;241;43m0\u001b[39;49m\u001b[43m]\u001b[49m \u001b[38;5;28;01mif\u001b[39;00m \u001b[38;5;129;01mnot\u001b[39;00m missing_values\u001b[38;5;241m.\u001b[39mempty \u001b[38;5;28;01melse\u001b[39;00m \u001b[38;5;28;01mNone\u001b[39;00m\n\u001b[1;32m      3\u001b[0m \u001b[38;5;28mprint\u001b[39m(missing_values)\n\u001b[1;32m      5\u001b[0m \u001b[38;5;66;03m# if attribute_with_missing_values is None:\u001b[39;00m\n\u001b[1;32m      6\u001b[0m \u001b[38;5;66;03m#     attribute_to_introduce_missing_values = 'price'\u001b[39;00m\n\u001b[1;32m      7\u001b[0m     \n\u001b[0;32m   (...)\u001b[0m\n\u001b[1;32m     23\u001b[0m \u001b[38;5;66;03m# # Display the transformed DataFrame\u001b[39;00m\n\u001b[1;32m     24\u001b[0m \u001b[38;5;66;03m# print(hotel_reservations)\u001b[39;00m\n",
      "File \u001b[0;32m~/.local/lib/python3.12/site-packages/pandas/core/indexes/base.py:5389\u001b[0m, in \u001b[0;36mIndex.__getitem__\u001b[0;34m(self, key)\u001b[0m\n\u001b[1;32m   5386\u001b[0m \u001b[38;5;28;01mif\u001b[39;00m is_integer(key) \u001b[38;5;129;01mor\u001b[39;00m is_float(key):\n\u001b[1;32m   5387\u001b[0m     \u001b[38;5;66;03m# GH#44051 exclude bool, which would return a 2d ndarray\u001b[39;00m\n\u001b[1;32m   5388\u001b[0m     key \u001b[38;5;241m=\u001b[39m com\u001b[38;5;241m.\u001b[39mcast_scalar_indexer(key)\n\u001b[0;32m-> 5389\u001b[0m     \u001b[38;5;28;01mreturn\u001b[39;00m \u001b[43mgetitem\u001b[49m\u001b[43m(\u001b[49m\u001b[43mkey\u001b[49m\u001b[43m)\u001b[49m\n\u001b[1;32m   5391\u001b[0m \u001b[38;5;28;01mif\u001b[39;00m \u001b[38;5;28misinstance\u001b[39m(key, \u001b[38;5;28mslice\u001b[39m):\n\u001b[1;32m   5392\u001b[0m     \u001b[38;5;66;03m# This case is separated from the conditional above to avoid\u001b[39;00m\n\u001b[1;32m   5393\u001b[0m     \u001b[38;5;66;03m# pessimization com.is_bool_indexer and ndim checks.\u001b[39;00m\n\u001b[1;32m   5394\u001b[0m     \u001b[38;5;28;01mreturn\u001b[39;00m \u001b[38;5;28mself\u001b[39m\u001b[38;5;241m.\u001b[39m_getitem_slice(key)\n",
      "\u001b[0;31mIndexError\u001b[0m: index 0 is out of bounds for axis 0 with size 0"
     ]
    }
   ],
   "source": []
  }
 ],
 "metadata": {
  "kernelspec": {
   "display_name": "Python 3",
   "language": "python",
   "name": "python3"
  },
  "language_info": {
   "codemirror_mode": {
    "name": "ipython",
    "version": 3
   },
   "file_extension": ".py",
   "mimetype": "text/x-python",
   "name": "python",
   "nbconvert_exporter": "python",
   "pygments_lexer": "ipython3",
   "version": "3.12.2"
  }
 },
 "nbformat": 4,
 "nbformat_minor": 2
}
