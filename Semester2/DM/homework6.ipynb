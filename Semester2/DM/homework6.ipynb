{
 "cells": [
  {
   "cell_type": "markdown",
   "metadata": {},
   "source": [
    "# Homework 6"
   ]
  },
  {
   "cell_type": "markdown",
   "metadata": {},
   "source": [
    "## Preparation of Training and Testing Datasets"
   ]
  },
  {
   "cell_type": "code",
   "execution_count": 26,
   "metadata": {},
   "outputs": [],
   "source": [
    "import pandas as pd\n",
    "from scipy.io import arff\n",
    "from sklearn.model_selection import train_test_split\n",
    "from sklearn.linear_model import LinearRegression\n",
    "from sklearn.metrics import mean_squared_error, r2_score\n",
    "from sklearn.tree import DecisionTreeRegressor\n",
    "from sklearn.svm import SVR\n",
    "from sklearn.neighbors import KNeighborsRegressor\n",
    "from sklearn.neural_network import MLPRegressor"
   ]
  },
  {
   "cell_type": "code",
   "execution_count": 9,
   "metadata": {},
   "outputs": [
    {
     "data": {
      "text/html": [
       "<div>\n",
       "<style scoped>\n",
       "    .dataframe tbody tr th:only-of-type {\n",
       "        vertical-align: middle;\n",
       "    }\n",
       "\n",
       "    .dataframe tbody tr th {\n",
       "        vertical-align: top;\n",
       "    }\n",
       "\n",
       "    .dataframe thead th {\n",
       "        text-align: right;\n",
       "    }\n",
       "</style>\n",
       "<table border=\"1\" class=\"dataframe\">\n",
       "  <thead>\n",
       "    <tr style=\"text-align: right;\">\n",
       "      <th></th>\n",
       "      <th>cylinders</th>\n",
       "      <th>displacement</th>\n",
       "      <th>horsepower</th>\n",
       "      <th>weight</th>\n",
       "      <th>acceleration</th>\n",
       "      <th>model</th>\n",
       "      <th>origin</th>\n",
       "      <th>class</th>\n",
       "    </tr>\n",
       "  </thead>\n",
       "  <tbody>\n",
       "    <tr>\n",
       "      <th>0</th>\n",
       "      <td>b'8'</td>\n",
       "      <td>307.0</td>\n",
       "      <td>130.0</td>\n",
       "      <td>3504.0</td>\n",
       "      <td>12.0</td>\n",
       "      <td>b'70'</td>\n",
       "      <td>b'1'</td>\n",
       "      <td>18.0</td>\n",
       "    </tr>\n",
       "    <tr>\n",
       "      <th>1</th>\n",
       "      <td>b'8'</td>\n",
       "      <td>350.0</td>\n",
       "      <td>165.0</td>\n",
       "      <td>3693.0</td>\n",
       "      <td>11.5</td>\n",
       "      <td>b'70'</td>\n",
       "      <td>b'1'</td>\n",
       "      <td>15.0</td>\n",
       "    </tr>\n",
       "    <tr>\n",
       "      <th>2</th>\n",
       "      <td>b'8'</td>\n",
       "      <td>318.0</td>\n",
       "      <td>150.0</td>\n",
       "      <td>3436.0</td>\n",
       "      <td>11.0</td>\n",
       "      <td>b'70'</td>\n",
       "      <td>b'1'</td>\n",
       "      <td>18.0</td>\n",
       "    </tr>\n",
       "    <tr>\n",
       "      <th>3</th>\n",
       "      <td>b'8'</td>\n",
       "      <td>304.0</td>\n",
       "      <td>150.0</td>\n",
       "      <td>3433.0</td>\n",
       "      <td>12.0</td>\n",
       "      <td>b'70'</td>\n",
       "      <td>b'1'</td>\n",
       "      <td>16.0</td>\n",
       "    </tr>\n",
       "    <tr>\n",
       "      <th>4</th>\n",
       "      <td>b'8'</td>\n",
       "      <td>302.0</td>\n",
       "      <td>140.0</td>\n",
       "      <td>3449.0</td>\n",
       "      <td>10.5</td>\n",
       "      <td>b'70'</td>\n",
       "      <td>b'1'</td>\n",
       "      <td>17.0</td>\n",
       "    </tr>\n",
       "  </tbody>\n",
       "</table>\n",
       "</div>"
      ],
      "text/plain": [
       "  cylinders  displacement  horsepower  weight  acceleration  model origin  \\\n",
       "0      b'8'         307.0       130.0  3504.0          12.0  b'70'   b'1'   \n",
       "1      b'8'         350.0       165.0  3693.0          11.5  b'70'   b'1'   \n",
       "2      b'8'         318.0       150.0  3436.0          11.0  b'70'   b'1'   \n",
       "3      b'8'         304.0       150.0  3433.0          12.0  b'70'   b'1'   \n",
       "4      b'8'         302.0       140.0  3449.0          10.5  b'70'   b'1'   \n",
       "\n",
       "   class  \n",
       "0   18.0  \n",
       "1   15.0  \n",
       "2   18.0  \n",
       "3   16.0  \n",
       "4   17.0  "
      ]
     },
     "execution_count": 9,
     "metadata": {},
     "output_type": "execute_result"
    }
   ],
   "source": [
    "data = arff.loadarff('./datasets/lab6/autoMpg.arff')\n",
    "df = pd.DataFrame(data[0])\n",
    "df = df.dropna()\n",
    "\n",
    "df.head(5)"
   ]
  },
  {
   "cell_type": "code",
   "execution_count": 10,
   "metadata": {},
   "outputs": [
    {
     "data": {
      "text/html": [
       "<div>\n",
       "<style scoped>\n",
       "    .dataframe tbody tr th:only-of-type {\n",
       "        vertical-align: middle;\n",
       "    }\n",
       "\n",
       "    .dataframe tbody tr th {\n",
       "        vertical-align: top;\n",
       "    }\n",
       "\n",
       "    .dataframe thead th {\n",
       "        text-align: right;\n",
       "    }\n",
       "</style>\n",
       "<table border=\"1\" class=\"dataframe\">\n",
       "  <thead>\n",
       "    <tr style=\"text-align: right;\">\n",
       "      <th></th>\n",
       "      <th>cylinders</th>\n",
       "      <th>displacement</th>\n",
       "      <th>horsepower</th>\n",
       "      <th>weight</th>\n",
       "      <th>acceleration</th>\n",
       "      <th>model</th>\n",
       "      <th>origin</th>\n",
       "    </tr>\n",
       "  </thead>\n",
       "  <tbody>\n",
       "    <tr>\n",
       "      <th>0</th>\n",
       "      <td>b'8'</td>\n",
       "      <td>307.0</td>\n",
       "      <td>130.0</td>\n",
       "      <td>3504.0</td>\n",
       "      <td>12.0</td>\n",
       "      <td>b'70'</td>\n",
       "      <td>b'1'</td>\n",
       "    </tr>\n",
       "    <tr>\n",
       "      <th>1</th>\n",
       "      <td>b'8'</td>\n",
       "      <td>350.0</td>\n",
       "      <td>165.0</td>\n",
       "      <td>3693.0</td>\n",
       "      <td>11.5</td>\n",
       "      <td>b'70'</td>\n",
       "      <td>b'1'</td>\n",
       "    </tr>\n",
       "    <tr>\n",
       "      <th>2</th>\n",
       "      <td>b'8'</td>\n",
       "      <td>318.0</td>\n",
       "      <td>150.0</td>\n",
       "      <td>3436.0</td>\n",
       "      <td>11.0</td>\n",
       "      <td>b'70'</td>\n",
       "      <td>b'1'</td>\n",
       "    </tr>\n",
       "    <tr>\n",
       "      <th>3</th>\n",
       "      <td>b'8'</td>\n",
       "      <td>304.0</td>\n",
       "      <td>150.0</td>\n",
       "      <td>3433.0</td>\n",
       "      <td>12.0</td>\n",
       "      <td>b'70'</td>\n",
       "      <td>b'1'</td>\n",
       "    </tr>\n",
       "    <tr>\n",
       "      <th>4</th>\n",
       "      <td>b'8'</td>\n",
       "      <td>302.0</td>\n",
       "      <td>140.0</td>\n",
       "      <td>3449.0</td>\n",
       "      <td>10.5</td>\n",
       "      <td>b'70'</td>\n",
       "      <td>b'1'</td>\n",
       "    </tr>\n",
       "  </tbody>\n",
       "</table>\n",
       "</div>"
      ],
      "text/plain": [
       "  cylinders  displacement  horsepower  weight  acceleration  model origin\n",
       "0      b'8'         307.0       130.0  3504.0          12.0  b'70'   b'1'\n",
       "1      b'8'         350.0       165.0  3693.0          11.5  b'70'   b'1'\n",
       "2      b'8'         318.0       150.0  3436.0          11.0  b'70'   b'1'\n",
       "3      b'8'         304.0       150.0  3433.0          12.0  b'70'   b'1'\n",
       "4      b'8'         302.0       140.0  3449.0          10.5  b'70'   b'1'"
      ]
     },
     "execution_count": 10,
     "metadata": {},
     "output_type": "execute_result"
    }
   ],
   "source": [
    "df_x = df.drop(['class'], axis=1)\n",
    "\n",
    "df_x.head(5)"
   ]
  },
  {
   "cell_type": "code",
   "execution_count": 11,
   "metadata": {},
   "outputs": [
    {
     "data": {
      "text/plain": [
       "0    18.0\n",
       "1    15.0\n",
       "2    18.0\n",
       "3    16.0\n",
       "4    17.0\n",
       "Name: class, dtype: float64"
      ]
     },
     "execution_count": 11,
     "metadata": {},
     "output_type": "execute_result"
    }
   ],
   "source": [
    "df_y = df['class']\n",
    "\n",
    "df_y.head(5)"
   ]
  },
  {
   "cell_type": "code",
   "execution_count": 12,
   "metadata": {},
   "outputs": [],
   "source": [
    "x_train, x_test, y_train, y_test = train_test_split(df_x, df_y, test_size=0.3, random_state=42)"
   ]
  },
  {
   "cell_type": "code",
   "execution_count": 13,
   "metadata": {},
   "outputs": [],
   "source": [
    "mse = dict()\n",
    "cd = dict()"
   ]
  },
  {
   "cell_type": "markdown",
   "metadata": {},
   "source": [
    "## Linear Regression"
   ]
  },
  {
   "cell_type": "code",
   "execution_count": 14,
   "metadata": {},
   "outputs": [
    {
     "name": "stdout",
     "output_type": "stream",
     "text": [
      "Mean squared error: 10.07\n",
      "Coefficient of determination:0.81\n"
     ]
    }
   ],
   "source": [
    "lr_model = LinearRegression()\n",
    "lr_model.fit(x_train, y_train)\n",
    "lr_y_pred = lr_model.predict(x_test)\n",
    "\n",
    "mse['Linear Regression'] = mean_squared_error(y_test, lr_y_pred)\n",
    "cd['Linear Regression'] = r2_score(y_test, lr_y_pred)\n",
    "\n",
    "print(f'Mean squared error: {mse['Linear Regression']:.2f}')\n",
    "print(f'Coefficient of determination: {cd['Linear Regression']:.2f}')"
   ]
  },
  {
   "cell_type": "markdown",
   "metadata": {},
   "source": [
    "## Regression Trees"
   ]
  },
  {
   "cell_type": "code",
   "execution_count": 18,
   "metadata": {},
   "outputs": [
    {
     "name": "stdout",
     "output_type": "stream",
     "text": [
      "Mean squared error: 12.57\n",
      "Coefficient of determination:0.76\n"
     ]
    }
   ],
   "source": [
    "rt_model = DecisionTreeRegressor()\n",
    "rt_model = rt_model.fit(x_train, y_train)\n",
    "rt_y_pred = rt_model.predict(x_test)\n",
    "\n",
    "mse['Decision Trees'] = mean_squared_error(y_test, rt_y_pred)\n",
    "cd['Decision Trees'] = r2_score(y_test, rt_y_pred)\n",
    "\n",
    "print(f'Mean squared error: {mse['Decision Trees']:.2f}')\n",
    "print(f'Coefficient of determination: {cd['Decision Trees']:.2f}')"
   ]
  },
  {
   "cell_type": "markdown",
   "metadata": {},
   "source": [
    "## Support Vector Regression"
   ]
  },
  {
   "cell_type": "code",
   "execution_count": 21,
   "metadata": {},
   "outputs": [
    {
     "name": "stdout",
     "output_type": "stream",
     "text": [
      "Mean squared error: 14.23\n",
      "Coefficient of determination:0.73\n"
     ]
    }
   ],
   "source": [
    "svr_model = SVR(kernel='linear')\n",
    "svr_model = svr_model.fit(x_train, y_train)\n",
    "svr_y_pred = svr_model.predict(x_test)\n",
    "\n",
    "mse['Support Vector Regressor'] = mean_squared_error(y_test, svr_y_pred)\n",
    "cd['Support Vector Regressor'] = r2_score(y_test, svr_y_pred)\n",
    "\n",
    "print(f'Mean squared error: {mse['Support Vector Regressor']:.2f}')\n",
    "print(f'Coefficient of determination: {cd['Support Vector Regressor']:.2f}')"
   ]
  },
  {
   "cell_type": "markdown",
   "metadata": {},
   "source": [
    "## K Nearest Neighbor Regression"
   ]
  },
  {
   "cell_type": "code",
   "execution_count": 24,
   "metadata": {},
   "outputs": [
    {
     "name": "stdout",
     "output_type": "stream",
     "text": [
      "Mean squared error: 18.69\n",
      "Coefficient of determination:0.65\n"
     ]
    }
   ],
   "source": [
    "knn_model = KNeighborsRegressor()\n",
    "knn_model = knn_model.fit(x_train, y_train)\n",
    "knn_y_pred = knn_model.predict(x_test)\n",
    "\n",
    "mse['K Nearest Neighbors Regression'] = mean_squared_error(y_test, knn_y_pred)\n",
    "cd['K Nearest Neighbors Regression'] = r2_score(y_test, knn_y_pred)\n",
    "\n",
    "print(f'Mean squared error: {mse['K Nearest Neighbors Regression']:.2f}')\n",
    "print(f'Coefficient of determination: {cd['K Nearest Neighbors Regression']:.2f}')"
   ]
  },
  {
   "cell_type": "markdown",
   "metadata": {},
   "source": [
    "## Multilayer Perceptron"
   ]
  },
  {
   "cell_type": "code",
   "execution_count": 27,
   "metadata": {},
   "outputs": [
    {
     "name": "stdout",
     "output_type": "stream",
     "text": [
      "Mean squared error: 395.91\n",
      "Coefficient of determination: -6.48\n"
     ]
    }
   ],
   "source": [
    "mlp_model = MLPRegressor()\n",
    "mlp_model = mlp_model.fit(x_train, y_train)\n",
    "mlp_y_pred = mlp_model.predict(x_test)\n",
    "\n",
    "mse['Multilayer Perceptron Regressor'] = mean_squared_error(y_test, mlp_y_pred)\n",
    "cd['Multilayer Perceptron Regressor'] = r2_score(y_test, mlp_y_pred)\n",
    "\n",
    "print(f'Mean squared error: {mse['Multilayer Perceptron Regressor']:.2f}')\n",
    "print(f'Coefficient of determination: {cd['Multilayer Perceptron Regressor']:.2f}')"
   ]
  },
  {
   "cell_type": "markdown",
   "metadata": {},
   "source": [
    "## Results"
   ]
  },
  {
   "cell_type": "code",
   "execution_count": 30,
   "metadata": {},
   "outputs": [
    {
     "name": "stdout",
     "output_type": "stream",
     "text": [
      "Linear Regression:\n",
      "Mean squared error: 10.07\n",
      "Coefficient of determination: 0.81\n",
      "---------------------------------------\n",
      "Decision Trees:\n",
      "Mean squared error: 12.57\n",
      "Coefficient of determination: 0.76\n",
      "---------------------------------------\n",
      "Support Vector Regressor:\n",
      "Mean squared error: 14.23\n",
      "Coefficient of determination: 0.73\n",
      "---------------------------------------\n",
      "K Nearest Neighbors Regression:\n",
      "Mean squared error: 18.69\n",
      "Coefficient of determination: 0.65\n",
      "---------------------------------------\n",
      "Multilayer Perceptron Regressor:\n",
      "Mean squared error: 395.91\n",
      "Coefficient of determination: -6.48\n",
      "---------------------------------------\n"
     ]
    }
   ],
   "source": [
    "for k in cd:\n",
    "    print(f'{k}:')\n",
    "    print(f'Mean squared error: {mse[k]:.2f}')\n",
    "    print(f'Coefficient of determination: {cd[k]:.2f}')\n",
    "    print('---------------------------------------')"
   ]
  }
 ],
 "metadata": {
  "kernelspec": {
   "display_name": "Python 3",
   "language": "python",
   "name": "python3"
  },
  "language_info": {
   "codemirror_mode": {
    "name": "ipython",
    "version": 3
   },
   "file_extension": ".py",
   "mimetype": "text/x-python",
   "name": "python",
   "nbconvert_exporter": "python",
   "pygments_lexer": "ipython3",
   "version": "3.12.2"
  }
 },
 "nbformat": 4,
 "nbformat_minor": 2
}
