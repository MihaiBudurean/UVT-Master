{
  "cells": [
    {
      "cell_type": "markdown",
      "metadata": {
        "id": "_V-sfAqKUQ4w"
      },
      "source": [
        "## Data Mining Lab 1\n",
        "### Objectives\n",
        "* getting familiar with data sources / familiarizare cu sursele de date\n",
        "* getting familiar with Pandas / familiarizare cu Pandas"
      ]
    },
    {
      "cell_type": "markdown",
      "metadata": {
        "id": "MnNPKFcdUQ42"
      },
      "source": [
        "# I. Data sources / Surse de date\n",
        " * *UCI Machine Learning repository* (https://archive.ics.uci.edu/)\n",
        "     * 664 datasets grouped by categories / 664 seturi de date grupate pe categorii\n",
        " * *Kaggle platform* (https://www.kaggle.com/ )\n",
        "     * 299000 datasets / 299000 seturi de date\n",
        "     * many models and notebooks for tabular data, image data, text data, audio data (https://www.kaggle.com/models)\n",
        "     * competitions (https://www.kaggle.com/competitions)\n",
        "     * courses (https://www.kaggle.com/learn)\n",
        " * *OpenML* (https://docs.openml.org/)\n",
        "     *  1000 uniformly formatted datasets / 1000 seturi de date formatate in mod unitar\n",
        "         *  Example:  Iris dataset - https://www.openml.org/search?type=data&sort=runs&id=61&status=active\n",
        "     *  more than 250000 examples of implemented tasks (classification, clustering) / peste 250000 exemple de implementari ale unor categorii de probleme (clasificare, grupare)\n",
        "         *  Example: Iris dataset classification - https://www.openml.org/search?type=task&sort=runs&id=59i reuse"
      ]
    },
    {
      "cell_type": "markdown",
      "metadata": {
        "id": "TQA25kFmUQ43",
        "jp-MarkdownHeadingCollapsed": true
      },
      "source": [
        "### (EN) Exercise 1 -  \n",
        " * Download from UCI Machine Learning and analyze the particularities of a dataset characterized by:\n",
        "     * small number of attributes and instances (e.g. Iris, Palmer Penguins)\n",
        "     * small number of attributes and a large number of instances (e,g, DBWorls emails)\n",
        "     * large number of attributes and instances (e.g. detection_IoT_botnet_attacks, Smartphone dataset for Human Activity Recognition\n",
        "     * for classification task\n",
        "     * for clustering task\n",
        "     * for regression task\n",
        " * Select 3 datasets from Kaggle (https://www.kaggle.com/datasets) corresponding to your field of interest\n",
        "### (RO) Exercitiu 1\n",
        " * Descărcați și analizați particularitățile câte unui set de date de la UCI Machine Learning repository:\n",
        "     * Număr mic de atribute și de instanțe (e.g. Iris, Palmer Penguins)\n",
        "     * Număr mic de atribute și număr mare de instanțe (e,g, DBWorls emails)\n",
        "     * Număr mare de atribute și de instanțe (e.g. detection_IoT_botnet_attacks, Smartphone dataset for Human Activity Recognition\n",
        "     * Specific pentru clasificare\n",
        "     * Specific pentru grupare\n",
        "     * Specific pentru regresie\n",
        " * Selectati 3 seturi de date din Kaggle(https://www.kaggle.com/datasets) corespunzatoare domeniului de interes\n",
        "resie\n"
      ]
    },
    {
      "cell_type": "markdown",
      "metadata": {},
      "source": [
        "| Name                                         | Link                                                                                                 |\n",
        "|:---------------------------------------------|:-----------------------------------------------------------------------------------------------------|\n",
        "| Iris                                         | https://archive.ics.uci.edu/dataset/53/iris                                                          |\n",
        "| DBWorlds e-mails                             | https://archive.ics.uci.edu/datasets?skip=0&take=10&sort=desc&orderBy=NumHits&search=DBWorld+e-mails |\n",
        "| detection_of_IoT_botnet_attacks_N_BaIoT      | https://archive.ics.uci.edu/dataset/442/detection+of+iot+botnet+attacks+n+baiot                      |\n",
        "| Heart Disease                                | https://archive.ics.uci.edu/dataset/45/heart+disease                                                 |\n",
        "| Human Activity Recognition Using Smartphones | https://archive.ics.uci.edu/dataset/240/human+activity+recognition+using+smartphones                 |\n",
        "| Wine QUality                                 | https://archive.ics.uci.edu/dataset/186/wine+quality                                                 |\n",
        "| Terrorism_in_world                           | https://www.kaggle.com/datasets/willianoliveiragibin/terrorism-in-world                              |\n",
        "| Telecom Stats                                | https://www.kaggle.com/datasets/willianoliveiragibin/telecom-stats                                   |\n",
        "| Multiple Disease Prediction                  | https://www.kaggle.com/datasets/ehababoelnaga/multiple-disease-prediction                            |"
      ]
    },
    {
      "cell_type": "markdown",
      "metadata": {
        "id": "bLQZ2udUUQ44"
      },
      "source": [
        "# II. Pandas\n",
        " * Documentation and resources\n",
        "     * https://pandas.pydata.org/pandas-docs/stable/\n",
        "     * https://www.kaggle.com/learn/pandas\n",
        "     * https://github.com/guipsamora/pandas_exercises"
      ]
    },
    {
      "cell_type": "code",
      "execution_count": 1,
      "metadata": {
        "id": "uHwpHpWmUQ45"
      },
      "outputs": [],
      "source": [
        "import pandas as pd\n",
        "import numpy as np"
      ]
    },
    {
      "cell_type": "markdown",
      "metadata": {
        "id": "QAbd7luXUQ47"
      },
      "source": [
        "## 1. Pandas objects / Obiecte în Pandas\n",
        " * DataFrame (used for tabular data /  pentru date tabelare)\n",
        " * Series  (used for sequences, e.g. timeseries / pentru secvențe de valori, e.g. serii de timp)"
      ]
    },
    {
      "cell_type": "markdown",
      "metadata": {
        "id": "EuCUN8eKUQ47"
      },
      "source": [
        "### 1.1. DataFrame\n",
        "\n",
        " * DataFrame = matrix of data (row = instance, column = attribute) / tabel bidimensional (linie = instanță, coloană = atribut)\n",
        " * Constructing a dataframe / construirea explicită a unui dataframe\n",
        "   * pd.DataFrame(dictionary) -  the content is specified as a Python dictionary (key = attribute name, values = all attribute values)"
      ]
    },
    {
      "cell_type": "code",
      "execution_count": 2,
      "metadata": {
        "id": "CMLUsPb-UQ48"
      },
      "outputs": [],
      "source": [
        "set1 = pd.DataFrame({'Product':['water','milk'],'price':[5,10]})"
      ]
    },
    {
      "cell_type": "code",
      "execution_count": 3,
      "metadata": {
        "id": "q6s1BGpiUQ48",
        "outputId": "a9969100-fd7d-41b4-c95e-98a0f29d7879"
      },
      "outputs": [
        {
          "data": {
            "text/html": [
              "<div>\n",
              "<style scoped>\n",
              "    .dataframe tbody tr th:only-of-type {\n",
              "        vertical-align: middle;\n",
              "    }\n",
              "\n",
              "    .dataframe tbody tr th {\n",
              "        vertical-align: top;\n",
              "    }\n",
              "\n",
              "    .dataframe thead th {\n",
              "        text-align: right;\n",
              "    }\n",
              "</style>\n",
              "<table border=\"1\" class=\"dataframe\">\n",
              "  <thead>\n",
              "    <tr style=\"text-align: right;\">\n",
              "      <th></th>\n",
              "      <th>Product</th>\n",
              "      <th>price</th>\n",
              "    </tr>\n",
              "  </thead>\n",
              "  <tbody>\n",
              "    <tr>\n",
              "      <th>0</th>\n",
              "      <td>water</td>\n",
              "      <td>5</td>\n",
              "    </tr>\n",
              "    <tr>\n",
              "      <th>1</th>\n",
              "      <td>milk</td>\n",
              "      <td>10</td>\n",
              "    </tr>\n",
              "  </tbody>\n",
              "</table>\n",
              "</div>"
            ],
            "text/plain": [
              "  Product  price\n",
              "0   water      5\n",
              "1    milk     10"
            ]
          },
          "execution_count": 3,
          "metadata": {},
          "output_type": "execute_result"
        }
      ],
      "source": [
        "set1"
      ]
    },
    {
      "cell_type": "code",
      "execution_count": 4,
      "metadata": {
        "id": "MTxXjW2bUQ49",
        "outputId": "c4665590-d906-429f-cb3b-55363cd59c27"
      },
      "outputs": [
        {
          "data": {
            "text/plain": [
              "0    water\n",
              "1     milk\n",
              "Name: Product, dtype: object"
            ]
          },
          "execution_count": 4,
          "metadata": {},
          "output_type": "execute_result"
        }
      ],
      "source": [
        "# visualizing the values of an attribute\n",
        "set1.Product"
      ]
    },
    {
      "cell_type": "code",
      "execution_count": 5,
      "metadata": {
        "id": "-SjKujVTUQ4-",
        "outputId": "4ca85b8b-46e8-4c5d-e95e-6c5172fc6855"
      },
      "outputs": [
        {
          "data": {
            "text/plain": [
              "10"
            ]
          },
          "execution_count": 5,
          "metadata": {},
          "output_type": "execute_result"
        }
      ],
      "source": [
        "# accessing the value of an attribute corresponding to an instance\n",
        "set1.price[1]"
      ]
    },
    {
      "cell_type": "markdown",
      "metadata": {
        "id": "9Fb0z4FrUQ4-"
      },
      "source": [
        "### 1.2. Series\n",
        " * Series:  sequence of values (similar to a list) / secvență de valori (similară unei liste)\n",
        " * Constructing a series  / construirea explicită a unei serii\n",
        "     * pd.Series(list)\n",
        " * Remark:  a column in a DataFrame is a Series / o coloană dintr-un dataframe este o serie"
      ]
    },
    {
      "cell_type": "code",
      "execution_count": 6,
      "metadata": {
        "id": "y_ziNOlkUQ4-"
      },
      "outputs": [],
      "source": [
        "# constructing a series\n",
        "s1 = pd.Series([2,-3, 4, 6, -1])"
      ]
    },
    {
      "cell_type": "code",
      "execution_count": 7,
      "metadata": {
        "id": "4jO3hrZ2UQ4_",
        "outputId": "33d0f676-f3fa-4eb8-f7a4-399d455f46fc"
      },
      "outputs": [
        {
          "data": {
            "text/plain": [
              "0    2\n",
              "1   -3\n",
              "2    4\n",
              "3    6\n",
              "4   -1\n",
              "dtype: int64"
            ]
          },
          "execution_count": 7,
          "metadata": {},
          "output_type": "execute_result"
        }
      ],
      "source": [
        "s1"
      ]
    },
    {
      "cell_type": "code",
      "execution_count": 8,
      "metadata": {
        "id": "x70fI0buUQ4_",
        "outputId": "f22d9d1f-8451-40d6-c1de-0e2808d49eed"
      },
      "outputs": [
        {
          "data": {
            "text/plain": [
              "4"
            ]
          },
          "execution_count": 8,
          "metadata": {},
          "output_type": "execute_result"
        }
      ],
      "source": [
        "# accessing an element from a series = similar to Python lists\n",
        "s1[2]"
      ]
    },
    {
      "cell_type": "code",
      "execution_count": 9,
      "metadata": {
        "id": "vr6D_vKXUQ4_",
        "outputId": "26c07256-7cef-494c-be9e-20cc67d6a6bf"
      },
      "outputs": [
        {
          "data": {
            "text/plain": [
              "2    4\n",
              "3    6\n",
              "dtype: int64"
            ]
          },
          "execution_count": 9,
          "metadata": {},
          "output_type": "execute_result"
        }
      ],
      "source": [
        "s1[2:4]"
      ]
    },
    {
      "cell_type": "code",
      "execution_count": 10,
      "metadata": {
        "id": "Cil3BNplUQ5A"
      },
      "outputs": [],
      "source": [
        "# asigning names to instances\n",
        "s2 = pd.Series([2,-3, 4, 6, -1], index=[\"Monday\",\"Tuesday\",\"Wednesday\",\"Thursday\",\"Friday\"])"
      ]
    },
    {
      "cell_type": "code",
      "execution_count": 11,
      "metadata": {
        "id": "TNU1MZ-iUQ5A",
        "outputId": "159861aa-06de-44bc-d4d0-91a1b44fe112",
        "scrolled": true
      },
      "outputs": [
        {
          "data": {
            "text/plain": [
              "Monday       2\n",
              "Tuesday     -3\n",
              "Wednesday    4\n",
              "Thursday     6\n",
              "Friday      -1\n",
              "dtype: int64"
            ]
          },
          "execution_count": 11,
          "metadata": {},
          "output_type": "execute_result"
        }
      ],
      "source": [
        "s2"
      ]
    },
    {
      "cell_type": "code",
      "execution_count": 12,
      "metadata": {
        "id": "OmhToj-jUQ5A",
        "outputId": "fff3ca07-afa0-43dc-ba59-41f67428da9c"
      },
      "outputs": [
        {
          "data": {
            "text/plain": [
              "2"
            ]
          },
          "execution_count": 12,
          "metadata": {},
          "output_type": "execute_result"
        }
      ],
      "source": [
        "# indexing using the instance name\n",
        "s2.Monday"
      ]
    },
    {
      "cell_type": "markdown",
      "metadata": {
        "id": "ugb3Z9IOUQ5A"
      },
      "source": [
        "## 2. Reading data from a file / Citirea datelor dintr-un fișier\n",
        " * reading from csv files:\n",
        "     * pd.read_csv(file, options)\n",
        " * other data sources: excel, sql, json ...\n",
        "     * pd.read_excel, pd.read_sql etc"
      ]
    },
    {
      "cell_type": "code",
      "execution_count": 13,
      "metadata": {
        "id": "_KkaAyVuUQ5B"
      },
      "outputs": [],
      "source": [
        "url = 'https://raw.githubusercontent.com/justmarkham/DAT8/master/data/chipotle.tsv'\n",
        "\n",
        "set2 = pd.read_csv(url, sep = '\\t')"
      ]
    },
    {
      "cell_type": "code",
      "execution_count": 14,
      "metadata": {
        "id": "C58sYvlDUQ5B",
        "outputId": "07e2d3e6-2ce8-4500-9f60-dfb512b2765c"
      },
      "outputs": [
        {
          "data": {
            "text/plain": [
              "(4622, 5)"
            ]
          },
          "execution_count": 14,
          "metadata": {},
          "output_type": "execute_result"
        }
      ],
      "source": [
        "# find the size of the dataframe\n",
        "set2.shape"
      ]
    },
    {
      "cell_type": "code",
      "execution_count": 15,
      "metadata": {
        "id": "wrA_d9ZUUQ5B",
        "outputId": "0c232f73-6c4d-4c3d-92b8-050887a7aafd",
        "scrolled": true
      },
      "outputs": [
        {
          "data": {
            "text/html": [
              "<div>\n",
              "<style scoped>\n",
              "    .dataframe tbody tr th:only-of-type {\n",
              "        vertical-align: middle;\n",
              "    }\n",
              "\n",
              "    .dataframe tbody tr th {\n",
              "        vertical-align: top;\n",
              "    }\n",
              "\n",
              "    .dataframe thead th {\n",
              "        text-align: right;\n",
              "    }\n",
              "</style>\n",
              "<table border=\"1\" class=\"dataframe\">\n",
              "  <thead>\n",
              "    <tr style=\"text-align: right;\">\n",
              "      <th></th>\n",
              "      <th>order_id</th>\n",
              "      <th>quantity</th>\n",
              "      <th>item_name</th>\n",
              "      <th>choice_description</th>\n",
              "      <th>item_price</th>\n",
              "    </tr>\n",
              "  </thead>\n",
              "  <tbody>\n",
              "    <tr>\n",
              "      <th>0</th>\n",
              "      <td>1</td>\n",
              "      <td>1</td>\n",
              "      <td>Chips and Fresh Tomato Salsa</td>\n",
              "      <td>NaN</td>\n",
              "      <td>$2.39</td>\n",
              "    </tr>\n",
              "    <tr>\n",
              "      <th>1</th>\n",
              "      <td>1</td>\n",
              "      <td>1</td>\n",
              "      <td>Izze</td>\n",
              "      <td>[Clementine]</td>\n",
              "      <td>$3.39</td>\n",
              "    </tr>\n",
              "    <tr>\n",
              "      <th>2</th>\n",
              "      <td>1</td>\n",
              "      <td>1</td>\n",
              "      <td>Nantucket Nectar</td>\n",
              "      <td>[Apple]</td>\n",
              "      <td>$3.39</td>\n",
              "    </tr>\n",
              "    <tr>\n",
              "      <th>3</th>\n",
              "      <td>1</td>\n",
              "      <td>1</td>\n",
              "      <td>Chips and Tomatillo-Green Chili Salsa</td>\n",
              "      <td>NaN</td>\n",
              "      <td>$2.39</td>\n",
              "    </tr>\n",
              "    <tr>\n",
              "      <th>4</th>\n",
              "      <td>2</td>\n",
              "      <td>2</td>\n",
              "      <td>Chicken Bowl</td>\n",
              "      <td>[Tomatillo-Red Chili Salsa (Hot), [Black Beans...</td>\n",
              "      <td>$16.98</td>\n",
              "    </tr>\n",
              "  </tbody>\n",
              "</table>\n",
              "</div>"
            ],
            "text/plain": [
              "   order_id  quantity                              item_name  \\\n",
              "0         1         1           Chips and Fresh Tomato Salsa   \n",
              "1         1         1                                   Izze   \n",
              "2         1         1                       Nantucket Nectar   \n",
              "3         1         1  Chips and Tomatillo-Green Chili Salsa   \n",
              "4         2         2                           Chicken Bowl   \n",
              "\n",
              "                                  choice_description item_price  \n",
              "0                                                NaN     $2.39   \n",
              "1                                       [Clementine]     $3.39   \n",
              "2                                            [Apple]     $3.39   \n",
              "3                                                NaN     $2.39   \n",
              "4  [Tomatillo-Red Chili Salsa (Hot), [Black Beans...    $16.98   "
            ]
          },
          "execution_count": 15,
          "metadata": {},
          "output_type": "execute_result"
        }
      ],
      "source": [
        "# visualizing the first instances (head)\n",
        "set2.head()"
      ]
    },
    {
      "cell_type": "code",
      "execution_count": 16,
      "metadata": {
        "id": "VEgaYj2hUQ5B",
        "outputId": "a94d1a25-1d57-44c1-fe15-97db26722ad9"
      },
      "outputs": [
        {
          "data": {
            "text/html": [
              "<div>\n",
              "<style scoped>\n",
              "    .dataframe tbody tr th:only-of-type {\n",
              "        vertical-align: middle;\n",
              "    }\n",
              "\n",
              "    .dataframe tbody tr th {\n",
              "        vertical-align: top;\n",
              "    }\n",
              "\n",
              "    .dataframe thead th {\n",
              "        text-align: right;\n",
              "    }\n",
              "</style>\n",
              "<table border=\"1\" class=\"dataframe\">\n",
              "  <thead>\n",
              "    <tr style=\"text-align: right;\">\n",
              "      <th></th>\n",
              "      <th>order_id</th>\n",
              "      <th>quantity</th>\n",
              "      <th>item_name</th>\n",
              "      <th>choice_description</th>\n",
              "      <th>item_price</th>\n",
              "    </tr>\n",
              "  </thead>\n",
              "  <tbody>\n",
              "    <tr>\n",
              "      <th>4617</th>\n",
              "      <td>1833</td>\n",
              "      <td>1</td>\n",
              "      <td>Steak Burrito</td>\n",
              "      <td>[Fresh Tomato Salsa, [Rice, Black Beans, Sour ...</td>\n",
              "      <td>$11.75</td>\n",
              "    </tr>\n",
              "    <tr>\n",
              "      <th>4618</th>\n",
              "      <td>1833</td>\n",
              "      <td>1</td>\n",
              "      <td>Steak Burrito</td>\n",
              "      <td>[Fresh Tomato Salsa, [Rice, Sour Cream, Cheese...</td>\n",
              "      <td>$11.75</td>\n",
              "    </tr>\n",
              "    <tr>\n",
              "      <th>4619</th>\n",
              "      <td>1834</td>\n",
              "      <td>1</td>\n",
              "      <td>Chicken Salad Bowl</td>\n",
              "      <td>[Fresh Tomato Salsa, [Fajita Vegetables, Pinto...</td>\n",
              "      <td>$11.25</td>\n",
              "    </tr>\n",
              "    <tr>\n",
              "      <th>4620</th>\n",
              "      <td>1834</td>\n",
              "      <td>1</td>\n",
              "      <td>Chicken Salad Bowl</td>\n",
              "      <td>[Fresh Tomato Salsa, [Fajita Vegetables, Lettu...</td>\n",
              "      <td>$8.75</td>\n",
              "    </tr>\n",
              "    <tr>\n",
              "      <th>4621</th>\n",
              "      <td>1834</td>\n",
              "      <td>1</td>\n",
              "      <td>Chicken Salad Bowl</td>\n",
              "      <td>[Fresh Tomato Salsa, [Fajita Vegetables, Pinto...</td>\n",
              "      <td>$8.75</td>\n",
              "    </tr>\n",
              "  </tbody>\n",
              "</table>\n",
              "</div>"
            ],
            "text/plain": [
              "      order_id  quantity           item_name  \\\n",
              "4617      1833         1       Steak Burrito   \n",
              "4618      1833         1       Steak Burrito   \n",
              "4619      1834         1  Chicken Salad Bowl   \n",
              "4620      1834         1  Chicken Salad Bowl   \n",
              "4621      1834         1  Chicken Salad Bowl   \n",
              "\n",
              "                                     choice_description item_price  \n",
              "4617  [Fresh Tomato Salsa, [Rice, Black Beans, Sour ...    $11.75   \n",
              "4618  [Fresh Tomato Salsa, [Rice, Sour Cream, Cheese...    $11.75   \n",
              "4619  [Fresh Tomato Salsa, [Fajita Vegetables, Pinto...    $11.25   \n",
              "4620  [Fresh Tomato Salsa, [Fajita Vegetables, Lettu...     $8.75   \n",
              "4621  [Fresh Tomato Salsa, [Fajita Vegetables, Pinto...     $8.75   "
            ]
          },
          "execution_count": 16,
          "metadata": {},
          "output_type": "execute_result"
        }
      ],
      "source": [
        "# visualizing the last instances (tail)\n",
        "set2.tail()"
      ]
    },
    {
      "cell_type": "code",
      "execution_count": 17,
      "metadata": {
        "id": "nnvJPM04UQ5B",
        "outputId": "d36dbfa9-bfa3-4804-c649-493d384c100d",
        "scrolled": true
      },
      "outputs": [
        {
          "data": {
            "text/plain": [
              "0                                                     NaN\n",
              "1                                            [Clementine]\n",
              "2                                                 [Apple]\n",
              "3                                                     NaN\n",
              "4       [Tomatillo-Red Chili Salsa (Hot), [Black Beans...\n",
              "                              ...                        \n",
              "4617    [Fresh Tomato Salsa, [Rice, Black Beans, Sour ...\n",
              "4618    [Fresh Tomato Salsa, [Rice, Sour Cream, Cheese...\n",
              "4619    [Fresh Tomato Salsa, [Fajita Vegetables, Pinto...\n",
              "4620    [Fresh Tomato Salsa, [Fajita Vegetables, Lettu...\n",
              "4621    [Fresh Tomato Salsa, [Fajita Vegetables, Pinto...\n",
              "Name: choice_description, Length: 4622, dtype: object"
            ]
          },
          "execution_count": 17,
          "metadata": {},
          "output_type": "execute_result"
        }
      ],
      "source": [
        "# accessing a column by the name of the attribute\n",
        "set2.choice_description"
      ]
    },
    {
      "cell_type": "code",
      "execution_count": 18,
      "metadata": {
        "id": "3FZ__nLwUQ5C",
        "outputId": "a508f297-71d8-4d90-f86b-2740f2792b7f"
      },
      "outputs": [
        {
          "data": {
            "text/plain": [
              "'[Tomatillo-Red Chili Salsa (Hot), [Black Beans, Rice, Cheese, Sour Cream]]'"
            ]
          },
          "execution_count": 18,
          "metadata": {},
          "output_type": "execute_result"
        }
      ],
      "source": [
        "# each column can be interpreted as a series - the components can be accessed using indices\n",
        "set2.choice_description[4]"
      ]
    },
    {
      "cell_type": "code",
      "execution_count": 19,
      "metadata": {
        "id": "zvam4sSqUQ5C",
        "outputId": "104badee-b810-4638-c724-3f7b95aae1cf"
      },
      "outputs": [
        {
          "data": {
            "text/plain": [
              "0                                                     NaN\n",
              "1                                            [Clementine]\n",
              "2                                                 [Apple]\n",
              "3                                                     NaN\n",
              "4       [Tomatillo-Red Chili Salsa (Hot), [Black Beans...\n",
              "                              ...                        \n",
              "4617    [Fresh Tomato Salsa, [Rice, Black Beans, Sour ...\n",
              "4618    [Fresh Tomato Salsa, [Rice, Sour Cream, Cheese...\n",
              "4619    [Fresh Tomato Salsa, [Fajita Vegetables, Pinto...\n",
              "4620    [Fresh Tomato Salsa, [Fajita Vegetables, Lettu...\n",
              "4621    [Fresh Tomato Salsa, [Fajita Vegetables, Pinto...\n",
              "Name: choice_description, Length: 4622, dtype: object"
            ]
          },
          "execution_count": 19,
          "metadata": {},
          "output_type": "execute_result"
        }
      ],
      "source": [
        "# indexing using the name of the attribute (useful when the name of the attributes contains spaces)\n",
        "set2['choice_description']"
      ]
    },
    {
      "cell_type": "markdown",
      "metadata": {
        "id": "jiomfEOsUQ5C"
      },
      "source": [
        "## Exercise 2 / Exercitiu 2:\n",
        "1. Load a CSV file (from those selected at Ex. 1) / Incarcati un fisier de date (dintre cele de la Ex 1)\n",
        "1. Identify the attributes / Identificati atributele\n",
        "1. Find the number of instances and attributes / Stabiliti numarul de instante si de atribute"
      ]
    },
    {
      "cell_type": "code",
      "execution_count": 20,
      "metadata": {},
      "outputs": [
        {
          "name": "stdout",
          "output_type": "stream",
          "text": [
            "Column Names:\n",
            "LOCATION\n",
            "Country\n",
            "VAR\n",
            "Variable \n",
            "TIME\n",
            "Time\n",
            "Unit Code\n",
            "Unit\n",
            "PowerCode \n",
            "PowerCode\n",
            "Reference \n",
            "Reference .1\n",
            "Value\n",
            "Number of instances: 398\n",
            "Number of attributes: 13\n"
          ]
        }
      ],
      "source": [
        "# load csv file\n",
        "telecom_stats = pd.read_csv('./datasets/lab1/telecom_stats.csv')\n",
        "\n",
        "# identify attributes\n",
        "print('Column Names:')\n",
        "for col in telecom_stats.columns:\n",
        "    print(col)\n",
        "\n",
        "# Find the number of instances and attributes\n",
        "print(f'Number of instances: {telecom_stats.shape[0]}')\n",
        "print(f'Number of attributes: {telecom_stats.shape[1]}')"
      ]
    },
    {
      "cell_type": "markdown",
      "metadata": {
        "id": "4VZTXsW6UQ5C"
      },
      "source": [
        "## 3. Saving the dataframe in a csv file / Salvarea datelor într-un fișier\n",
        " * dataframe.to_csv('fileName')\n",
        " * Rmk:  the dataframes can be saved in another formats (e.g. excel)"
      ]
    },
    {
      "cell_type": "code",
      "execution_count": 21,
      "metadata": {
        "id": "hZ9q9EyQUQ5C"
      },
      "outputs": [],
      "source": [
        "set2.to_csv('set2.csv')"
      ]
    },
    {
      "cell_type": "code",
      "execution_count": 22,
      "metadata": {
        "id": "EnjVcy-RUQ5C",
        "scrolled": true
      },
      "outputs": [],
      "source": [
        "# saving without the index column\n",
        "set2.to_csv('set2c.csv',index=False)"
      ]
    },
    {
      "cell_type": "markdown",
      "metadata": {
        "id": "n1w1HDC7UQ5C"
      },
      "source": [
        "## 4. Selecting elements/parts from data frames / Variante de accesare a elementelor dintr-un dataframe\n",
        " * Index-based search: iloc\n",
        " * Label-based search: loc"
      ]
    },
    {
      "cell_type": "markdown",
      "metadata": {
        "id": "EMjkQBDoUQ5D"
      },
      "source": [
        "### 4.1.  Index-based search / Căutare bazată pe index"
      ]
    },
    {
      "cell_type": "code",
      "execution_count": 23,
      "metadata": {
        "id": "Cx5pT6F0UQ5D"
      },
      "outputs": [],
      "source": [
        "# accessing a given instance by index\n",
        "\n",
        "inst4 = set2.iloc[4]"
      ]
    },
    {
      "cell_type": "code",
      "execution_count": 24,
      "metadata": {
        "id": "LmIa4pSXUQ5D",
        "outputId": "53d8297b-600c-4f8e-8bd1-2bda3a530f3e"
      },
      "outputs": [
        {
          "data": {
            "text/plain": [
              "order_id                                                              2\n",
              "quantity                                                              2\n",
              "item_name                                                  Chicken Bowl\n",
              "choice_description    [Tomatillo-Red Chili Salsa (Hot), [Black Beans...\n",
              "item_price                                                      $16.98 \n",
              "Name: 4, dtype: object"
            ]
          },
          "execution_count": 24,
          "metadata": {},
          "output_type": "execute_result"
        }
      ],
      "source": [
        "# each instance is structured as a dictionary\n",
        "inst4"
      ]
    },
    {
      "cell_type": "code",
      "execution_count": 25,
      "metadata": {
        "id": "nalbMA8rUQ5D",
        "outputId": "b6de7602-5e7b-4fc4-b2ea-32e587460669"
      },
      "outputs": [
        {
          "data": {
            "text/plain": [
              "2"
            ]
          },
          "execution_count": 25,
          "metadata": {},
          "output_type": "execute_result"
        }
      ],
      "source": [
        "inst4.quantity"
      ]
    },
    {
      "cell_type": "code",
      "execution_count": 26,
      "metadata": {
        "id": "YMo4cYddUQ5D",
        "outputId": "b2516099-3949-462d-c3f4-8cb7390e5b44"
      },
      "outputs": [
        {
          "data": {
            "text/plain": [
              "2"
            ]
          },
          "execution_count": 26,
          "metadata": {},
          "output_type": "execute_result"
        }
      ],
      "source": [
        "inst4['quantity']"
      ]
    },
    {
      "cell_type": "code",
      "execution_count": 27,
      "metadata": {
        "id": "PuXyvjQeUQ5E",
        "outputId": "c89ea570-6fa0-4af7-f21d-7ff1805e8aee"
      },
      "outputs": [
        {
          "data": {
            "text/html": [
              "<div>\n",
              "<style scoped>\n",
              "    .dataframe tbody tr th:only-of-type {\n",
              "        vertical-align: middle;\n",
              "    }\n",
              "\n",
              "    .dataframe tbody tr th {\n",
              "        vertical-align: top;\n",
              "    }\n",
              "\n",
              "    .dataframe thead th {\n",
              "        text-align: right;\n",
              "    }\n",
              "</style>\n",
              "<table border=\"1\" class=\"dataframe\">\n",
              "  <thead>\n",
              "    <tr style=\"text-align: right;\">\n",
              "      <th></th>\n",
              "      <th>order_id</th>\n",
              "      <th>quantity</th>\n",
              "      <th>item_name</th>\n",
              "      <th>choice_description</th>\n",
              "      <th>item_price</th>\n",
              "    </tr>\n",
              "  </thead>\n",
              "  <tbody>\n",
              "    <tr>\n",
              "      <th>3</th>\n",
              "      <td>1</td>\n",
              "      <td>1</td>\n",
              "      <td>Chips and Tomatillo-Green Chili Salsa</td>\n",
              "      <td>NaN</td>\n",
              "      <td>$2.39</td>\n",
              "    </tr>\n",
              "    <tr>\n",
              "      <th>4</th>\n",
              "      <td>2</td>\n",
              "      <td>2</td>\n",
              "      <td>Chicken Bowl</td>\n",
              "      <td>[Tomatillo-Red Chili Salsa (Hot), [Black Beans...</td>\n",
              "      <td>$16.98</td>\n",
              "    </tr>\n",
              "    <tr>\n",
              "      <th>5</th>\n",
              "      <td>3</td>\n",
              "      <td>1</td>\n",
              "      <td>Chicken Bowl</td>\n",
              "      <td>[Fresh Tomato Salsa (Mild), [Rice, Cheese, Sou...</td>\n",
              "      <td>$10.98</td>\n",
              "    </tr>\n",
              "    <tr>\n",
              "      <th>6</th>\n",
              "      <td>3</td>\n",
              "      <td>1</td>\n",
              "      <td>Side of Chips</td>\n",
              "      <td>NaN</td>\n",
              "      <td>$1.69</td>\n",
              "    </tr>\n",
              "  </tbody>\n",
              "</table>\n",
              "</div>"
            ],
            "text/plain": [
              "   order_id  quantity                              item_name  \\\n",
              "3         1         1  Chips and Tomatillo-Green Chili Salsa   \n",
              "4         2         2                           Chicken Bowl   \n",
              "5         3         1                           Chicken Bowl   \n",
              "6         3         1                          Side of Chips   \n",
              "\n",
              "                                  choice_description item_price  \n",
              "3                                                NaN     $2.39   \n",
              "4  [Tomatillo-Red Chili Salsa (Hot), [Black Beans...    $16.98   \n",
              "5  [Fresh Tomato Salsa (Mild), [Rice, Cheese, Sou...    $10.98   \n",
              "6                                                NaN     $1.69   "
            ]
          },
          "execution_count": 27,
          "metadata": {},
          "output_type": "execute_result"
        }
      ],
      "source": [
        "# subset of instances\n",
        "set2.iloc[3:7]"
      ]
    },
    {
      "cell_type": "code",
      "execution_count": 28,
      "metadata": {
        "id": "kmgmObEQUQ5E",
        "outputId": "4a2c43c7-6b92-4c31-fa72-bf1b80333a1f",
        "scrolled": true
      },
      "outputs": [
        {
          "data": {
            "text/html": [
              "<div>\n",
              "<style scoped>\n",
              "    .dataframe tbody tr th:only-of-type {\n",
              "        vertical-align: middle;\n",
              "    }\n",
              "\n",
              "    .dataframe tbody tr th {\n",
              "        vertical-align: top;\n",
              "    }\n",
              "\n",
              "    .dataframe thead th {\n",
              "        text-align: right;\n",
              "    }\n",
              "</style>\n",
              "<table border=\"1\" class=\"dataframe\">\n",
              "  <thead>\n",
              "    <tr style=\"text-align: right;\">\n",
              "      <th></th>\n",
              "      <th>quantity</th>\n",
              "      <th>item_name</th>\n",
              "    </tr>\n",
              "  </thead>\n",
              "  <tbody>\n",
              "    <tr>\n",
              "      <th>3</th>\n",
              "      <td>1</td>\n",
              "      <td>Chips and Tomatillo-Green Chili Salsa</td>\n",
              "    </tr>\n",
              "    <tr>\n",
              "      <th>4</th>\n",
              "      <td>2</td>\n",
              "      <td>Chicken Bowl</td>\n",
              "    </tr>\n",
              "    <tr>\n",
              "      <th>5</th>\n",
              "      <td>1</td>\n",
              "      <td>Chicken Bowl</td>\n",
              "    </tr>\n",
              "    <tr>\n",
              "      <th>6</th>\n",
              "      <td>1</td>\n",
              "      <td>Side of Chips</td>\n",
              "    </tr>\n",
              "  </tbody>\n",
              "</table>\n",
              "</div>"
            ],
            "text/plain": [
              "   quantity                              item_name\n",
              "3         1  Chips and Tomatillo-Green Chili Salsa\n",
              "4         2                           Chicken Bowl\n",
              "5         1                           Chicken Bowl\n",
              "6         1                          Side of Chips"
            ]
          },
          "execution_count": 28,
          "metadata": {},
          "output_type": "execute_result"
        }
      ],
      "source": [
        "# sub frame (subset of instances and subset of attributes)\n",
        "set2.iloc[3:7,1:3]"
      ]
    },
    {
      "cell_type": "markdown",
      "metadata": {
        "id": "7i5c3EnGUQ5I"
      },
      "source": [
        "### 4.2. Label-based search / Căutare bazată pe etichetă\n",
        "\n",
        " * More details:  https://www.kaggle.com/residentmario/indexing-selecting-assigning"
      ]
    },
    {
      "cell_type": "code",
      "execution_count": 29,
      "metadata": {
        "id": "l1csqj7WUQ5J",
        "outputId": "411cdbeb-8349-4fe9-c80a-35dffa3bcbf5",
        "scrolled": true
      },
      "outputs": [
        {
          "data": {
            "text/html": [
              "<div>\n",
              "<style scoped>\n",
              "    .dataframe tbody tr th:only-of-type {\n",
              "        vertical-align: middle;\n",
              "    }\n",
              "\n",
              "    .dataframe tbody tr th {\n",
              "        vertical-align: top;\n",
              "    }\n",
              "\n",
              "    .dataframe thead th {\n",
              "        text-align: right;\n",
              "    }\n",
              "</style>\n",
              "<table border=\"1\" class=\"dataframe\">\n",
              "  <thead>\n",
              "    <tr style=\"text-align: right;\">\n",
              "      <th></th>\n",
              "      <th>quantity</th>\n",
              "      <th>item_name</th>\n",
              "    </tr>\n",
              "  </thead>\n",
              "  <tbody>\n",
              "    <tr>\n",
              "      <th>3</th>\n",
              "      <td>1</td>\n",
              "      <td>Chips and Tomatillo-Green Chili Salsa</td>\n",
              "    </tr>\n",
              "    <tr>\n",
              "      <th>4</th>\n",
              "      <td>2</td>\n",
              "      <td>Chicken Bowl</td>\n",
              "    </tr>\n",
              "    <tr>\n",
              "      <th>5</th>\n",
              "      <td>1</td>\n",
              "      <td>Chicken Bowl</td>\n",
              "    </tr>\n",
              "    <tr>\n",
              "      <th>6</th>\n",
              "      <td>1</td>\n",
              "      <td>Side of Chips</td>\n",
              "    </tr>\n",
              "    <tr>\n",
              "      <th>7</th>\n",
              "      <td>1</td>\n",
              "      <td>Steak Burrito</td>\n",
              "    </tr>\n",
              "  </tbody>\n",
              "</table>\n",
              "</div>"
            ],
            "text/plain": [
              "   quantity                              item_name\n",
              "3         1  Chips and Tomatillo-Green Chili Salsa\n",
              "4         2                           Chicken Bowl\n",
              "5         1                           Chicken Bowl\n",
              "6         1                          Side of Chips\n",
              "7         1                          Steak Burrito"
            ]
          },
          "execution_count": 29,
          "metadata": {},
          "output_type": "execute_result"
        }
      ],
      "source": [
        "# sub frame (subset of instances and subset of attributes - using attribute names)\n",
        "set2.loc[3:7,['quantity','item_name']]"
      ]
    },
    {
      "cell_type": "markdown",
      "metadata": {
        "id": "a2SZAKPCUQ5J"
      },
      "source": [
        "### 4.3. Value-based filtering  / Filtrare bazată pe valoare"
      ]
    },
    {
      "cell_type": "code",
      "execution_count": 30,
      "metadata": {
        "id": "yAdMlTQzUQ5J",
        "outputId": "e728bfd3-2bc2-4a86-bde1-4084a603b066"
      },
      "outputs": [
        {
          "data": {
            "text/html": [
              "<div>\n",
              "<style scoped>\n",
              "    .dataframe tbody tr th:only-of-type {\n",
              "        vertical-align: middle;\n",
              "    }\n",
              "\n",
              "    .dataframe tbody tr th {\n",
              "        vertical-align: top;\n",
              "    }\n",
              "\n",
              "    .dataframe thead th {\n",
              "        text-align: right;\n",
              "    }\n",
              "</style>\n",
              "<table border=\"1\" class=\"dataframe\">\n",
              "  <thead>\n",
              "    <tr style=\"text-align: right;\">\n",
              "      <th></th>\n",
              "      <th>order_id</th>\n",
              "      <th>quantity</th>\n",
              "      <th>item_name</th>\n",
              "      <th>choice_description</th>\n",
              "      <th>item_price</th>\n",
              "    </tr>\n",
              "  </thead>\n",
              "  <tbody>\n",
              "    <tr>\n",
              "      <th>4</th>\n",
              "      <td>2</td>\n",
              "      <td>2</td>\n",
              "      <td>Chicken Bowl</td>\n",
              "      <td>[Tomatillo-Red Chili Salsa (Hot), [Black Beans...</td>\n",
              "      <td>$16.98</td>\n",
              "    </tr>\n",
              "    <tr>\n",
              "      <th>5</th>\n",
              "      <td>3</td>\n",
              "      <td>1</td>\n",
              "      <td>Chicken Bowl</td>\n",
              "      <td>[Fresh Tomato Salsa (Mild), [Rice, Cheese, Sou...</td>\n",
              "      <td>$10.98</td>\n",
              "    </tr>\n",
              "    <tr>\n",
              "      <th>13</th>\n",
              "      <td>7</td>\n",
              "      <td>1</td>\n",
              "      <td>Chicken Bowl</td>\n",
              "      <td>[Fresh Tomato Salsa, [Fajita Vegetables, Rice,...</td>\n",
              "      <td>$11.25</td>\n",
              "    </tr>\n",
              "    <tr>\n",
              "      <th>19</th>\n",
              "      <td>10</td>\n",
              "      <td>1</td>\n",
              "      <td>Chicken Bowl</td>\n",
              "      <td>[Tomatillo Red Chili Salsa, [Fajita Vegetables...</td>\n",
              "      <td>$8.75</td>\n",
              "    </tr>\n",
              "    <tr>\n",
              "      <th>26</th>\n",
              "      <td>13</td>\n",
              "      <td>1</td>\n",
              "      <td>Chicken Bowl</td>\n",
              "      <td>[Roasted Chili Corn Salsa (Medium), [Pinto Bea...</td>\n",
              "      <td>$8.49</td>\n",
              "    </tr>\n",
              "    <tr>\n",
              "      <th>...</th>\n",
              "      <td>...</td>\n",
              "      <td>...</td>\n",
              "      <td>...</td>\n",
              "      <td>...</td>\n",
              "      <td>...</td>\n",
              "    </tr>\n",
              "    <tr>\n",
              "      <th>4590</th>\n",
              "      <td>1825</td>\n",
              "      <td>1</td>\n",
              "      <td>Chicken Bowl</td>\n",
              "      <td>[Roasted Chili Corn Salsa, [Rice, Black Beans,...</td>\n",
              "      <td>$11.25</td>\n",
              "    </tr>\n",
              "    <tr>\n",
              "      <th>4591</th>\n",
              "      <td>1825</td>\n",
              "      <td>1</td>\n",
              "      <td>Chicken Bowl</td>\n",
              "      <td>[Tomatillo Red Chili Salsa, [Rice, Black Beans...</td>\n",
              "      <td>$8.75</td>\n",
              "    </tr>\n",
              "    <tr>\n",
              "      <th>4595</th>\n",
              "      <td>1826</td>\n",
              "      <td>1</td>\n",
              "      <td>Chicken Bowl</td>\n",
              "      <td>[Tomatillo Green Chili Salsa, [Rice, Black Bea...</td>\n",
              "      <td>$8.75</td>\n",
              "    </tr>\n",
              "    <tr>\n",
              "      <th>4599</th>\n",
              "      <td>1827</td>\n",
              "      <td>1</td>\n",
              "      <td>Chicken Bowl</td>\n",
              "      <td>[Roasted Chili Corn Salsa, [Cheese, Lettuce]]</td>\n",
              "      <td>$8.75</td>\n",
              "    </tr>\n",
              "    <tr>\n",
              "      <th>4604</th>\n",
              "      <td>1828</td>\n",
              "      <td>1</td>\n",
              "      <td>Chicken Bowl</td>\n",
              "      <td>[Fresh Tomato Salsa, [Rice, Black Beans, Chees...</td>\n",
              "      <td>$8.75</td>\n",
              "    </tr>\n",
              "  </tbody>\n",
              "</table>\n",
              "<p>726 rows × 5 columns</p>\n",
              "</div>"
            ],
            "text/plain": [
              "      order_id  quantity     item_name  \\\n",
              "4            2         2  Chicken Bowl   \n",
              "5            3         1  Chicken Bowl   \n",
              "13           7         1  Chicken Bowl   \n",
              "19          10         1  Chicken Bowl   \n",
              "26          13         1  Chicken Bowl   \n",
              "...        ...       ...           ...   \n",
              "4590      1825         1  Chicken Bowl   \n",
              "4591      1825         1  Chicken Bowl   \n",
              "4595      1826         1  Chicken Bowl   \n",
              "4599      1827         1  Chicken Bowl   \n",
              "4604      1828         1  Chicken Bowl   \n",
              "\n",
              "                                     choice_description item_price  \n",
              "4     [Tomatillo-Red Chili Salsa (Hot), [Black Beans...    $16.98   \n",
              "5     [Fresh Tomato Salsa (Mild), [Rice, Cheese, Sou...    $10.98   \n",
              "13    [Fresh Tomato Salsa, [Fajita Vegetables, Rice,...    $11.25   \n",
              "19    [Tomatillo Red Chili Salsa, [Fajita Vegetables...     $8.75   \n",
              "26    [Roasted Chili Corn Salsa (Medium), [Pinto Bea...     $8.49   \n",
              "...                                                 ...        ...  \n",
              "4590  [Roasted Chili Corn Salsa, [Rice, Black Beans,...    $11.25   \n",
              "4591  [Tomatillo Red Chili Salsa, [Rice, Black Beans...     $8.75   \n",
              "4595  [Tomatillo Green Chili Salsa, [Rice, Black Bea...     $8.75   \n",
              "4599      [Roasted Chili Corn Salsa, [Cheese, Lettuce]]     $8.75   \n",
              "4604  [Fresh Tomato Salsa, [Rice, Black Beans, Chees...     $8.75   \n",
              "\n",
              "[726 rows x 5 columns]"
            ]
          },
          "execution_count": 30,
          "metadata": {},
          "output_type": "execute_result"
        }
      ],
      "source": [
        "# Variant 1: conditioned indexing;  see https://pandas.pydata.org/pandas-docs/stable/getting_started/intro_tutorials/03_subset_data.html for details\n",
        "set2[set2['item_name']=='Chicken Bowl']"
      ]
    },
    {
      "cell_type": "code",
      "execution_count": 31,
      "metadata": {
        "id": "fsUlo_JDUQ5J"
      },
      "outputs": [],
      "source": [
        "# Variant 2: usage of function loc\n",
        "selectCB = set2.loc[set2.item_name == 'Chicken Bowl']"
      ]
    },
    {
      "cell_type": "code",
      "execution_count": 32,
      "metadata": {
        "id": "iZKlaw1sUQ5K",
        "outputId": "094692c9-ec24-4f08-9727-e37612025a9e"
      },
      "outputs": [
        {
          "data": {
            "text/plain": [
              "(726, 5)"
            ]
          },
          "execution_count": 32,
          "metadata": {},
          "output_type": "execute_result"
        }
      ],
      "source": [
        "selectCB.shape"
      ]
    },
    {
      "cell_type": "code",
      "execution_count": 33,
      "metadata": {
        "id": "pA-EGAfDUQ5K",
        "outputId": "b3b3af82-8e51-4a02-a620-f9b3b5a1adac",
        "scrolled": true
      },
      "outputs": [
        {
          "data": {
            "text/plain": [
              "4       $16.98 \n",
              "5       $10.98 \n",
              "13      $11.25 \n",
              "19       $8.75 \n",
              "26       $8.49 \n",
              "         ...   \n",
              "4590    $11.25 \n",
              "4591     $8.75 \n",
              "4595     $8.75 \n",
              "4599     $8.75 \n",
              "4604     $8.75 \n",
              "Name: item_price, Length: 726, dtype: object"
            ]
          },
          "execution_count": 33,
          "metadata": {},
          "output_type": "execute_result"
        }
      ],
      "source": [
        "selectCB.item_price"
      ]
    },
    {
      "cell_type": "code",
      "execution_count": 34,
      "metadata": {
        "id": "OQ9ZQoPmUQ5K"
      },
      "outputs": [
        {
          "data": {
            "text/html": [
              "<div>\n",
              "<style scoped>\n",
              "    .dataframe tbody tr th:only-of-type {\n",
              "        vertical-align: middle;\n",
              "    }\n",
              "\n",
              "    .dataframe tbody tr th {\n",
              "        vertical-align: top;\n",
              "    }\n",
              "\n",
              "    .dataframe thead th {\n",
              "        text-align: right;\n",
              "    }\n",
              "</style>\n",
              "<table border=\"1\" class=\"dataframe\">\n",
              "  <thead>\n",
              "    <tr style=\"text-align: right;\">\n",
              "      <th></th>\n",
              "      <th>order_id</th>\n",
              "      <th>quantity</th>\n",
              "      <th>item_name</th>\n",
              "      <th>choice_description</th>\n",
              "      <th>item_price</th>\n",
              "    </tr>\n",
              "  </thead>\n",
              "  <tbody>\n",
              "    <tr>\n",
              "      <th>4</th>\n",
              "      <td>2</td>\n",
              "      <td>2</td>\n",
              "      <td>Chicken Bowl</td>\n",
              "      <td>[Tomatillo-Red Chili Salsa (Hot), [Black Beans...</td>\n",
              "      <td>$16.98</td>\n",
              "    </tr>\n",
              "    <tr>\n",
              "      <th>5</th>\n",
              "      <td>3</td>\n",
              "      <td>1</td>\n",
              "      <td>Chicken Bowl</td>\n",
              "      <td>[Fresh Tomato Salsa (Mild), [Rice, Cheese, Sou...</td>\n",
              "      <td>$10.98</td>\n",
              "    </tr>\n",
              "    <tr>\n",
              "      <th>6</th>\n",
              "      <td>3</td>\n",
              "      <td>1</td>\n",
              "      <td>Side of Chips</td>\n",
              "      <td>NaN</td>\n",
              "      <td>$1.69</td>\n",
              "    </tr>\n",
              "    <tr>\n",
              "      <th>13</th>\n",
              "      <td>7</td>\n",
              "      <td>1</td>\n",
              "      <td>Chicken Bowl</td>\n",
              "      <td>[Fresh Tomato Salsa, [Fajita Vegetables, Rice,...</td>\n",
              "      <td>$11.25</td>\n",
              "    </tr>\n",
              "    <tr>\n",
              "      <th>19</th>\n",
              "      <td>10</td>\n",
              "      <td>1</td>\n",
              "      <td>Chicken Bowl</td>\n",
              "      <td>[Tomatillo Red Chili Salsa, [Fajita Vegetables...</td>\n",
              "      <td>$8.75</td>\n",
              "    </tr>\n",
              "    <tr>\n",
              "      <th>...</th>\n",
              "      <td>...</td>\n",
              "      <td>...</td>\n",
              "      <td>...</td>\n",
              "      <td>...</td>\n",
              "      <td>...</td>\n",
              "    </tr>\n",
              "    <tr>\n",
              "      <th>4590</th>\n",
              "      <td>1825</td>\n",
              "      <td>1</td>\n",
              "      <td>Chicken Bowl</td>\n",
              "      <td>[Roasted Chili Corn Salsa, [Rice, Black Beans,...</td>\n",
              "      <td>$11.25</td>\n",
              "    </tr>\n",
              "    <tr>\n",
              "      <th>4591</th>\n",
              "      <td>1825</td>\n",
              "      <td>1</td>\n",
              "      <td>Chicken Bowl</td>\n",
              "      <td>[Tomatillo Red Chili Salsa, [Rice, Black Beans...</td>\n",
              "      <td>$8.75</td>\n",
              "    </tr>\n",
              "    <tr>\n",
              "      <th>4595</th>\n",
              "      <td>1826</td>\n",
              "      <td>1</td>\n",
              "      <td>Chicken Bowl</td>\n",
              "      <td>[Tomatillo Green Chili Salsa, [Rice, Black Bea...</td>\n",
              "      <td>$8.75</td>\n",
              "    </tr>\n",
              "    <tr>\n",
              "      <th>4599</th>\n",
              "      <td>1827</td>\n",
              "      <td>1</td>\n",
              "      <td>Chicken Bowl</td>\n",
              "      <td>[Roasted Chili Corn Salsa, [Cheese, Lettuce]]</td>\n",
              "      <td>$8.75</td>\n",
              "    </tr>\n",
              "    <tr>\n",
              "      <th>4604</th>\n",
              "      <td>1828</td>\n",
              "      <td>1</td>\n",
              "      <td>Chicken Bowl</td>\n",
              "      <td>[Fresh Tomato Salsa, [Rice, Black Beans, Chees...</td>\n",
              "      <td>$8.75</td>\n",
              "    </tr>\n",
              "  </tbody>\n",
              "</table>\n",
              "<p>827 rows × 5 columns</p>\n",
              "</div>"
            ],
            "text/plain": [
              "      order_id  quantity      item_name  \\\n",
              "4            2         2   Chicken Bowl   \n",
              "5            3         1   Chicken Bowl   \n",
              "6            3         1  Side of Chips   \n",
              "13           7         1   Chicken Bowl   \n",
              "19          10         1   Chicken Bowl   \n",
              "...        ...       ...            ...   \n",
              "4590      1825         1   Chicken Bowl   \n",
              "4591      1825         1   Chicken Bowl   \n",
              "4595      1826         1   Chicken Bowl   \n",
              "4599      1827         1   Chicken Bowl   \n",
              "4604      1828         1   Chicken Bowl   \n",
              "\n",
              "                                     choice_description item_price  \n",
              "4     [Tomatillo-Red Chili Salsa (Hot), [Black Beans...    $16.98   \n",
              "5     [Fresh Tomato Salsa (Mild), [Rice, Cheese, Sou...    $10.98   \n",
              "6                                                   NaN     $1.69   \n",
              "13    [Fresh Tomato Salsa, [Fajita Vegetables, Rice,...    $11.25   \n",
              "19    [Tomatillo Red Chili Salsa, [Fajita Vegetables...     $8.75   \n",
              "...                                                 ...        ...  \n",
              "4590  [Roasted Chili Corn Salsa, [Rice, Black Beans,...    $11.25   \n",
              "4591  [Tomatillo Red Chili Salsa, [Rice, Black Beans...     $8.75   \n",
              "4595  [Tomatillo Green Chili Salsa, [Rice, Black Bea...     $8.75   \n",
              "4599      [Roasted Chili Corn Salsa, [Cheese, Lettuce]]     $8.75   \n",
              "4604  [Fresh Tomato Salsa, [Rice, Black Beans, Chees...     $8.75   \n",
              "\n",
              "[827 rows x 5 columns]"
            ]
          },
          "execution_count": 34,
          "metadata": {},
          "output_type": "execute_result"
        }
      ],
      "source": [
        "# filtering using several values for an attribute\n",
        "set2[(set2['item_name']=='Chicken Bowl')|(set2['item_name']=='Side of Chips')]"
      ]
    },
    {
      "cell_type": "code",
      "execution_count": 35,
      "metadata": {
        "id": "coE6bEZoUQ5K",
        "outputId": "70673066-ec75-4394-ee57-4ec7bf8b1de4"
      },
      "outputs": [
        {
          "data": {
            "text/html": [
              "<div>\n",
              "<style scoped>\n",
              "    .dataframe tbody tr th:only-of-type {\n",
              "        vertical-align: middle;\n",
              "    }\n",
              "\n",
              "    .dataframe tbody tr th {\n",
              "        vertical-align: top;\n",
              "    }\n",
              "\n",
              "    .dataframe thead th {\n",
              "        text-align: right;\n",
              "    }\n",
              "</style>\n",
              "<table border=\"1\" class=\"dataframe\">\n",
              "  <thead>\n",
              "    <tr style=\"text-align: right;\">\n",
              "      <th></th>\n",
              "      <th>order_id</th>\n",
              "      <th>quantity</th>\n",
              "      <th>item_name</th>\n",
              "      <th>choice_description</th>\n",
              "      <th>item_price</th>\n",
              "    </tr>\n",
              "  </thead>\n",
              "  <tbody>\n",
              "  </tbody>\n",
              "</table>\n",
              "</div>"
            ],
            "text/plain": [
              "Empty DataFrame\n",
              "Columns: [order_id, quantity, item_name, choice_description, item_price]\n",
              "Index: []"
            ]
          },
          "execution_count": 35,
          "metadata": {},
          "output_type": "execute_result"
        }
      ],
      "source": [
        "# filtering using several criteria (the terms of the conjunction should be placed between brackets)\n",
        "# Example:  find the instances which Chicken Bowl and a price smaller than 10$\n",
        "\n",
        "# first trial:\n",
        "\n",
        "set2.loc[(set2.item_name == 'Chicken Bowl') & (set2.item_price < '$10.00')]"
      ]
    },
    {
      "cell_type": "code",
      "execution_count": 36,
      "metadata": {
        "id": "q9hxbMSEUQ5K",
        "outputId": "4e8de789-a916-4e00-8b04-3d2a9a080645",
        "scrolled": true
      },
      "outputs": [
        {
          "data": {
            "text/html": [
              "<div>\n",
              "<style scoped>\n",
              "    .dataframe tbody tr th:only-of-type {\n",
              "        vertical-align: middle;\n",
              "    }\n",
              "\n",
              "    .dataframe tbody tr th {\n",
              "        vertical-align: top;\n",
              "    }\n",
              "\n",
              "    .dataframe thead th {\n",
              "        text-align: right;\n",
              "    }\n",
              "</style>\n",
              "<table border=\"1\" class=\"dataframe\">\n",
              "  <thead>\n",
              "    <tr style=\"text-align: right;\">\n",
              "      <th></th>\n",
              "      <th>order_id</th>\n",
              "      <th>quantity</th>\n",
              "      <th>item_name</th>\n",
              "      <th>choice_description</th>\n",
              "      <th>item_price</th>\n",
              "    </tr>\n",
              "  </thead>\n",
              "  <tbody>\n",
              "    <tr>\n",
              "      <th>19</th>\n",
              "      <td>10</td>\n",
              "      <td>1</td>\n",
              "      <td>Chicken Bowl</td>\n",
              "      <td>[Tomatillo Red Chili Salsa, [Fajita Vegetables...</td>\n",
              "      <td>$8.75</td>\n",
              "    </tr>\n",
              "    <tr>\n",
              "      <th>26</th>\n",
              "      <td>13</td>\n",
              "      <td>1</td>\n",
              "      <td>Chicken Bowl</td>\n",
              "      <td>[Roasted Chili Corn Salsa (Medium), [Pinto Bea...</td>\n",
              "      <td>$8.49</td>\n",
              "    </tr>\n",
              "    <tr>\n",
              "      <th>76</th>\n",
              "      <td>34</td>\n",
              "      <td>1</td>\n",
              "      <td>Chicken Bowl</td>\n",
              "      <td>[Fresh Tomato Salsa, [Rice, Black Beans, Pinto...</td>\n",
              "      <td>$8.75</td>\n",
              "    </tr>\n",
              "    <tr>\n",
              "      <th>78</th>\n",
              "      <td>34</td>\n",
              "      <td>1</td>\n",
              "      <td>Chicken Bowl</td>\n",
              "      <td>[Fresh Tomato Salsa, [Rice, Black Beans, Chees...</td>\n",
              "      <td>$8.75</td>\n",
              "    </tr>\n",
              "    <tr>\n",
              "      <th>99</th>\n",
              "      <td>44</td>\n",
              "      <td>1</td>\n",
              "      <td>Chicken Bowl</td>\n",
              "      <td>[Tomatillo Red Chili Salsa, [Rice, Fajita Vege...</td>\n",
              "      <td>$8.75</td>\n",
              "    </tr>\n",
              "    <tr>\n",
              "      <th>...</th>\n",
              "      <td>...</td>\n",
              "      <td>...</td>\n",
              "      <td>...</td>\n",
              "      <td>...</td>\n",
              "      <td>...</td>\n",
              "    </tr>\n",
              "    <tr>\n",
              "      <th>4583</th>\n",
              "      <td>1823</td>\n",
              "      <td>1</td>\n",
              "      <td>Chicken Bowl</td>\n",
              "      <td>[Tomatillo Green Chili Salsa, [Rice, Black Bea...</td>\n",
              "      <td>$8.75</td>\n",
              "    </tr>\n",
              "    <tr>\n",
              "      <th>4591</th>\n",
              "      <td>1825</td>\n",
              "      <td>1</td>\n",
              "      <td>Chicken Bowl</td>\n",
              "      <td>[Tomatillo Red Chili Salsa, [Rice, Black Beans...</td>\n",
              "      <td>$8.75</td>\n",
              "    </tr>\n",
              "    <tr>\n",
              "      <th>4595</th>\n",
              "      <td>1826</td>\n",
              "      <td>1</td>\n",
              "      <td>Chicken Bowl</td>\n",
              "      <td>[Tomatillo Green Chili Salsa, [Rice, Black Bea...</td>\n",
              "      <td>$8.75</td>\n",
              "    </tr>\n",
              "    <tr>\n",
              "      <th>4599</th>\n",
              "      <td>1827</td>\n",
              "      <td>1</td>\n",
              "      <td>Chicken Bowl</td>\n",
              "      <td>[Roasted Chili Corn Salsa, [Cheese, Lettuce]]</td>\n",
              "      <td>$8.75</td>\n",
              "    </tr>\n",
              "    <tr>\n",
              "      <th>4604</th>\n",
              "      <td>1828</td>\n",
              "      <td>1</td>\n",
              "      <td>Chicken Bowl</td>\n",
              "      <td>[Fresh Tomato Salsa, [Rice, Black Beans, Chees...</td>\n",
              "      <td>$8.75</td>\n",
              "    </tr>\n",
              "  </tbody>\n",
              "</table>\n",
              "<p>422 rows × 5 columns</p>\n",
              "</div>"
            ],
            "text/plain": [
              "      order_id  quantity     item_name  \\\n",
              "19          10         1  Chicken Bowl   \n",
              "26          13         1  Chicken Bowl   \n",
              "76          34         1  Chicken Bowl   \n",
              "78          34         1  Chicken Bowl   \n",
              "99          44         1  Chicken Bowl   \n",
              "...        ...       ...           ...   \n",
              "4583      1823         1  Chicken Bowl   \n",
              "4591      1825         1  Chicken Bowl   \n",
              "4595      1826         1  Chicken Bowl   \n",
              "4599      1827         1  Chicken Bowl   \n",
              "4604      1828         1  Chicken Bowl   \n",
              "\n",
              "                                     choice_description item_price  \n",
              "19    [Tomatillo Red Chili Salsa, [Fajita Vegetables...     $8.75   \n",
              "26    [Roasted Chili Corn Salsa (Medium), [Pinto Bea...     $8.49   \n",
              "76    [Fresh Tomato Salsa, [Rice, Black Beans, Pinto...     $8.75   \n",
              "78    [Fresh Tomato Salsa, [Rice, Black Beans, Chees...     $8.75   \n",
              "99    [Tomatillo Red Chili Salsa, [Rice, Fajita Vege...     $8.75   \n",
              "...                                                 ...        ...  \n",
              "4583  [Tomatillo Green Chili Salsa, [Rice, Black Bea...     $8.75   \n",
              "4591  [Tomatillo Red Chili Salsa, [Rice, Black Beans...     $8.75   \n",
              "4595  [Tomatillo Green Chili Salsa, [Rice, Black Bea...     $8.75   \n",
              "4599      [Roasted Chili Corn Salsa, [Cheese, Lettuce]]     $8.75   \n",
              "4604  [Fresh Tomato Salsa, [Rice, Black Beans, Chees...     $8.75   \n",
              "\n",
              "[422 rows x 5 columns]"
            ]
          },
          "execution_count": 36,
          "metadata": {},
          "output_type": "execute_result"
        }
      ],
      "source": [
        "# find the instances which Chicken Bowl and a price smaller than 10$\n",
        "\n",
        "set2.loc[(set2.item_name == 'Chicken Bowl') & (set2.item_price.apply(lambda x: float(x[1:])) < 10)]"
      ]
    },
    {
      "cell_type": "code",
      "execution_count": 37,
      "metadata": {
        "id": "JnJH2WdkUQ5L",
        "outputId": "e1741631-e6b5-46f1-d1ef-28d4c7f8b406"
      },
      "outputs": [
        {
          "data": {
            "text/html": [
              "<div>\n",
              "<style scoped>\n",
              "    .dataframe tbody tr th:only-of-type {\n",
              "        vertical-align: middle;\n",
              "    }\n",
              "\n",
              "    .dataframe tbody tr th {\n",
              "        vertical-align: top;\n",
              "    }\n",
              "\n",
              "    .dataframe thead th {\n",
              "        text-align: right;\n",
              "    }\n",
              "</style>\n",
              "<table border=\"1\" class=\"dataframe\">\n",
              "  <thead>\n",
              "    <tr style=\"text-align: right;\">\n",
              "      <th></th>\n",
              "      <th>order_id</th>\n",
              "      <th>quantity</th>\n",
              "      <th>item_name</th>\n",
              "      <th>choice_description</th>\n",
              "      <th>item_price</th>\n",
              "    </tr>\n",
              "  </thead>\n",
              "  <tbody>\n",
              "    <tr>\n",
              "      <th>4</th>\n",
              "      <td>2</td>\n",
              "      <td>2</td>\n",
              "      <td>Chicken Bowl</td>\n",
              "      <td>[Tomatillo-Red Chili Salsa (Hot), [Black Beans...</td>\n",
              "      <td>$16.98</td>\n",
              "    </tr>\n",
              "    <tr>\n",
              "      <th>5</th>\n",
              "      <td>3</td>\n",
              "      <td>1</td>\n",
              "      <td>Chicken Bowl</td>\n",
              "      <td>[Fresh Tomato Salsa (Mild), [Rice, Cheese, Sou...</td>\n",
              "      <td>$10.98</td>\n",
              "    </tr>\n",
              "    <tr>\n",
              "      <th>13</th>\n",
              "      <td>7</td>\n",
              "      <td>1</td>\n",
              "      <td>Chicken Bowl</td>\n",
              "      <td>[Fresh Tomato Salsa, [Fajita Vegetables, Rice,...</td>\n",
              "      <td>$11.25</td>\n",
              "    </tr>\n",
              "    <tr>\n",
              "      <th>19</th>\n",
              "      <td>10</td>\n",
              "      <td>1</td>\n",
              "      <td>Chicken Bowl</td>\n",
              "      <td>[Tomatillo Red Chili Salsa, [Fajita Vegetables...</td>\n",
              "      <td>$8.75</td>\n",
              "    </tr>\n",
              "    <tr>\n",
              "      <th>26</th>\n",
              "      <td>13</td>\n",
              "      <td>1</td>\n",
              "      <td>Chicken Bowl</td>\n",
              "      <td>[Roasted Chili Corn Salsa (Medium), [Pinto Bea...</td>\n",
              "      <td>$8.49</td>\n",
              "    </tr>\n",
              "    <tr>\n",
              "      <th>...</th>\n",
              "      <td>...</td>\n",
              "      <td>...</td>\n",
              "      <td>...</td>\n",
              "      <td>...</td>\n",
              "      <td>...</td>\n",
              "    </tr>\n",
              "    <tr>\n",
              "      <th>4590</th>\n",
              "      <td>1825</td>\n",
              "      <td>1</td>\n",
              "      <td>Chicken Bowl</td>\n",
              "      <td>[Roasted Chili Corn Salsa, [Rice, Black Beans,...</td>\n",
              "      <td>$11.25</td>\n",
              "    </tr>\n",
              "    <tr>\n",
              "      <th>4591</th>\n",
              "      <td>1825</td>\n",
              "      <td>1</td>\n",
              "      <td>Chicken Bowl</td>\n",
              "      <td>[Tomatillo Red Chili Salsa, [Rice, Black Beans...</td>\n",
              "      <td>$8.75</td>\n",
              "    </tr>\n",
              "    <tr>\n",
              "      <th>4595</th>\n",
              "      <td>1826</td>\n",
              "      <td>1</td>\n",
              "      <td>Chicken Bowl</td>\n",
              "      <td>[Tomatillo Green Chili Salsa, [Rice, Black Bea...</td>\n",
              "      <td>$8.75</td>\n",
              "    </tr>\n",
              "    <tr>\n",
              "      <th>4599</th>\n",
              "      <td>1827</td>\n",
              "      <td>1</td>\n",
              "      <td>Chicken Bowl</td>\n",
              "      <td>[Roasted Chili Corn Salsa, [Cheese, Lettuce]]</td>\n",
              "      <td>$8.75</td>\n",
              "    </tr>\n",
              "    <tr>\n",
              "      <th>4604</th>\n",
              "      <td>1828</td>\n",
              "      <td>1</td>\n",
              "      <td>Chicken Bowl</td>\n",
              "      <td>[Fresh Tomato Salsa, [Rice, Black Beans, Chees...</td>\n",
              "      <td>$8.75</td>\n",
              "    </tr>\n",
              "  </tbody>\n",
              "</table>\n",
              "<p>726 rows × 5 columns</p>\n",
              "</div>"
            ],
            "text/plain": [
              "      order_id  quantity     item_name  \\\n",
              "4            2         2  Chicken Bowl   \n",
              "5            3         1  Chicken Bowl   \n",
              "13           7         1  Chicken Bowl   \n",
              "19          10         1  Chicken Bowl   \n",
              "26          13         1  Chicken Bowl   \n",
              "...        ...       ...           ...   \n",
              "4590      1825         1  Chicken Bowl   \n",
              "4591      1825         1  Chicken Bowl   \n",
              "4595      1826         1  Chicken Bowl   \n",
              "4599      1827         1  Chicken Bowl   \n",
              "4604      1828         1  Chicken Bowl   \n",
              "\n",
              "                                     choice_description item_price  \n",
              "4     [Tomatillo-Red Chili Salsa (Hot), [Black Beans...    $16.98   \n",
              "5     [Fresh Tomato Salsa (Mild), [Rice, Cheese, Sou...    $10.98   \n",
              "13    [Fresh Tomato Salsa, [Fajita Vegetables, Rice,...    $11.25   \n",
              "19    [Tomatillo Red Chili Salsa, [Fajita Vegetables...     $8.75   \n",
              "26    [Roasted Chili Corn Salsa (Medium), [Pinto Bea...     $8.49   \n",
              "...                                                 ...        ...  \n",
              "4590  [Roasted Chili Corn Salsa, [Rice, Black Beans,...    $11.25   \n",
              "4591  [Tomatillo Red Chili Salsa, [Rice, Black Beans...     $8.75   \n",
              "4595  [Tomatillo Green Chili Salsa, [Rice, Black Bea...     $8.75   \n",
              "4599      [Roasted Chili Corn Salsa, [Cheese, Lettuce]]     $8.75   \n",
              "4604  [Fresh Tomato Salsa, [Rice, Black Beans, Chees...     $8.75   \n",
              "\n",
              "[726 rows x 5 columns]"
            ]
          },
          "execution_count": 37,
          "metadata": {},
          "output_type": "execute_result"
        }
      ],
      "source": [
        "# select the instances with specified choice description\n",
        "\n",
        "set2.loc[(set2.item_name == 'Chicken Bowl')& (set2.choice_description.notnull())]"
      ]
    },
    {
      "cell_type": "markdown",
      "metadata": {
        "id": "FrMDWEBNUQ5L"
      },
      "source": [
        "### Exercise 3 / Exercițiu 3\n",
        " * find the the smallest and the largest price / determinați cel mai mic și cel mai mare preț"
      ]
    },
    {
      "cell_type": "code",
      "execution_count": 38,
      "metadata": {},
      "outputs": [
        {
          "data": {
            "text/plain": [
              "976.0"
            ]
          },
          "execution_count": 38,
          "metadata": {},
          "output_type": "execute_result"
        }
      ],
      "source": [
        "telecom_stats.Value.min()\n",
        "telecom_stats.Value.max()"
      ]
    },
    {
      "cell_type": "markdown",
      "metadata": {
        "id": "Y3CbzfHRUQ5L"
      },
      "source": [
        "## 5. Data summarization / Sumarizarea datelor\n",
        " * method: describe()  \n",
        " * details: https://www.kaggle.com/residentmario/summary-functions-and-maps"
      ]
    },
    {
      "cell_type": "code",
      "execution_count": 39,
      "metadata": {
        "id": "8_Ph2-X-UQ5L",
        "outputId": "c08462a4-93bc-4e4a-da72-824e5ae97534",
        "scrolled": true
      },
      "outputs": [
        {
          "data": {
            "text/plain": [
              "count    4622.000000\n",
              "mean        1.075725\n",
              "std         0.410186\n",
              "min         1.000000\n",
              "25%         1.000000\n",
              "50%         1.000000\n",
              "75%         1.000000\n",
              "max        15.000000\n",
              "Name: quantity, dtype: float64"
            ]
          },
          "execution_count": 39,
          "metadata": {},
          "output_type": "execute_result"
        }
      ],
      "source": [
        "# Summary for numerical data:  mean, standard deviation, minim, maxim, quartiles\n",
        "set2.quantity.describe()"
      ]
    },
    {
      "cell_type": "code",
      "execution_count": 40,
      "metadata": {
        "id": "ljmjRJZ8UQ5L",
        "outputId": "def1ff10-35ca-47eb-9cc5-35e5510ad52c"
      },
      "outputs": [
        {
          "data": {
            "text/plain": [
              "count             4622\n",
              "unique              50\n",
              "top       Chicken Bowl\n",
              "freq               726\n",
              "Name: item_name, dtype: object"
            ]
          },
          "execution_count": 40,
          "metadata": {},
          "output_type": "execute_result"
        }
      ],
      "source": [
        "# Summary for categorical data: number of values, most frequent value\n",
        "set2.item_name.describe()"
      ]
    },
    {
      "cell_type": "code",
      "execution_count": 41,
      "metadata": {
        "id": "DCeKeYTeUQ5M",
        "outputId": "8b0c203c-6c52-44d6-9312-a4706b8f0a3c"
      },
      "outputs": [
        {
          "data": {
            "text/plain": [
              "array(['Chips and Fresh Tomato Salsa', 'Izze', 'Nantucket Nectar',\n",
              "       'Chips and Tomatillo-Green Chili Salsa', 'Chicken Bowl',\n",
              "       'Side of Chips', 'Steak Burrito', 'Steak Soft Tacos',\n",
              "       'Chips and Guacamole', 'Chicken Crispy Tacos',\n",
              "       'Chicken Soft Tacos', 'Chicken Burrito', 'Canned Soda',\n",
              "       'Barbacoa Burrito', 'Carnitas Burrito', 'Carnitas Bowl',\n",
              "       'Bottled Water', 'Chips and Tomatillo Green Chili Salsa',\n",
              "       'Barbacoa Bowl', 'Chips', 'Chicken Salad Bowl', 'Steak Bowl',\n",
              "       'Barbacoa Soft Tacos', 'Veggie Burrito', 'Veggie Bowl',\n",
              "       'Steak Crispy Tacos', 'Chips and Tomatillo Red Chili Salsa',\n",
              "       'Barbacoa Crispy Tacos', 'Veggie Salad Bowl',\n",
              "       'Chips and Roasted Chili-Corn Salsa',\n",
              "       'Chips and Roasted Chili Corn Salsa', 'Carnitas Soft Tacos',\n",
              "       'Chicken Salad', 'Canned Soft Drink', 'Steak Salad Bowl',\n",
              "       '6 Pack Soft Drink', 'Chips and Tomatillo-Red Chili Salsa', 'Bowl',\n",
              "       'Burrito', 'Crispy Tacos', 'Carnitas Crispy Tacos', 'Steak Salad',\n",
              "       'Chips and Mild Fresh Tomato Salsa', 'Veggie Soft Tacos',\n",
              "       'Carnitas Salad Bowl', 'Barbacoa Salad Bowl', 'Salad',\n",
              "       'Veggie Crispy Tacos', 'Veggie Salad', 'Carnitas Salad'],\n",
              "      dtype=object)"
            ]
          },
          "execution_count": 41,
          "metadata": {},
          "output_type": "execute_result"
        }
      ],
      "source": [
        "# find all distinct values in a column\n",
        "set2.item_name.unique()"
      ]
    },
    {
      "cell_type": "code",
      "execution_count": 42,
      "metadata": {
        "id": "Br21dVPSUQ5M"
      },
      "outputs": [],
      "source": [
        "# find the frequency of each value\n",
        "freqValues=set2.item_name.value_counts()"
      ]
    },
    {
      "cell_type": "code",
      "execution_count": 43,
      "metadata": {
        "id": "Qjt1R2CoUQ5M",
        "outputId": "ba8a6ffb-52b5-47a7-c46b-88eedc3859fd"
      },
      "outputs": [
        {
          "data": {
            "text/plain": [
              "item_name\n",
              "Chicken Bowl                             726\n",
              "Chicken Burrito                          553\n",
              "Chips and Guacamole                      479\n",
              "Steak Burrito                            368\n",
              "Canned Soft Drink                        301\n",
              "Steak Bowl                               211\n",
              "Chips                                    211\n",
              "Bottled Water                            162\n",
              "Chicken Soft Tacos                       115\n",
              "Chips and Fresh Tomato Salsa             110\n",
              "Chicken Salad Bowl                       110\n",
              "Canned Soda                              104\n",
              "Side of Chips                            101\n",
              "Veggie Burrito                            95\n",
              "Barbacoa Burrito                          91\n",
              "Veggie Bowl                               85\n",
              "Carnitas Bowl                             68\n",
              "Barbacoa Bowl                             66\n",
              "Carnitas Burrito                          59\n",
              "Steak Soft Tacos                          55\n",
              "6 Pack Soft Drink                         54\n",
              "Chips and Tomatillo Red Chili Salsa       48\n",
              "Chicken Crispy Tacos                      47\n",
              "Chips and Tomatillo Green Chili Salsa     43\n",
              "Carnitas Soft Tacos                       40\n",
              "Steak Crispy Tacos                        35\n",
              "Chips and Tomatillo-Green Chili Salsa     31\n",
              "Steak Salad Bowl                          29\n",
              "Nantucket Nectar                          27\n",
              "Barbacoa Soft Tacos                       25\n",
              "Chips and Roasted Chili Corn Salsa        22\n",
              "Izze                                      20\n",
              "Chips and Tomatillo-Red Chili Salsa       20\n",
              "Veggie Salad Bowl                         18\n",
              "Chips and Roasted Chili-Corn Salsa        18\n",
              "Barbacoa Crispy Tacos                     11\n",
              "Barbacoa Salad Bowl                       10\n",
              "Chicken Salad                              9\n",
              "Veggie Soft Tacos                          7\n",
              "Carnitas Crispy Tacos                      7\n",
              "Veggie Salad                               6\n",
              "Carnitas Salad Bowl                        6\n",
              "Burrito                                    6\n",
              "Steak Salad                                4\n",
              "Crispy Tacos                               2\n",
              "Salad                                      2\n",
              "Bowl                                       2\n",
              "Chips and Mild Fresh Tomato Salsa          1\n",
              "Veggie Crispy Tacos                        1\n",
              "Carnitas Salad                             1\n",
              "Name: count, dtype: int64"
            ]
          },
          "execution_count": 43,
          "metadata": {},
          "output_type": "execute_result"
        }
      ],
      "source": [
        "freqValues"
      ]
    },
    {
      "cell_type": "markdown",
      "metadata": {
        "id": "YHiqNQA8UQ5M"
      },
      "source": [
        "## 6. Data transformation / Transformarea datelor\n",
        " * Map and Apply\n",
        "     * Map - is used to transform the values of a column by applying a function on each component / transformă elementele unei coloane aplicând o funcție fiecărei componente\n",
        "     * Apply - a more general function - it allows to apply the transformation at the level of row or at the level of column / permite aplicarea unei transformări atât la nivel de linie cât și la nivel de coloană"
      ]
    },
    {
      "cell_type": "code",
      "execution_count": 44,
      "metadata": {
        "id": "VaIP5Fw-UQ5M"
      },
      "outputs": [],
      "source": [
        "# Transformation of the item_price in a numerical value - variant based on map\n",
        "\n",
        "priceNumber = set2.item_price.map(lambda x: float(x[1:]))"
      ]
    },
    {
      "cell_type": "code",
      "execution_count": 45,
      "metadata": {
        "id": "MYlf8h0XUQ5N",
        "outputId": "001f617c-fa6e-479d-a9af-8943f2e5a193",
        "scrolled": true
      },
      "outputs": [
        {
          "data": {
            "text/plain": [
              "0        2.39\n",
              "1        3.39\n",
              "2        3.39\n",
              "3        2.39\n",
              "4       16.98\n",
              "        ...  \n",
              "4617    11.75\n",
              "4618    11.75\n",
              "4619    11.25\n",
              "4620     8.75\n",
              "4621     8.75\n",
              "Name: item_price, Length: 4622, dtype: float64"
            ]
          },
          "execution_count": 45,
          "metadata": {},
          "output_type": "execute_result"
        }
      ],
      "source": [
        "priceNumber"
      ]
    },
    {
      "cell_type": "code",
      "execution_count": 46,
      "metadata": {
        "id": "OORQb4yYUQ5N"
      },
      "outputs": [],
      "source": [
        "# Transformation of the item_price in a numerical value - variant based on apply\n",
        "priceNumber2 = set2.item_price.apply(lambda x: float(x[1:]))"
      ]
    },
    {
      "cell_type": "code",
      "execution_count": 47,
      "metadata": {
        "id": "PW3BLxsLUQ5N",
        "outputId": "ee403797-dd10-4f81-cab7-3be691650592",
        "scrolled": true
      },
      "outputs": [
        {
          "data": {
            "text/plain": [
              "0        2.39\n",
              "1        3.39\n",
              "2        3.39\n",
              "3        2.39\n",
              "4       16.98\n",
              "        ...  \n",
              "4617    11.75\n",
              "4618    11.75\n",
              "4619    11.25\n",
              "4620     8.75\n",
              "4621     8.75\n",
              "Name: item_price, Length: 4622, dtype: float64"
            ]
          },
          "execution_count": 47,
          "metadata": {},
          "output_type": "execute_result"
        }
      ],
      "source": [
        "priceNumber2"
      ]
    },
    {
      "cell_type": "code",
      "execution_count": 48,
      "metadata": {
        "id": "U6kYZHAQUQ5N",
        "outputId": "e997df31-1c7a-4837-b851-03bb084b5f42"
      },
      "outputs": [
        {
          "data": {
            "text/html": [
              "<div>\n",
              "<style scoped>\n",
              "    .dataframe tbody tr th:only-of-type {\n",
              "        vertical-align: middle;\n",
              "    }\n",
              "\n",
              "    .dataframe tbody tr th {\n",
              "        vertical-align: top;\n",
              "    }\n",
              "\n",
              "    .dataframe thead th {\n",
              "        text-align: right;\n",
              "    }\n",
              "</style>\n",
              "<table border=\"1\" class=\"dataframe\">\n",
              "  <thead>\n",
              "    <tr style=\"text-align: right;\">\n",
              "      <th></th>\n",
              "      <th>order_id</th>\n",
              "      <th>quantity</th>\n",
              "      <th>item_name</th>\n",
              "      <th>choice_description</th>\n",
              "      <th>item_price</th>\n",
              "    </tr>\n",
              "  </thead>\n",
              "  <tbody>\n",
              "    <tr>\n",
              "      <th>0</th>\n",
              "      <td>1</td>\n",
              "      <td>1</td>\n",
              "      <td>Chips and Fresh Tomato Salsa</td>\n",
              "      <td>NaN</td>\n",
              "      <td>2.39</td>\n",
              "    </tr>\n",
              "    <tr>\n",
              "      <th>1</th>\n",
              "      <td>1</td>\n",
              "      <td>1</td>\n",
              "      <td>Izze</td>\n",
              "      <td>[Clementine]</td>\n",
              "      <td>3.39</td>\n",
              "    </tr>\n",
              "    <tr>\n",
              "      <th>2</th>\n",
              "      <td>1</td>\n",
              "      <td>1</td>\n",
              "      <td>Nantucket Nectar</td>\n",
              "      <td>[Apple]</td>\n",
              "      <td>3.39</td>\n",
              "    </tr>\n",
              "    <tr>\n",
              "      <th>3</th>\n",
              "      <td>1</td>\n",
              "      <td>1</td>\n",
              "      <td>Chips and Tomatillo-Green Chili Salsa</td>\n",
              "      <td>NaN</td>\n",
              "      <td>2.39</td>\n",
              "    </tr>\n",
              "    <tr>\n",
              "      <th>4</th>\n",
              "      <td>2</td>\n",
              "      <td>2</td>\n",
              "      <td>Chicken Bowl</td>\n",
              "      <td>[Tomatillo-Red Chili Salsa (Hot), [Black Beans...</td>\n",
              "      <td>16.98</td>\n",
              "    </tr>\n",
              "    <tr>\n",
              "      <th>...</th>\n",
              "      <td>...</td>\n",
              "      <td>...</td>\n",
              "      <td>...</td>\n",
              "      <td>...</td>\n",
              "      <td>...</td>\n",
              "    </tr>\n",
              "    <tr>\n",
              "      <th>4617</th>\n",
              "      <td>1833</td>\n",
              "      <td>1</td>\n",
              "      <td>Steak Burrito</td>\n",
              "      <td>[Fresh Tomato Salsa, [Rice, Black Beans, Sour ...</td>\n",
              "      <td>11.75</td>\n",
              "    </tr>\n",
              "    <tr>\n",
              "      <th>4618</th>\n",
              "      <td>1833</td>\n",
              "      <td>1</td>\n",
              "      <td>Steak Burrito</td>\n",
              "      <td>[Fresh Tomato Salsa, [Rice, Sour Cream, Cheese...</td>\n",
              "      <td>11.75</td>\n",
              "    </tr>\n",
              "    <tr>\n",
              "      <th>4619</th>\n",
              "      <td>1834</td>\n",
              "      <td>1</td>\n",
              "      <td>Chicken Salad Bowl</td>\n",
              "      <td>[Fresh Tomato Salsa, [Fajita Vegetables, Pinto...</td>\n",
              "      <td>11.25</td>\n",
              "    </tr>\n",
              "    <tr>\n",
              "      <th>4620</th>\n",
              "      <td>1834</td>\n",
              "      <td>1</td>\n",
              "      <td>Chicken Salad Bowl</td>\n",
              "      <td>[Fresh Tomato Salsa, [Fajita Vegetables, Lettu...</td>\n",
              "      <td>8.75</td>\n",
              "    </tr>\n",
              "    <tr>\n",
              "      <th>4621</th>\n",
              "      <td>1834</td>\n",
              "      <td>1</td>\n",
              "      <td>Chicken Salad Bowl</td>\n",
              "      <td>[Fresh Tomato Salsa, [Fajita Vegetables, Pinto...</td>\n",
              "      <td>8.75</td>\n",
              "    </tr>\n",
              "  </tbody>\n",
              "</table>\n",
              "<p>4622 rows × 5 columns</p>\n",
              "</div>"
            ],
            "text/plain": [
              "      order_id  quantity                              item_name  \\\n",
              "0            1         1           Chips and Fresh Tomato Salsa   \n",
              "1            1         1                                   Izze   \n",
              "2            1         1                       Nantucket Nectar   \n",
              "3            1         1  Chips and Tomatillo-Green Chili Salsa   \n",
              "4            2         2                           Chicken Bowl   \n",
              "...        ...       ...                                    ...   \n",
              "4617      1833         1                          Steak Burrito   \n",
              "4618      1833         1                          Steak Burrito   \n",
              "4619      1834         1                     Chicken Salad Bowl   \n",
              "4620      1834         1                     Chicken Salad Bowl   \n",
              "4621      1834         1                     Chicken Salad Bowl   \n",
              "\n",
              "                                     choice_description  item_price  \n",
              "0                                                   NaN        2.39  \n",
              "1                                          [Clementine]        3.39  \n",
              "2                                               [Apple]        3.39  \n",
              "3                                                   NaN        2.39  \n",
              "4     [Tomatillo-Red Chili Salsa (Hot), [Black Beans...       16.98  \n",
              "...                                                 ...         ...  \n",
              "4617  [Fresh Tomato Salsa, [Rice, Black Beans, Sour ...       11.75  \n",
              "4618  [Fresh Tomato Salsa, [Rice, Sour Cream, Cheese...       11.75  \n",
              "4619  [Fresh Tomato Salsa, [Fajita Vegetables, Pinto...       11.25  \n",
              "4620  [Fresh Tomato Salsa, [Fajita Vegetables, Lettu...        8.75  \n",
              "4621  [Fresh Tomato Salsa, [Fajita Vegetables, Pinto...        8.75  \n",
              "\n",
              "[4622 rows x 5 columns]"
            ]
          },
          "execution_count": 48,
          "metadata": {},
          "output_type": "execute_result"
        }
      ],
      "source": [
        "# another way of using apply\n",
        "\n",
        "def toNumber(row):\n",
        "    row.item_price = float(row.item_price[1:])\n",
        "    return row\n",
        "\n",
        "set2.apply(toNumber, axis='columns')"
      ]
    },
    {
      "cell_type": "code",
      "execution_count": 49,
      "metadata": {
        "id": "xeZOddF_UQ5N",
        "outputId": "83d94cc8-6491-4d29-8baf-7dc96ae95e95"
      },
      "outputs": [
        {
          "data": {
            "text/html": [
              "<div>\n",
              "<style scoped>\n",
              "    .dataframe tbody tr th:only-of-type {\n",
              "        vertical-align: middle;\n",
              "    }\n",
              "\n",
              "    .dataframe tbody tr th {\n",
              "        vertical-align: top;\n",
              "    }\n",
              "\n",
              "    .dataframe thead th {\n",
              "        text-align: right;\n",
              "    }\n",
              "</style>\n",
              "<table border=\"1\" class=\"dataframe\">\n",
              "  <thead>\n",
              "    <tr style=\"text-align: right;\">\n",
              "      <th></th>\n",
              "      <th>order_id</th>\n",
              "      <th>quantity</th>\n",
              "      <th>item_name</th>\n",
              "      <th>choice_description</th>\n",
              "      <th>item_price</th>\n",
              "    </tr>\n",
              "  </thead>\n",
              "  <tbody>\n",
              "    <tr>\n",
              "      <th>0</th>\n",
              "      <td>1</td>\n",
              "      <td>1</td>\n",
              "      <td>Chips and Fresh Tomato Salsa</td>\n",
              "      <td>NaN</td>\n",
              "      <td>$2.39</td>\n",
              "    </tr>\n",
              "    <tr>\n",
              "      <th>1</th>\n",
              "      <td>1</td>\n",
              "      <td>1</td>\n",
              "      <td>Izze</td>\n",
              "      <td>[Clementine]</td>\n",
              "      <td>$3.39</td>\n",
              "    </tr>\n",
              "    <tr>\n",
              "      <th>2</th>\n",
              "      <td>1</td>\n",
              "      <td>1</td>\n",
              "      <td>Nantucket Nectar</td>\n",
              "      <td>[Apple]</td>\n",
              "      <td>$3.39</td>\n",
              "    </tr>\n",
              "    <tr>\n",
              "      <th>3</th>\n",
              "      <td>1</td>\n",
              "      <td>1</td>\n",
              "      <td>Chips and Tomatillo-Green Chili Salsa</td>\n",
              "      <td>NaN</td>\n",
              "      <td>$2.39</td>\n",
              "    </tr>\n",
              "    <tr>\n",
              "      <th>4</th>\n",
              "      <td>2</td>\n",
              "      <td>2</td>\n",
              "      <td>Chicken Bowl</td>\n",
              "      <td>[Tomatillo-Red Chili Salsa (Hot), [Black Beans...</td>\n",
              "      <td>$16.98</td>\n",
              "    </tr>\n",
              "    <tr>\n",
              "      <th>...</th>\n",
              "      <td>...</td>\n",
              "      <td>...</td>\n",
              "      <td>...</td>\n",
              "      <td>...</td>\n",
              "      <td>...</td>\n",
              "    </tr>\n",
              "    <tr>\n",
              "      <th>4617</th>\n",
              "      <td>1833</td>\n",
              "      <td>1</td>\n",
              "      <td>Steak Burrito</td>\n",
              "      <td>[Fresh Tomato Salsa, [Rice, Black Beans, Sour ...</td>\n",
              "      <td>$11.75</td>\n",
              "    </tr>\n",
              "    <tr>\n",
              "      <th>4618</th>\n",
              "      <td>1833</td>\n",
              "      <td>1</td>\n",
              "      <td>Steak Burrito</td>\n",
              "      <td>[Fresh Tomato Salsa, [Rice, Sour Cream, Cheese...</td>\n",
              "      <td>$11.75</td>\n",
              "    </tr>\n",
              "    <tr>\n",
              "      <th>4619</th>\n",
              "      <td>1834</td>\n",
              "      <td>1</td>\n",
              "      <td>Chicken Salad Bowl</td>\n",
              "      <td>[Fresh Tomato Salsa, [Fajita Vegetables, Pinto...</td>\n",
              "      <td>$11.25</td>\n",
              "    </tr>\n",
              "    <tr>\n",
              "      <th>4620</th>\n",
              "      <td>1834</td>\n",
              "      <td>1</td>\n",
              "      <td>Chicken Salad Bowl</td>\n",
              "      <td>[Fresh Tomato Salsa, [Fajita Vegetables, Lettu...</td>\n",
              "      <td>$8.75</td>\n",
              "    </tr>\n",
              "    <tr>\n",
              "      <th>4621</th>\n",
              "      <td>1834</td>\n",
              "      <td>1</td>\n",
              "      <td>Chicken Salad Bowl</td>\n",
              "      <td>[Fresh Tomato Salsa, [Fajita Vegetables, Pinto...</td>\n",
              "      <td>$8.75</td>\n",
              "    </tr>\n",
              "  </tbody>\n",
              "</table>\n",
              "<p>4622 rows × 5 columns</p>\n",
              "</div>"
            ],
            "text/plain": [
              "      order_id  quantity                              item_name  \\\n",
              "0            1         1           Chips and Fresh Tomato Salsa   \n",
              "1            1         1                                   Izze   \n",
              "2            1         1                       Nantucket Nectar   \n",
              "3            1         1  Chips and Tomatillo-Green Chili Salsa   \n",
              "4            2         2                           Chicken Bowl   \n",
              "...        ...       ...                                    ...   \n",
              "4617      1833         1                          Steak Burrito   \n",
              "4618      1833         1                          Steak Burrito   \n",
              "4619      1834         1                     Chicken Salad Bowl   \n",
              "4620      1834         1                     Chicken Salad Bowl   \n",
              "4621      1834         1                     Chicken Salad Bowl   \n",
              "\n",
              "                                     choice_description item_price  \n",
              "0                                                   NaN     $2.39   \n",
              "1                                          [Clementine]     $3.39   \n",
              "2                                               [Apple]     $3.39   \n",
              "3                                                   NaN     $2.39   \n",
              "4     [Tomatillo-Red Chili Salsa (Hot), [Black Beans...    $16.98   \n",
              "...                                                 ...        ...  \n",
              "4617  [Fresh Tomato Salsa, [Rice, Black Beans, Sour ...    $11.75   \n",
              "4618  [Fresh Tomato Salsa, [Rice, Sour Cream, Cheese...    $11.75   \n",
              "4619  [Fresh Tomato Salsa, [Fajita Vegetables, Pinto...    $11.25   \n",
              "4620  [Fresh Tomato Salsa, [Fajita Vegetables, Lettu...     $8.75   \n",
              "4621  [Fresh Tomato Salsa, [Fajita Vegetables, Pinto...     $8.75   \n",
              "\n",
              "[4622 rows x 5 columns]"
            ]
          },
          "execution_count": 49,
          "metadata": {},
          "output_type": "execute_result"
        }
      ],
      "source": [
        "# rmk: the initial dataframe remains unchanged\n",
        "set2"
      ]
    },
    {
      "cell_type": "code",
      "execution_count": 50,
      "metadata": {
        "id": "6GmpxOvGUQ5O",
        "outputId": "cefcba83-46cc-4266-b7e3-ea19912d5f82",
        "scrolled": true
      },
      "outputs": [
        {
          "data": {
            "text/plain": [
              "0                                                     NaN\n",
              "1                                        Izze[Clementine]\n",
              "2                                 Nantucket Nectar[Apple]\n",
              "3                                                     NaN\n",
              "4       Chicken Bowl[Tomatillo-Red Chili Salsa (Hot), ...\n",
              "                              ...                        \n",
              "4617    Steak Burrito[Fresh Tomato Salsa, [Rice, Black...\n",
              "4618    Steak Burrito[Fresh Tomato Salsa, [Rice, Sour ...\n",
              "4619    Chicken Salad Bowl[Fresh Tomato Salsa, [Fajita...\n",
              "4620    Chicken Salad Bowl[Fresh Tomato Salsa, [Fajita...\n",
              "4621    Chicken Salad Bowl[Fresh Tomato Salsa, [Fajita...\n",
              "Length: 4622, dtype: object"
            ]
          },
          "execution_count": 50,
          "metadata": {},
          "output_type": "execute_result"
        }
      ],
      "source": [
        "# operations applied directly to columns (more efficient than map or apply but less flexible)\n",
        "set2 = pd.read_csv(url, sep = '\\t')\n",
        "set2.item_name + set2.choice_description"
      ]
    },
    {
      "cell_type": "code",
      "execution_count": 51,
      "metadata": {
        "id": "x7hE5MvNUQ5O",
        "outputId": "0ca1f10c-6479-415b-f65b-cf82b5133b6d"
      },
      "outputs": [
        {
          "data": {
            "text/plain": [
              "order_id                        14\n",
              "quantity                         1\n",
              "item_name              Canned Soda\n",
              "choice_description    [Dr. Pepper]\n",
              "item_price                  $1.09 \n",
              "Name: 28, dtype: object"
            ]
          },
          "execution_count": 51,
          "metadata": {},
          "output_type": "execute_result"
        }
      ],
      "source": [
        "# finding the product with the smallest price\n",
        "ind = set2.item_price.map(lambda x: float(x[1:])).idxmin()\n",
        "set2.loc[ind]"
      ]
    },
    {
      "cell_type": "markdown",
      "metadata": {
        "id": "qb95KcxSUQ5O"
      },
      "source": [
        "### Exercise 4 / Exercițiu 4\n",
        " * find the number of products that have the price smaller than the average price / determinați numărul de produse care au prețul mai mic decât media prețurilor\n",
        " * Hint:\n",
        "     * compute the average price / determinați prețul mediu:\n",
        "         * np.average(set2.item_price.apply(lambda x: float(x[1:])))\n",
        "     * use loc and  value-based filtering (see section 4) / utilizați loc și filtrate bazată pe valoare (sect 4)"
      ]
    },
    {
      "cell_type": "code",
      "execution_count": 53,
      "metadata": {},
      "outputs": [
        {
          "data": {
            "text/html": [
              "<div>\n",
              "<style scoped>\n",
              "    .dataframe tbody tr th:only-of-type {\n",
              "        vertical-align: middle;\n",
              "    }\n",
              "\n",
              "    .dataframe tbody tr th {\n",
              "        vertical-align: top;\n",
              "    }\n",
              "\n",
              "    .dataframe thead th {\n",
              "        text-align: right;\n",
              "    }\n",
              "</style>\n",
              "<table border=\"1\" class=\"dataframe\">\n",
              "  <thead>\n",
              "    <tr style=\"text-align: right;\">\n",
              "      <th></th>\n",
              "      <th>LOCATION</th>\n",
              "      <th>Country</th>\n",
              "      <th>VAR</th>\n",
              "      <th>Variable</th>\n",
              "      <th>TIME</th>\n",
              "      <th>Time</th>\n",
              "      <th>Unit Code</th>\n",
              "      <th>Unit</th>\n",
              "      <th>PowerCode</th>\n",
              "      <th>PowerCode</th>\n",
              "      <th>Reference</th>\n",
              "      <th>Reference .1</th>\n",
              "      <th>Value</th>\n",
              "    </tr>\n",
              "  </thead>\n",
              "  <tbody>\n",
              "    <tr>\n",
              "      <th>1</th>\n",
              "      <td>AUT</td>\n",
              "      <td>Austria</td>\n",
              "      <td>BB-DATA-GB</td>\n",
              "      <td>Mobile data usage per mobile broadband subscri...</td>\n",
              "      <td>2012</td>\n",
              "      <td>2012</td>\n",
              "      <td>0</td>\n",
              "      <td>0</td>\n",
              "      <td>0</td>\n",
              "      <td>Units</td>\n",
              "      <td>0</td>\n",
              "      <td>0</td>\n",
              "      <td>1.373</td>\n",
              "    </tr>\n",
              "    <tr>\n",
              "      <th>4</th>\n",
              "      <td>FIN</td>\n",
              "      <td>Finland</td>\n",
              "      <td>BB-DATA-GB</td>\n",
              "      <td>Mobile data usage per mobile broadband subscri...</td>\n",
              "      <td>2012</td>\n",
              "      <td>2012</td>\n",
              "      <td>0</td>\n",
              "      <td>0</td>\n",
              "      <td>0</td>\n",
              "      <td>Units</td>\n",
              "      <td>0</td>\n",
              "      <td>0</td>\n",
              "      <td>2.006</td>\n",
              "    </tr>\n",
              "    <tr>\n",
              "      <th>8</th>\n",
              "      <td>HUN</td>\n",
              "      <td>Hungary</td>\n",
              "      <td>BB-DATA-GB</td>\n",
              "      <td>Mobile data usage per mobile broadband subscri...</td>\n",
              "      <td>2012</td>\n",
              "      <td>2012</td>\n",
              "      <td>0</td>\n",
              "      <td>0</td>\n",
              "      <td>0</td>\n",
              "      <td>Units</td>\n",
              "      <td>0</td>\n",
              "      <td>0</td>\n",
              "      <td>1.101</td>\n",
              "    </tr>\n",
              "    <tr>\n",
              "      <th>16</th>\n",
              "      <td>PRT</td>\n",
              "      <td>Portugal</td>\n",
              "      <td>BB-DATA-GB</td>\n",
              "      <td>Mobile data usage per mobile broadband subscri...</td>\n",
              "      <td>2012</td>\n",
              "      <td>2012</td>\n",
              "      <td>0</td>\n",
              "      <td>0</td>\n",
              "      <td>0</td>\n",
              "      <td>Units</td>\n",
              "      <td>0</td>\n",
              "      <td>0</td>\n",
              "      <td>1.045</td>\n",
              "    </tr>\n",
              "    <tr>\n",
              "      <th>18</th>\n",
              "      <td>SWE</td>\n",
              "      <td>Sweden</td>\n",
              "      <td>BB-DATA-GB</td>\n",
              "      <td>Mobile data usage per mobile broadband subscri...</td>\n",
              "      <td>2012</td>\n",
              "      <td>2012</td>\n",
              "      <td>0</td>\n",
              "      <td>0</td>\n",
              "      <td>0</td>\n",
              "      <td>Units</td>\n",
              "      <td>0</td>\n",
              "      <td>0</td>\n",
              "      <td>1.571</td>\n",
              "    </tr>\n",
              "    <tr>\n",
              "      <th>...</th>\n",
              "      <td>...</td>\n",
              "      <td>...</td>\n",
              "      <td>...</td>\n",
              "      <td>...</td>\n",
              "      <td>...</td>\n",
              "      <td>...</td>\n",
              "      <td>...</td>\n",
              "      <td>...</td>\n",
              "      <td>...</td>\n",
              "      <td>...</td>\n",
              "      <td>...</td>\n",
              "      <td>...</td>\n",
              "      <td>...</td>\n",
              "    </tr>\n",
              "    <tr>\n",
              "      <th>393</th>\n",
              "      <td>LTU</td>\n",
              "      <td>Lithuania</td>\n",
              "      <td>BB-DATA-GB</td>\n",
              "      <td>Mobile data usage per mobile broadband subscri...</td>\n",
              "      <td>2022</td>\n",
              "      <td>2022</td>\n",
              "      <td>0</td>\n",
              "      <td>0</td>\n",
              "      <td>0</td>\n",
              "      <td>Units</td>\n",
              "      <td>0</td>\n",
              "      <td>0</td>\n",
              "      <td>27.757</td>\n",
              "    </tr>\n",
              "    <tr>\n",
              "      <th>394</th>\n",
              "      <td>SVN</td>\n",
              "      <td>Slovenia</td>\n",
              "      <td>BB-DATA-GB</td>\n",
              "      <td>Mobile data usage per mobile broadband subscri...</td>\n",
              "      <td>2022</td>\n",
              "      <td>2022</td>\n",
              "      <td>0</td>\n",
              "      <td>0</td>\n",
              "      <td>0</td>\n",
              "      <td>Units</td>\n",
              "      <td>0</td>\n",
              "      <td>0</td>\n",
              "      <td>13.399</td>\n",
              "    </tr>\n",
              "    <tr>\n",
              "      <th>395</th>\n",
              "      <td>OECD</td>\n",
              "      <td>OECD - Total</td>\n",
              "      <td>BB-DATA-GB</td>\n",
              "      <td>Mobile data usage per mobile broadband subscri...</td>\n",
              "      <td>2022</td>\n",
              "      <td>2022</td>\n",
              "      <td>0</td>\n",
              "      <td>0</td>\n",
              "      <td>0</td>\n",
              "      <td>Units</td>\n",
              "      <td>0</td>\n",
              "      <td>0</td>\n",
              "      <td>10.359</td>\n",
              "    </tr>\n",
              "    <tr>\n",
              "      <th>396</th>\n",
              "      <td>ISR</td>\n",
              "      <td>Israel</td>\n",
              "      <td>BB-DATA-GB</td>\n",
              "      <td>Mobile data usage per mobile broadband subscri...</td>\n",
              "      <td>2022</td>\n",
              "      <td>2022</td>\n",
              "      <td>0</td>\n",
              "      <td>0</td>\n",
              "      <td>0</td>\n",
              "      <td>Units</td>\n",
              "      <td>0</td>\n",
              "      <td>0</td>\n",
              "      <td>11.317</td>\n",
              "    </tr>\n",
              "    <tr>\n",
              "      <th>397</th>\n",
              "      <td>CRI</td>\n",
              "      <td>Costa Rica</td>\n",
              "      <td>BB-DATA-GB</td>\n",
              "      <td>Mobile data usage per mobile broadband subscri...</td>\n",
              "      <td>2022</td>\n",
              "      <td>2022</td>\n",
              "      <td>0</td>\n",
              "      <td>0</td>\n",
              "      <td>0</td>\n",
              "      <td>Units</td>\n",
              "      <td>0</td>\n",
              "      <td>0</td>\n",
              "      <td>5.714</td>\n",
              "    </tr>\n",
              "  </tbody>\n",
              "</table>\n",
              "<p>333 rows × 13 columns</p>\n",
              "</div>"
            ],
            "text/plain": [
              "    LOCATION       Country         VAR  \\\n",
              "1        AUT       Austria  BB-DATA-GB   \n",
              "4        FIN       Finland  BB-DATA-GB   \n",
              "8        HUN       Hungary  BB-DATA-GB   \n",
              "16       PRT      Portugal  BB-DATA-GB   \n",
              "18       SWE        Sweden  BB-DATA-GB   \n",
              "..       ...           ...         ...   \n",
              "393      LTU     Lithuania  BB-DATA-GB   \n",
              "394      SVN      Slovenia  BB-DATA-GB   \n",
              "395     OECD  OECD - Total  BB-DATA-GB   \n",
              "396      ISR        Israel  BB-DATA-GB   \n",
              "397      CRI    Costa Rica  BB-DATA-GB   \n",
              "\n",
              "                                             Variable   TIME  Time  Unit Code  \\\n",
              "1    Mobile data usage per mobile broadband subscri...  2012  2012          0   \n",
              "4    Mobile data usage per mobile broadband subscri...  2012  2012          0   \n",
              "8    Mobile data usage per mobile broadband subscri...  2012  2012          0   \n",
              "16   Mobile data usage per mobile broadband subscri...  2012  2012          0   \n",
              "18   Mobile data usage per mobile broadband subscri...  2012  2012          0   \n",
              "..                                                 ...   ...   ...        ...   \n",
              "393  Mobile data usage per mobile broadband subscri...  2022  2022          0   \n",
              "394  Mobile data usage per mobile broadband subscri...  2022  2022          0   \n",
              "395  Mobile data usage per mobile broadband subscri...  2022  2022          0   \n",
              "396  Mobile data usage per mobile broadband subscri...  2022  2022          0   \n",
              "397  Mobile data usage per mobile broadband subscri...  2022  2022          0   \n",
              "\n",
              "     Unit  PowerCode  PowerCode  Reference   Reference .1   Value  \n",
              "1       0           0     Units           0             0   1.373  \n",
              "4       0           0     Units           0             0   2.006  \n",
              "8       0           0     Units           0             0   1.101  \n",
              "16      0           0     Units           0             0   1.045  \n",
              "18      0           0     Units           0             0   1.571  \n",
              "..    ...         ...       ...         ...           ...     ...  \n",
              "393     0           0     Units           0             0  27.757  \n",
              "394     0           0     Units           0             0  13.399  \n",
              "395     0           0     Units           0             0  10.359  \n",
              "396     0           0     Units           0             0  11.317  \n",
              "397     0           0     Units           0             0   5.714  \n",
              "\n",
              "[333 rows x 13 columns]"
            ]
          },
          "execution_count": 53,
          "metadata": {},
          "output_type": "execute_result"
        }
      ],
      "source": [
        "average = np.average(telecom_stats.Value)\n",
        "smaller_than_avg = telecom_stats.loc[telecom_stats.Value < average]\n",
        "smaller_than_avg"
      ]
    },
    {
      "cell_type": "markdown",
      "metadata": {
        "id": "MEtSlwm2UQ5O"
      },
      "source": [
        "## 7. Grouping / Gruparea datelor\n",
        " * function groupby\n",
        "    * it allows to group instances based on the values of an attribute and applying operations at the group level /  permite gruparea instanțelor pe baza valorilor atributelor și efectuarea de operații la nivel de grup\n",
        "    * the grouping can be done simultaneously for several attributes / gruparea poate fi realizată pe baza mai multor atribute\n",
        "    * details: https://www.kaggle.com/residentmario/grouping-and-sorting"
      ]
    },
    {
      "cell_type": "code",
      "execution_count": 56,
      "metadata": {
        "id": "KX3LL3mUUQ5O",
        "outputId": "c3714bf4-ca7b-4d7f-afed-39a17794de08",
        "scrolled": true
      },
      "outputs": [
        {
          "data": {
            "text/plain": [
              "item_name\n",
              "6 Pack Soft Drink                         54\n",
              "Barbacoa Bowl                             66\n",
              "Barbacoa Burrito                          91\n",
              "Barbacoa Crispy Tacos                     11\n",
              "Barbacoa Salad Bowl                       10\n",
              "Barbacoa Soft Tacos                       25\n",
              "Bottled Water                            162\n",
              "Bowl                                       2\n",
              "Burrito                                    6\n",
              "Canned Soda                              104\n",
              "Canned Soft Drink                        301\n",
              "Carnitas Bowl                             68\n",
              "Carnitas Burrito                          59\n",
              "Carnitas Crispy Tacos                      7\n",
              "Carnitas Salad                             1\n",
              "Carnitas Salad Bowl                        6\n",
              "Carnitas Soft Tacos                       40\n",
              "Chicken Bowl                             726\n",
              "Chicken Burrito                          553\n",
              "Chicken Crispy Tacos                      47\n",
              "Chicken Salad                              9\n",
              "Chicken Salad Bowl                       110\n",
              "Chicken Soft Tacos                       115\n",
              "Chips                                    211\n",
              "Chips and Fresh Tomato Salsa             110\n",
              "Chips and Guacamole                      479\n",
              "Chips and Mild Fresh Tomato Salsa          1\n",
              "Chips and Roasted Chili Corn Salsa        22\n",
              "Chips and Roasted Chili-Corn Salsa        18\n",
              "Chips and Tomatillo Green Chili Salsa     43\n",
              "Chips and Tomatillo Red Chili Salsa       48\n",
              "Chips and Tomatillo-Green Chili Salsa     31\n",
              "Chips and Tomatillo-Red Chili Salsa       20\n",
              "Crispy Tacos                               2\n",
              "Izze                                      20\n",
              "Nantucket Nectar                          27\n",
              "Salad                                      2\n",
              "Side of Chips                            101\n",
              "Steak Bowl                               211\n",
              "Steak Burrito                            368\n",
              "Steak Crispy Tacos                        35\n",
              "Steak Salad                                4\n",
              "Steak Salad Bowl                          29\n",
              "Steak Soft Tacos                          55\n",
              "Veggie Bowl                               85\n",
              "Veggie Burrito                            95\n",
              "Veggie Crispy Tacos                        1\n",
              "Veggie Salad                               6\n",
              "Veggie Salad Bowl                         18\n",
              "Veggie Soft Tacos                          7\n",
              "Name: item_name, dtype: int64"
            ]
          },
          "execution_count": 56,
          "metadata": {},
          "output_type": "execute_result"
        }
      ],
      "source": [
        "# group all instances with the same item_name and count them\n",
        "set2.groupby('item_name').item_name.count()"
      ]
    },
    {
      "cell_type": "code",
      "execution_count": 57,
      "metadata": {
        "id": "uKgrKLmHUQ5P",
        "outputId": "c2fc3cc4-7031-492e-9d07-366074ee6bf3"
      },
      "outputs": [
        {
          "data": {
            "text/plain": [
              "item_name\n",
              "6 Pack Soft Drink                        6.49\n",
              "Barbacoa Bowl                            8.69\n",
              "Barbacoa Burrito                         8.69\n",
              "Barbacoa Crispy Tacos                    8.99\n",
              "Barbacoa Salad Bowl                      9.39\n",
              "Barbacoa Soft Tacos                      8.99\n",
              "Bottled Water                            1.09\n",
              "Bowl                                     7.40\n",
              "Burrito                                  7.40\n",
              "Canned Soda                              1.09\n",
              "Canned Soft Drink                        1.25\n",
              "Carnitas Bowl                            8.99\n",
              "Carnitas Burrito                         8.69\n",
              "Carnitas Crispy Tacos                    8.99\n",
              "Carnitas Salad                           8.99\n",
              "Carnitas Salad Bowl                      9.39\n",
              "Carnitas Soft Tacos                      8.99\n",
              "Chicken Bowl                             8.19\n",
              "Chicken Burrito                          8.19\n",
              "Chicken Crispy Tacos                     8.49\n",
              "Chicken Salad                            8.19\n",
              "Chicken Salad Bowl                       8.75\n",
              "Chicken Soft Tacos                       8.49\n",
              "Chips                                    1.99\n",
              "Chips and Fresh Tomato Salsa             2.29\n",
              "Chips and Guacamole                      3.89\n",
              "Chips and Mild Fresh Tomato Salsa        3.00\n",
              "Chips and Roasted Chili Corn Salsa       2.95\n",
              "Chips and Roasted Chili-Corn Salsa       2.39\n",
              "Chips and Tomatillo Green Chili Salsa    2.95\n",
              "Chips and Tomatillo Red Chili Salsa      2.95\n",
              "Chips and Tomatillo-Green Chili Salsa    2.39\n",
              "Chips and Tomatillo-Red Chili Salsa      2.39\n",
              "Crispy Tacos                             7.40\n",
              "Izze                                     3.39\n",
              "Nantucket Nectar                         3.39\n",
              "Salad                                    7.40\n",
              "Side of Chips                            1.69\n",
              "Steak Bowl                               8.69\n",
              "Steak Burrito                            8.69\n",
              "Steak Crispy Tacos                       8.69\n",
              "Steak Salad                              8.69\n",
              "Steak Salad Bowl                         9.39\n",
              "Steak Soft Tacos                         8.99\n",
              "Veggie Bowl                              8.49\n",
              "Veggie Burrito                           8.49\n",
              "Veggie Crispy Tacos                      8.49\n",
              "Veggie Salad                             8.49\n",
              "Veggie Salad Bowl                        8.75\n",
              "Veggie Soft Tacos                        8.49\n",
              "Name: item_price, dtype: float64"
            ]
          },
          "execution_count": 57,
          "metadata": {},
          "output_type": "execute_result"
        }
      ],
      "source": [
        "set2=set2.apply(toNumber, axis='columns')  # transforming the price in a number\n",
        "set2.groupby('item_name').item_price.min() # finding the smallest price for each type of items"
      ]
    },
    {
      "cell_type": "code",
      "execution_count": 58,
      "metadata": {
        "id": "Gr6t4FHdUQ5P",
        "outputId": "aeb966da-497a-40eb-b631-9afd178c099b"
      },
      "outputs": [
        {
          "data": {
            "text/plain": [
              "item_name          item_price\n",
              "6 Pack Soft Drink  6.49          53\n",
              "                   12.98          1\n",
              "Barbacoa Bowl      8.69           3\n",
              "                   8.99           8\n",
              "                   9.25          28\n",
              "                                 ..\n",
              "Veggie Salad Bowl  11.25         10\n",
              "Veggie Soft Tacos  8.49           2\n",
              "                   8.75           2\n",
              "                   11.25          2\n",
              "                   16.98          1\n",
              "Name: item_name, Length: 209, dtype: int64"
            ]
          },
          "execution_count": 58,
          "metadata": {},
          "output_type": "execute_result"
        }
      ],
      "source": [
        "# finding the number of instances corresponding to each type of items and having the same price\n",
        "\n",
        "set2.groupby(['item_name','item_price']).item_name.count()"
      ]
    },
    {
      "cell_type": "code",
      "execution_count": 60,
      "metadata": {
        "id": "NqJo7Y1qUQ5P",
        "outputId": "44339468-cc96-43d2-a597-5fec43d34d46",
        "scrolled": true
      },
      "outputs": [
        {
          "data": {
            "text/html": [
              "<div>\n",
              "<style scoped>\n",
              "    .dataframe tbody tr th:only-of-type {\n",
              "        vertical-align: middle;\n",
              "    }\n",
              "\n",
              "    .dataframe tbody tr th {\n",
              "        vertical-align: top;\n",
              "    }\n",
              "\n",
              "    .dataframe thead th {\n",
              "        text-align: right;\n",
              "    }\n",
              "</style>\n",
              "<table border=\"1\" class=\"dataframe\">\n",
              "  <thead>\n",
              "    <tr style=\"text-align: right;\">\n",
              "      <th></th>\n",
              "      <th>min</th>\n",
              "      <th>max</th>\n",
              "    </tr>\n",
              "    <tr>\n",
              "      <th>item_name</th>\n",
              "      <th></th>\n",
              "      <th></th>\n",
              "    </tr>\n",
              "  </thead>\n",
              "  <tbody>\n",
              "    <tr>\n",
              "      <th>6 Pack Soft Drink</th>\n",
              "      <td>6.49</td>\n",
              "      <td>12.98</td>\n",
              "    </tr>\n",
              "    <tr>\n",
              "      <th>Barbacoa Bowl</th>\n",
              "      <td>8.69</td>\n",
              "      <td>11.75</td>\n",
              "    </tr>\n",
              "    <tr>\n",
              "      <th>Barbacoa Burrito</th>\n",
              "      <td>8.69</td>\n",
              "      <td>11.75</td>\n",
              "    </tr>\n",
              "    <tr>\n",
              "      <th>Barbacoa Crispy Tacos</th>\n",
              "      <td>8.99</td>\n",
              "      <td>18.50</td>\n",
              "    </tr>\n",
              "    <tr>\n",
              "      <th>Barbacoa Salad Bowl</th>\n",
              "      <td>9.39</td>\n",
              "      <td>11.89</td>\n",
              "    </tr>\n",
              "    <tr>\n",
              "      <th>Barbacoa Soft Tacos</th>\n",
              "      <td>8.99</td>\n",
              "      <td>11.75</td>\n",
              "    </tr>\n",
              "    <tr>\n",
              "      <th>Bottled Water</th>\n",
              "      <td>1.09</td>\n",
              "      <td>15.00</td>\n",
              "    </tr>\n",
              "    <tr>\n",
              "      <th>Bowl</th>\n",
              "      <td>7.40</td>\n",
              "      <td>22.20</td>\n",
              "    </tr>\n",
              "    <tr>\n",
              "      <th>Burrito</th>\n",
              "      <td>7.40</td>\n",
              "      <td>7.40</td>\n",
              "    </tr>\n",
              "    <tr>\n",
              "      <th>Canned Soda</th>\n",
              "      <td>1.09</td>\n",
              "      <td>4.36</td>\n",
              "    </tr>\n",
              "    <tr>\n",
              "      <th>Canned Soft Drink</th>\n",
              "      <td>1.25</td>\n",
              "      <td>5.00</td>\n",
              "    </tr>\n",
              "    <tr>\n",
              "      <th>Carnitas Bowl</th>\n",
              "      <td>8.99</td>\n",
              "      <td>35.25</td>\n",
              "    </tr>\n",
              "    <tr>\n",
              "      <th>Carnitas Burrito</th>\n",
              "      <td>8.69</td>\n",
              "      <td>18.50</td>\n",
              "    </tr>\n",
              "    <tr>\n",
              "      <th>Carnitas Crispy Tacos</th>\n",
              "      <td>8.99</td>\n",
              "      <td>17.98</td>\n",
              "    </tr>\n",
              "    <tr>\n",
              "      <th>Carnitas Salad</th>\n",
              "      <td>8.99</td>\n",
              "      <td>8.99</td>\n",
              "    </tr>\n",
              "    <tr>\n",
              "      <th>Carnitas Salad Bowl</th>\n",
              "      <td>9.39</td>\n",
              "      <td>11.89</td>\n",
              "    </tr>\n",
              "    <tr>\n",
              "      <th>Carnitas Soft Tacos</th>\n",
              "      <td>8.99</td>\n",
              "      <td>11.75</td>\n",
              "    </tr>\n",
              "    <tr>\n",
              "      <th>Chicken Bowl</th>\n",
              "      <td>8.19</td>\n",
              "      <td>32.94</td>\n",
              "    </tr>\n",
              "    <tr>\n",
              "      <th>Chicken Burrito</th>\n",
              "      <td>8.19</td>\n",
              "      <td>35.00</td>\n",
              "    </tr>\n",
              "    <tr>\n",
              "      <th>Chicken Crispy Tacos</th>\n",
              "      <td>8.49</td>\n",
              "      <td>17.50</td>\n",
              "    </tr>\n",
              "    <tr>\n",
              "      <th>Chicken Salad</th>\n",
              "      <td>8.19</td>\n",
              "      <td>10.98</td>\n",
              "    </tr>\n",
              "    <tr>\n",
              "      <th>Chicken Salad Bowl</th>\n",
              "      <td>8.75</td>\n",
              "      <td>22.50</td>\n",
              "    </tr>\n",
              "    <tr>\n",
              "      <th>Chicken Soft Tacos</th>\n",
              "      <td>8.49</td>\n",
              "      <td>21.96</td>\n",
              "    </tr>\n",
              "    <tr>\n",
              "      <th>Chips</th>\n",
              "      <td>1.99</td>\n",
              "      <td>6.45</td>\n",
              "    </tr>\n",
              "    <tr>\n",
              "      <th>Chips and Fresh Tomato Salsa</th>\n",
              "      <td>2.29</td>\n",
              "      <td>44.25</td>\n",
              "    </tr>\n",
              "    <tr>\n",
              "      <th>Chips and Guacamole</th>\n",
              "      <td>3.89</td>\n",
              "      <td>17.80</td>\n",
              "    </tr>\n",
              "    <tr>\n",
              "      <th>Chips and Mild Fresh Tomato Salsa</th>\n",
              "      <td>3.00</td>\n",
              "      <td>3.00</td>\n",
              "    </tr>\n",
              "    <tr>\n",
              "      <th>Chips and Roasted Chili Corn Salsa</th>\n",
              "      <td>2.95</td>\n",
              "      <td>5.90</td>\n",
              "    </tr>\n",
              "    <tr>\n",
              "      <th>Chips and Roasted Chili-Corn Salsa</th>\n",
              "      <td>2.39</td>\n",
              "      <td>2.39</td>\n",
              "    </tr>\n",
              "    <tr>\n",
              "      <th>Chips and Tomatillo Green Chili Salsa</th>\n",
              "      <td>2.95</td>\n",
              "      <td>5.90</td>\n",
              "    </tr>\n",
              "    <tr>\n",
              "      <th>Chips and Tomatillo Red Chili Salsa</th>\n",
              "      <td>2.95</td>\n",
              "      <td>5.90</td>\n",
              "    </tr>\n",
              "    <tr>\n",
              "      <th>Chips and Tomatillo-Green Chili Salsa</th>\n",
              "      <td>2.39</td>\n",
              "      <td>4.78</td>\n",
              "    </tr>\n",
              "    <tr>\n",
              "      <th>Chips and Tomatillo-Red Chili Salsa</th>\n",
              "      <td>2.39</td>\n",
              "      <td>7.17</td>\n",
              "    </tr>\n",
              "    <tr>\n",
              "      <th>Crispy Tacos</th>\n",
              "      <td>7.40</td>\n",
              "      <td>7.40</td>\n",
              "    </tr>\n",
              "    <tr>\n",
              "      <th>Izze</th>\n",
              "      <td>3.39</td>\n",
              "      <td>3.39</td>\n",
              "    </tr>\n",
              "    <tr>\n",
              "      <th>Nantucket Nectar</th>\n",
              "      <td>3.39</td>\n",
              "      <td>6.78</td>\n",
              "    </tr>\n",
              "    <tr>\n",
              "      <th>Salad</th>\n",
              "      <td>7.40</td>\n",
              "      <td>7.40</td>\n",
              "    </tr>\n",
              "    <tr>\n",
              "      <th>Side of Chips</th>\n",
              "      <td>1.69</td>\n",
              "      <td>13.52</td>\n",
              "    </tr>\n",
              "    <tr>\n",
              "      <th>Steak Bowl</th>\n",
              "      <td>8.69</td>\n",
              "      <td>26.07</td>\n",
              "    </tr>\n",
              "    <tr>\n",
              "      <th>Steak Burrito</th>\n",
              "      <td>8.69</td>\n",
              "      <td>27.75</td>\n",
              "    </tr>\n",
              "    <tr>\n",
              "      <th>Steak Crispy Tacos</th>\n",
              "      <td>8.69</td>\n",
              "      <td>17.98</td>\n",
              "    </tr>\n",
              "    <tr>\n",
              "      <th>Steak Salad</th>\n",
              "      <td>8.69</td>\n",
              "      <td>8.99</td>\n",
              "    </tr>\n",
              "    <tr>\n",
              "      <th>Steak Salad Bowl</th>\n",
              "      <td>9.39</td>\n",
              "      <td>23.78</td>\n",
              "    </tr>\n",
              "    <tr>\n",
              "      <th>Steak Soft Tacos</th>\n",
              "      <td>8.99</td>\n",
              "      <td>18.50</td>\n",
              "    </tr>\n",
              "    <tr>\n",
              "      <th>Veggie Bowl</th>\n",
              "      <td>8.49</td>\n",
              "      <td>16.98</td>\n",
              "    </tr>\n",
              "    <tr>\n",
              "      <th>Veggie Burrito</th>\n",
              "      <td>8.49</td>\n",
              "      <td>33.75</td>\n",
              "    </tr>\n",
              "    <tr>\n",
              "      <th>Veggie Crispy Tacos</th>\n",
              "      <td>8.49</td>\n",
              "      <td>8.49</td>\n",
              "    </tr>\n",
              "    <tr>\n",
              "      <th>Veggie Salad</th>\n",
              "      <td>8.49</td>\n",
              "      <td>8.49</td>\n",
              "    </tr>\n",
              "    <tr>\n",
              "      <th>Veggie Salad Bowl</th>\n",
              "      <td>8.75</td>\n",
              "      <td>11.25</td>\n",
              "    </tr>\n",
              "    <tr>\n",
              "      <th>Veggie Soft Tacos</th>\n",
              "      <td>8.49</td>\n",
              "      <td>16.98</td>\n",
              "    </tr>\n",
              "  </tbody>\n",
              "</table>\n",
              "</div>"
            ],
            "text/plain": [
              "                                        min    max\n",
              "item_name                                         \n",
              "6 Pack Soft Drink                      6.49  12.98\n",
              "Barbacoa Bowl                          8.69  11.75\n",
              "Barbacoa Burrito                       8.69  11.75\n",
              "Barbacoa Crispy Tacos                  8.99  18.50\n",
              "Barbacoa Salad Bowl                    9.39  11.89\n",
              "Barbacoa Soft Tacos                    8.99  11.75\n",
              "Bottled Water                          1.09  15.00\n",
              "Bowl                                   7.40  22.20\n",
              "Burrito                                7.40   7.40\n",
              "Canned Soda                            1.09   4.36\n",
              "Canned Soft Drink                      1.25   5.00\n",
              "Carnitas Bowl                          8.99  35.25\n",
              "Carnitas Burrito                       8.69  18.50\n",
              "Carnitas Crispy Tacos                  8.99  17.98\n",
              "Carnitas Salad                         8.99   8.99\n",
              "Carnitas Salad Bowl                    9.39  11.89\n",
              "Carnitas Soft Tacos                    8.99  11.75\n",
              "Chicken Bowl                           8.19  32.94\n",
              "Chicken Burrito                        8.19  35.00\n",
              "Chicken Crispy Tacos                   8.49  17.50\n",
              "Chicken Salad                          8.19  10.98\n",
              "Chicken Salad Bowl                     8.75  22.50\n",
              "Chicken Soft Tacos                     8.49  21.96\n",
              "Chips                                  1.99   6.45\n",
              "Chips and Fresh Tomato Salsa           2.29  44.25\n",
              "Chips and Guacamole                    3.89  17.80\n",
              "Chips and Mild Fresh Tomato Salsa      3.00   3.00\n",
              "Chips and Roasted Chili Corn Salsa     2.95   5.90\n",
              "Chips and Roasted Chili-Corn Salsa     2.39   2.39\n",
              "Chips and Tomatillo Green Chili Salsa  2.95   5.90\n",
              "Chips and Tomatillo Red Chili Salsa    2.95   5.90\n",
              "Chips and Tomatillo-Green Chili Salsa  2.39   4.78\n",
              "Chips and Tomatillo-Red Chili Salsa    2.39   7.17\n",
              "Crispy Tacos                           7.40   7.40\n",
              "Izze                                   3.39   3.39\n",
              "Nantucket Nectar                       3.39   6.78\n",
              "Salad                                  7.40   7.40\n",
              "Side of Chips                          1.69  13.52\n",
              "Steak Bowl                             8.69  26.07\n",
              "Steak Burrito                          8.69  27.75\n",
              "Steak Crispy Tacos                     8.69  17.98\n",
              "Steak Salad                            8.69   8.99\n",
              "Steak Salad Bowl                       9.39  23.78\n",
              "Steak Soft Tacos                       8.99  18.50\n",
              "Veggie Bowl                            8.49  16.98\n",
              "Veggie Burrito                         8.49  33.75\n",
              "Veggie Crispy Tacos                    8.49   8.49\n",
              "Veggie Salad                           8.49   8.49\n",
              "Veggie Salad Bowl                      8.75  11.25\n",
              "Veggie Soft Tacos                      8.49  16.98"
            ]
          },
          "execution_count": 60,
          "metadata": {},
          "output_type": "execute_result"
        }
      ],
      "source": [
        "# finding for each type of items the smallest and the largest price (applying several functions in an aggregating way)\n",
        "set2.groupby(['item_name']).item_price.agg(['min', 'max'])"
      ]
    },
    {
      "cell_type": "markdown",
      "metadata": {
        "id": "aAzpWc8wUQ5P"
      },
      "source": [
        "## 8. Sorting / Sortare\n",
        " * function sort_values(by='attribute name')"
      ]
    },
    {
      "cell_type": "code",
      "execution_count": 61,
      "metadata": {
        "id": "KNYxbeK7UQ5P"
      },
      "outputs": [],
      "source": [
        "# increasing sorting by price\n",
        "set2Sorted = set2.sort_values(by='item_price')"
      ]
    },
    {
      "cell_type": "code",
      "execution_count": 67,
      "metadata": {
        "id": "Uf7C0K_fUQ5Q",
        "outputId": "b1932016-b0de-4ebe-82f0-7ffd84e5627b",
        "scrolled": true
      },
      "outputs": [
        {
          "data": {
            "text/html": [
              "<div>\n",
              "<style scoped>\n",
              "    .dataframe tbody tr th:only-of-type {\n",
              "        vertical-align: middle;\n",
              "    }\n",
              "\n",
              "    .dataframe tbody tr th {\n",
              "        vertical-align: top;\n",
              "    }\n",
              "\n",
              "    .dataframe thead th {\n",
              "        text-align: right;\n",
              "    }\n",
              "</style>\n",
              "<table border=\"1\" class=\"dataframe\">\n",
              "  <thead>\n",
              "    <tr style=\"text-align: right;\">\n",
              "      <th></th>\n",
              "      <th>order_id</th>\n",
              "      <th>quantity</th>\n",
              "      <th>item_name</th>\n",
              "      <th>choice_description</th>\n",
              "      <th>item_price</th>\n",
              "    </tr>\n",
              "  </thead>\n",
              "  <tbody>\n",
              "    <tr>\n",
              "      <th>1140</th>\n",
              "      <td>471</td>\n",
              "      <td>1</td>\n",
              "      <td>Bottled Water</td>\n",
              "      <td>NaN</td>\n",
              "      <td>1.09</td>\n",
              "    </tr>\n",
              "    <tr>\n",
              "      <th>821</th>\n",
              "      <td>338</td>\n",
              "      <td>1</td>\n",
              "      <td>Canned Soda</td>\n",
              "      <td>[Coca Cola]</td>\n",
              "      <td>1.09</td>\n",
              "    </tr>\n",
              "    <tr>\n",
              "      <th>3926</th>\n",
              "      <td>1575</td>\n",
              "      <td>1</td>\n",
              "      <td>Canned Soda</td>\n",
              "      <td>[Dr. Pepper]</td>\n",
              "      <td>1.09</td>\n",
              "    </tr>\n",
              "    <tr>\n",
              "      <th>107</th>\n",
              "      <td>47</td>\n",
              "      <td>1</td>\n",
              "      <td>Canned Soda</td>\n",
              "      <td>[Dr. Pepper]</td>\n",
              "      <td>1.09</td>\n",
              "    </tr>\n",
              "    <tr>\n",
              "      <th>2562</th>\n",
              "      <td>1014</td>\n",
              "      <td>1</td>\n",
              "      <td>Canned Soda</td>\n",
              "      <td>[Coca Cola]</td>\n",
              "      <td>1.09</td>\n",
              "    </tr>\n",
              "    <tr>\n",
              "      <th>473</th>\n",
              "      <td>202</td>\n",
              "      <td>1</td>\n",
              "      <td>Canned Soda</td>\n",
              "      <td>[Diet Dr. Pepper]</td>\n",
              "      <td>1.09</td>\n",
              "    </tr>\n",
              "    <tr>\n",
              "      <th>2961</th>\n",
              "      <td>1177</td>\n",
              "      <td>1</td>\n",
              "      <td>Canned Soda</td>\n",
              "      <td>[Sprite]</td>\n",
              "      <td>1.09</td>\n",
              "    </tr>\n",
              "    <tr>\n",
              "      <th>1457</th>\n",
              "      <td>591</td>\n",
              "      <td>1</td>\n",
              "      <td>Canned Soda</td>\n",
              "      <td>[Sprite]</td>\n",
              "      <td>1.09</td>\n",
              "    </tr>\n",
              "    <tr>\n",
              "      <th>2545</th>\n",
              "      <td>1009</td>\n",
              "      <td>1</td>\n",
              "      <td>Bottled Water</td>\n",
              "      <td>NaN</td>\n",
              "      <td>1.09</td>\n",
              "    </tr>\n",
              "    <tr>\n",
              "      <th>2544</th>\n",
              "      <td>1009</td>\n",
              "      <td>1</td>\n",
              "      <td>Canned Soda</td>\n",
              "      <td>[Diet Coke]</td>\n",
              "      <td>1.09</td>\n",
              "    </tr>\n",
              "  </tbody>\n",
              "</table>\n",
              "</div>"
            ],
            "text/plain": [
              "      order_id  quantity      item_name choice_description  item_price\n",
              "1140       471         1  Bottled Water                NaN        1.09\n",
              "821        338         1    Canned Soda        [Coca Cola]        1.09\n",
              "3926      1575         1    Canned Soda       [Dr. Pepper]        1.09\n",
              "107         47         1    Canned Soda       [Dr. Pepper]        1.09\n",
              "2562      1014         1    Canned Soda        [Coca Cola]        1.09\n",
              "473        202         1    Canned Soda  [Diet Dr. Pepper]        1.09\n",
              "2961      1177         1    Canned Soda           [Sprite]        1.09\n",
              "1457       591         1    Canned Soda           [Sprite]        1.09\n",
              "2545      1009         1  Bottled Water                NaN        1.09\n",
              "2544      1009         1    Canned Soda        [Diet Coke]        1.09"
            ]
          },
          "execution_count": 67,
          "metadata": {},
          "output_type": "execute_result"
        }
      ],
      "source": [
        "set2Sorted.iloc[:10]"
      ]
    },
    {
      "cell_type": "code",
      "execution_count": 68,
      "metadata": {
        "id": "kJcwp4dWUQ5Q"
      },
      "outputs": [],
      "source": [
        "# decreasing sorting by price\n",
        "set2SortedDesc = set2.sort_values(by='item_price',ascending=False)"
      ]
    },
    {
      "cell_type": "code",
      "execution_count": 69,
      "metadata": {
        "id": "MsLYmXhuUQ5Q",
        "outputId": "819c7dc7-c4ea-49f4-f74b-2467200b42bc",
        "scrolled": true
      },
      "outputs": [
        {
          "data": {
            "text/html": [
              "<div>\n",
              "<style scoped>\n",
              "    .dataframe tbody tr th:only-of-type {\n",
              "        vertical-align: middle;\n",
              "    }\n",
              "\n",
              "    .dataframe tbody tr th {\n",
              "        vertical-align: top;\n",
              "    }\n",
              "\n",
              "    .dataframe thead th {\n",
              "        text-align: right;\n",
              "    }\n",
              "</style>\n",
              "<table border=\"1\" class=\"dataframe\">\n",
              "  <thead>\n",
              "    <tr style=\"text-align: right;\">\n",
              "      <th></th>\n",
              "      <th>order_id</th>\n",
              "      <th>quantity</th>\n",
              "      <th>item_name</th>\n",
              "      <th>choice_description</th>\n",
              "      <th>item_price</th>\n",
              "    </tr>\n",
              "  </thead>\n",
              "  <tbody>\n",
              "    <tr>\n",
              "      <th>3598</th>\n",
              "      <td>1443</td>\n",
              "      <td>15</td>\n",
              "      <td>Chips and Fresh Tomato Salsa</td>\n",
              "      <td>NaN</td>\n",
              "      <td>44.25</td>\n",
              "    </tr>\n",
              "    <tr>\n",
              "      <th>3480</th>\n",
              "      <td>1398</td>\n",
              "      <td>3</td>\n",
              "      <td>Carnitas Bowl</td>\n",
              "      <td>[Roasted Chili Corn Salsa, [Fajita Vegetables,...</td>\n",
              "      <td>35.25</td>\n",
              "    </tr>\n",
              "    <tr>\n",
              "      <th>1254</th>\n",
              "      <td>511</td>\n",
              "      <td>4</td>\n",
              "      <td>Chicken Burrito</td>\n",
              "      <td>[Fresh Tomato Salsa, [Fajita Vegetables, Rice,...</td>\n",
              "      <td>35.00</td>\n",
              "    </tr>\n",
              "    <tr>\n",
              "      <th>3602</th>\n",
              "      <td>1443</td>\n",
              "      <td>4</td>\n",
              "      <td>Chicken Burrito</td>\n",
              "      <td>[Fresh Tomato Salsa, [Rice, Black Beans, Chees...</td>\n",
              "      <td>35.00</td>\n",
              "    </tr>\n",
              "    <tr>\n",
              "      <th>3601</th>\n",
              "      <td>1443</td>\n",
              "      <td>3</td>\n",
              "      <td>Veggie Burrito</td>\n",
              "      <td>[Fresh Tomato Salsa, [Fajita Vegetables, Rice,...</td>\n",
              "      <td>33.75</td>\n",
              "    </tr>\n",
              "    <tr>\n",
              "      <th>409</th>\n",
              "      <td>178</td>\n",
              "      <td>3</td>\n",
              "      <td>Chicken Bowl</td>\n",
              "      <td>[[Fresh Tomato Salsa (Mild), Tomatillo-Green C...</td>\n",
              "      <td>32.94</td>\n",
              "    </tr>\n",
              "    <tr>\n",
              "      <th>1255</th>\n",
              "      <td>511</td>\n",
              "      <td>3</td>\n",
              "      <td>Steak Burrito</td>\n",
              "      <td>[Fresh Tomato Salsa, [Fajita Vegetables, Rice,...</td>\n",
              "      <td>27.75</td>\n",
              "    </tr>\n",
              "    <tr>\n",
              "      <th>3603</th>\n",
              "      <td>1443</td>\n",
              "      <td>3</td>\n",
              "      <td>Steak Burrito</td>\n",
              "      <td>[Fresh Tomato Salsa, [Rice, Black Beans, Chees...</td>\n",
              "      <td>27.75</td>\n",
              "    </tr>\n",
              "    <tr>\n",
              "      <th>3636</th>\n",
              "      <td>1454</td>\n",
              "      <td>3</td>\n",
              "      <td>Chicken Burrito</td>\n",
              "      <td>[Fresh Tomato Salsa, Rice]</td>\n",
              "      <td>26.25</td>\n",
              "    </tr>\n",
              "    <tr>\n",
              "      <th>3634</th>\n",
              "      <td>1454</td>\n",
              "      <td>3</td>\n",
              "      <td>Chicken Burrito</td>\n",
              "      <td>[Fresh Tomato Salsa]</td>\n",
              "      <td>26.25</td>\n",
              "    </tr>\n",
              "  </tbody>\n",
              "</table>\n",
              "</div>"
            ],
            "text/plain": [
              "      order_id  quantity                     item_name  \\\n",
              "3598      1443        15  Chips and Fresh Tomato Salsa   \n",
              "3480      1398         3                 Carnitas Bowl   \n",
              "1254       511         4               Chicken Burrito   \n",
              "3602      1443         4               Chicken Burrito   \n",
              "3601      1443         3                Veggie Burrito   \n",
              "409        178         3                  Chicken Bowl   \n",
              "1255       511         3                 Steak Burrito   \n",
              "3603      1443         3                 Steak Burrito   \n",
              "3636      1454         3               Chicken Burrito   \n",
              "3634      1454         3               Chicken Burrito   \n",
              "\n",
              "                                     choice_description  item_price  \n",
              "3598                                                NaN       44.25  \n",
              "3480  [Roasted Chili Corn Salsa, [Fajita Vegetables,...       35.25  \n",
              "1254  [Fresh Tomato Salsa, [Fajita Vegetables, Rice,...       35.00  \n",
              "3602  [Fresh Tomato Salsa, [Rice, Black Beans, Chees...       35.00  \n",
              "3601  [Fresh Tomato Salsa, [Fajita Vegetables, Rice,...       33.75  \n",
              "409   [[Fresh Tomato Salsa (Mild), Tomatillo-Green C...       32.94  \n",
              "1255  [Fresh Tomato Salsa, [Fajita Vegetables, Rice,...       27.75  \n",
              "3603  [Fresh Tomato Salsa, [Rice, Black Beans, Chees...       27.75  \n",
              "3636                         [Fresh Tomato Salsa, Rice]       26.25  \n",
              "3634                               [Fresh Tomato Salsa]       26.25  "
            ]
          },
          "execution_count": 69,
          "metadata": {},
          "output_type": "execute_result"
        }
      ],
      "source": [
        "set2SortedDesc.iloc[:10]"
      ]
    },
    {
      "cell_type": "markdown",
      "metadata": {
        "id": "TO6kVZd7UQ5Q"
      },
      "source": [
        "## 9. Data visualization - simple example / Vizualizarea datelor - exemplu simplu\n",
        " * matplotlib library"
      ]
    },
    {
      "cell_type": "code",
      "execution_count": 70,
      "metadata": {
        "id": "YqaUlB-8UQ5Q"
      },
      "outputs": [],
      "source": [
        "import matplotlib.pyplot as plt"
      ]
    },
    {
      "cell_type": "code",
      "execution_count": 71,
      "metadata": {
        "id": "9u5AxhUIUQ5Q"
      },
      "outputs": [],
      "source": [
        "item_count = set2.groupby(['item_name']).item_name.count()"
      ]
    },
    {
      "cell_type": "code",
      "execution_count": 72,
      "metadata": {
        "id": "rElLrdgxUQ5R",
        "outputId": "4b24d958-2ad8-4de5-b6c7-20d8df402699"
      },
      "outputs": [
        {
          "data": {
            "text/plain": [
              "<Axes: xlabel='item_name'>"
            ]
          },
          "execution_count": 72,
          "metadata": {},
          "output_type": "execute_result"
        },
        {
          "data": {
            "image/png": "[encoded data removed]",
            "text/plain": [
              "<Figure size 640x480 with 1 Axes>"
            ]
          },
          "metadata": {},
          "output_type": "display_data"
        }
      ],
      "source": [
        "item_count.plot.bar()"
      ]
    }
  ],
  "metadata": {
    "colab": {
      "provenance": []
    },
    "kernelspec": {
      "display_name": "Python 3 (ipykernel)",
      "language": "python",
      "name": "python3"
    },
    "language_info": {
      "codemirror_mode": {
        "name": "ipython",
        "version": 3
      },
      "file_extension": ".py",
      "mimetype": "text/x-python",
      "name": "python",
      "nbconvert_exporter": "python",
      "pygments_lexer": "ipython3",
      "version": "3.12.2"
    }
  },
  "nbformat": 4,
  "nbformat_minor": 0
}
