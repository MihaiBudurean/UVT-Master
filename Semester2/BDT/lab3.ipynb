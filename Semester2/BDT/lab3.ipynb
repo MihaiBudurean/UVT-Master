{
  "cells": [
    {
      "cell_type": "markdown",
      "id": "27120f9a-45ac-4fc5-a559-42e54561ecc4",
      "metadata": {
        "id": "27120f9a-45ac-4fc5-a559-42e54561ecc4"
      },
      "source": [
        "# Laborator 3"
      ]
    },
    {
      "cell_type": "code",
      "source": [
        "!sudo apt update\n",
        "!apt-get install openjdk-8-jdk-headless -qq > /dev/null\n",
        "!wget -q https://dlcdn.apache.org/spark/spark-3.2.1/spark-3.2.1-bin-hadoop3.2.tgz\n",
        "!tar xf spark-3.2.1-bin-hadoop3.2.tgz\n",
        "!pip install -q findspark\n",
        "!pip install pyspark\n",
        "!pip install py4j"
      ],
      "metadata": {
        "colab": {
          "base_uri": "https://localhost:8080/"
        },
        "id": "-7cTko7-VwPg",
        "outputId": "ec128f26-30d9-42c8-f6da-863d610aa922"
      },
      "id": "-7cTko7-VwPg",
      "execution_count": null,
      "outputs": [
        {
          "output_type": "stream",
          "name": "stdout",
          "text": [
            "\u001b[33m\r0% [Working]\u001b[0m\r            \rHit:1 http://archive.ubuntu.com/ubuntu jammy InRelease\n",
            "\u001b[33m\r0% [Waiting for headers] [Waiting for headers] [Waiting for headers] [Connected\u001b[0m\r                                                                               \rGet:2 http://archive.ubuntu.com/ubuntu jammy-updates InRelease [119 kB]\n",
            "\r                                                                               \rGet:3 http://security.ubuntu.com/ubuntu jammy-security InRelease [110 kB]\n",
            "\r                                                                               \rGet:4 https://cloud.r-project.org/bin/linux/ubuntu jammy-cran40/ InRelease [3,626 B]\n",
            "Get:5 https://developer.download.nvidia.com/compute/cuda/repos/ubuntu2204/x86_64  InRelease [1,581 B]\n",
            "Get:6 http://archive.ubuntu.com/ubuntu jammy-backports InRelease [109 kB]\n",
            "Hit:7 https://ppa.launchpadcontent.net/c2d4u.team/c2d4u4.0+/ubuntu jammy InRelease\n",
            "Hit:8 https://ppa.launchpadcontent.net/deadsnakes/ppa/ubuntu jammy InRelease\n",
            "Hit:9 https://ppa.launchpadcontent.net/graphics-drivers/ppa/ubuntu jammy InRelease\n",
            "Hit:10 https://ppa.launchpadcontent.net/ubuntugis/ppa/ubuntu jammy InRelease\n",
            "Get:11 https://developer.download.nvidia.com/compute/cuda/repos/ubuntu2204/x86_64  Packages [737 kB]\n",
            "Get:12 http://archive.ubuntu.com/ubuntu jammy-updates/restricted amd64 Packages [2,056 kB]\n",
            "Get:13 http://archive.ubuntu.com/ubuntu jammy-updates/universe amd64 Packages [1,353 kB]\n",
            "Get:14 http://archive.ubuntu.com/ubuntu jammy-updates/main amd64 Packages [1,883 kB]\n",
            "Get:15 http://archive.ubuntu.com/ubuntu jammy-backports/universe amd64 Packages [33.3 kB]\n",
            "Get:16 http://security.ubuntu.com/ubuntu jammy-security/universe amd64 Packages [1,080 kB]\n",
            "Get:17 http://security.ubuntu.com/ubuntu jammy-security/restricted amd64 Packages [1,961 kB]\n",
            "Get:18 http://security.ubuntu.com/ubuntu jammy-security/main amd64 Packages [1,570 kB]\n",
            "Fetched 11.0 MB in 4s (2,733 kB/s)\n",
            "Reading package lists... Done\n",
            "Building dependency tree... Done\n",
            "Reading state information... Done\n",
            "40 packages can be upgraded. Run 'apt list --upgradable' to see them.\n",
            "tar: spark-3.2.1-bin-hadoop3.2.tgz: Cannot open: No such file or directory\n",
            "tar: Error is not recoverable: exiting now\n",
            "Collecting pyspark\n",
            "  Downloading pyspark-3.5.1.tar.gz (317.0 MB)\n",
            "\u001b[2K     \u001b[90m━━━━━━━━━━━━━━━━━━━━━━━━━━━━━━━━━━━━━━━━\u001b[0m \u001b[32m317.0/317.0 MB\u001b[0m \u001b[31m3.6 MB/s\u001b[0m eta \u001b[36m0:00:00\u001b[0m\n",
            "\u001b[?25h  Preparing metadata (setup.py) ... \u001b[?25l\u001b[?25hdone\n",
            "Requirement already satisfied: py4j==0.10.9.7 in /usr/local/lib/python3.10/dist-packages (from pyspark) (0.10.9.7)\n",
            "Building wheels for collected packages: pyspark\n",
            "  Building wheel for pyspark (setup.py) ... \u001b[?25l\u001b[?25hdone\n",
            "  Created wheel for pyspark: filename=pyspark-3.5.1-py2.py3-none-any.whl size=317488491 sha256=ce003a14d808f8a6204c47879e05d810adc29dd784cee763df17ef2e41216efc\n",
            "  Stored in directory: /root/.cache/pip/wheels/80/1d/60/2c256ed38dddce2fdd93be545214a63e02fbd8d74fb0b7f3a6\n",
            "Successfully built pyspark\n",
            "Installing collected packages: pyspark\n",
            "Successfully installed pyspark-3.5.1\n",
            "Requirement already satisfied: py4j in /usr/local/lib/python3.10/dist-packages (0.10.9.7)\n"
          ]
        }
      ]
    },
    {
      "cell_type": "code",
      "source": [
        "import os\n",
        "import sys"
      ],
      "metadata": {
        "id": "Ay9ZdXqUV4BZ"
      },
      "id": "Ay9ZdXqUV4BZ",
      "execution_count": null,
      "outputs": []
    },
    {
      "cell_type": "markdown",
      "id": "c28ec210-cf7c-48dd-a0cf-edc0f9dea495",
      "metadata": {
        "id": "c28ec210-cf7c-48dd-a0cf-edc0f9dea495"
      },
      "source": [
        "The following cell imports the SparkSession and creates a new context for our application. The name of the application is *Example*. If the session corresponding for this application exists (from a previous run) then this session will be retrieved. Otherwise a new session will be created."
      ]
    },
    {
      "cell_type": "code",
      "execution_count": null,
      "id": "8ab29136-7ffd-4162-a79b-8c9d778cb84e",
      "metadata": {
        "tags": [],
        "id": "8ab29136-7ffd-4162-a79b-8c9d778cb84e"
      },
      "outputs": [],
      "source": [
        "from pyspark.sql import SparkSession\n",
        "spark = SparkSession.builder.appName('Example').getOrCreate()"
      ]
    },
    {
      "cell_type": "markdown",
      "id": "4173c1ce-063c-4929-b77f-beffc0b4438c",
      "metadata": {
        "tags": [],
        "id": "4173c1ce-063c-4929-b77f-beffc0b4438c"
      },
      "source": [
        "Spark offers us simple primitives to read data. The following example shows how to read a CSV file. The content of the file is parsed and columns are identified. The result is a [**DataFrame**](https://spark.apache.org/docs/3.5.1/api/python/reference/pyspark.sql/api/pyspark.sql.DataFrame.html) which is stored in our variable named **df**."
      ]
    },
    {
      "cell_type": "code",
      "source": [
        "from google.colab import drive\n",
        "drive.mount('/content/drive')\n",
        "\n",
        "data_folder = '/content/drive/MyDrive/BDT Datasets/Lab 4/'"
      ],
      "metadata": {
        "colab": {
          "base_uri": "https://localhost:8080/"
        },
        "id": "WHEvFWhjXcC_",
        "outputId": "11bfabae-c156-4eb2-ef7b-f9ad2b04838f"
      },
      "id": "WHEvFWhjXcC_",
      "execution_count": null,
      "outputs": [
        {
          "output_type": "stream",
          "name": "stdout",
          "text": [
            "Drive already mounted at /content/drive; to attempt to forcibly remount, call drive.mount(\"/content/drive\", force_remount=True).\n"
          ]
        }
      ]
    },
    {
      "cell_type": "code",
      "execution_count": null,
      "id": "3152462a-1464-4761-acfc-f83be488721d",
      "metadata": {
        "tags": [],
        "id": "3152462a-1464-4761-acfc-f83be488721d"
      },
      "outputs": [],
      "source": [
        "index_data_file = data_folder + 'indexData.csv'\n",
        "index_info_file = data_folder + 'indexInfo.csv'\n",
        "index_processed_file = data_folder + 'indexProcessed.csv'\n",
        "\n",
        "df = spark.read.csv(index_data_file)"
      ]
    },
    {
      "cell_type": "markdown",
      "id": "fd2962d4-8f58-4413-9543-baaa05d00496",
      "metadata": {
        "id": "fd2962d4-8f58-4413-9543-baaa05d00496"
      },
      "source": [
        "The *DataFrame* is **distributed** collection of data. The actual data is not stored into memory until it is actually consumed. If we print the variable, it will only show us the name and type of each column."
      ]
    },
    {
      "cell_type": "code",
      "execution_count": null,
      "id": "b4c945be-e27c-493a-bb13-e678620f2681",
      "metadata": {
        "colab": {
          "base_uri": "https://localhost:8080/"
        },
        "id": "b4c945be-e27c-493a-bb13-e678620f2681",
        "outputId": "0c43730c-bcb4-4659-d8bb-421ea2fd2e6b"
      },
      "outputs": [
        {
          "output_type": "stream",
          "name": "stdout",
          "text": [
            "DataFrame[_c0: string, _c1: string, _c2: string, _c3: string, _c4: string, _c5: string, _c6: string, _c7: string]\n"
          ]
        }
      ],
      "source": [
        "print(df)"
      ]
    },
    {
      "cell_type": "markdown",
      "id": "f8afe52c-3649-4c55-9611-01e46733ac8b",
      "metadata": {
        "id": "f8afe52c-3649-4c55-9611-01e46733ac8b"
      },
      "source": [
        "We can retrieve part of the data using the **show** function as presented below.\n",
        "If no argument is provided it will print the first 20 rows of the DataFrame. A parameter can be provied to print a set number of rows."
      ]
    },
    {
      "cell_type": "code",
      "execution_count": null,
      "id": "c366f506-5b81-4baa-9c1b-ef8fed988b6c",
      "metadata": {
        "tags": [],
        "id": "c366f506-5b81-4baa-9c1b-ef8fed988b6c",
        "outputId": "321425c3-eca5-42df-ca95-55195cb67786",
        "colab": {
          "base_uri": "https://localhost:8080/"
        }
      },
      "outputs": [
        {
          "output_type": "stream",
          "name": "stdout",
          "text": [
            "+-----+----------+----------+----------+----------+----------+----------+------+\n",
            "|  _c0|       _c1|       _c2|       _c3|       _c4|       _c5|       _c6|   _c7|\n",
            "+-----+----------+----------+----------+----------+----------+----------+------+\n",
            "|Index|      Date|      Open|      High|       Low|     Close| Adj Close|Volume|\n",
            "|  NYA|1965-12-31|528.690002|528.690002|528.690002|528.690002|528.690002|     0|\n",
            "|  NYA|1966-01-03|527.210022|527.210022|527.210022|527.210022|527.210022|     0|\n",
            "|  NYA|1966-01-04|527.840027|527.840027|527.840027|527.840027|527.840027|     0|\n",
            "|  NYA|1966-01-05|531.119995|531.119995|531.119995|531.119995|531.119995|     0|\n",
            "+-----+----------+----------+----------+----------+----------+----------+------+\n",
            "only showing top 5 rows\n",
            "\n"
          ]
        }
      ],
      "source": [
        "df.show(5)"
      ]
    },
    {
      "cell_type": "markdown",
      "id": "e8ea1242-a9f9-4501-87ba-09126ed53da0",
      "metadata": {
        "id": "e8ea1242-a9f9-4501-87ba-09126ed53da0"
      },
      "source": [
        "### Caution\n",
        "Please notice that the csv contained a header which is now part of the data (the first row is actually the header). To prevent this, we can provide an additional argument to the *read.csv* function, namely **header=True**.\n",
        "Additionally, we can use the **inferSchema=True** argumet such that the column type is automatically detected. Otherwise, all column will be strings.\n"
      ]
    },
    {
      "cell_type": "code",
      "execution_count": null,
      "id": "ebb9a8ee-df29-4a03-b7de-bfde6993b701",
      "metadata": {
        "tags": [],
        "id": "ebb9a8ee-df29-4a03-b7de-bfde6993b701"
      },
      "outputs": [],
      "source": [
        "df = spark.read.csv(index_data_file, header=True, inferSchema=True)"
      ]
    },
    {
      "cell_type": "code",
      "execution_count": null,
      "id": "6c22d52e-d0ea-476c-837a-e164ca43180e",
      "metadata": {
        "tags": [],
        "id": "6c22d52e-d0ea-476c-837a-e164ca43180e",
        "outputId": "4320b4ec-9a03-4802-a97d-c91e07f0b002",
        "colab": {
          "base_uri": "https://localhost:8080/"
        }
      },
      "outputs": [
        {
          "output_type": "stream",
          "name": "stdout",
          "text": [
            "+-----+----------+----------+----------+----------+----------+----------+------+\n",
            "|Index|      Date|      Open|      High|       Low|     Close| Adj Close|Volume|\n",
            "+-----+----------+----------+----------+----------+----------+----------+------+\n",
            "|  NYA|1965-12-31|528.690002|528.690002|528.690002|528.690002|528.690002|     0|\n",
            "|  NYA|1966-01-03|527.210022|527.210022|527.210022|527.210022|527.210022|     0|\n",
            "|  NYA|1966-01-04|527.840027|527.840027|527.840027|527.840027|527.840027|     0|\n",
            "|  NYA|1966-01-05|531.119995|531.119995|531.119995|531.119995|531.119995|     0|\n",
            "|  NYA|1966-01-06|532.070007|532.070007|532.070007|532.070007|532.070007|     0|\n",
            "+-----+----------+----------+----------+----------+----------+----------+------+\n",
            "only showing top 5 rows\n",
            "\n"
          ]
        }
      ],
      "source": [
        "df.show(5)"
      ]
    },
    {
      "cell_type": "markdown",
      "id": "30b5a145-724b-44e4-b038-a19051c89de2",
      "metadata": {
        "id": "30b5a145-724b-44e4-b038-a19051c89de2"
      },
      "source": [
        "We can use the *printSchema()* function to check the type of each column, as presented below."
      ]
    },
    {
      "cell_type": "code",
      "execution_count": null,
      "id": "afc917d2-0f96-421b-a050-1820f1b7e446",
      "metadata": {
        "tags": [],
        "id": "afc917d2-0f96-421b-a050-1820f1b7e446",
        "outputId": "c8ef3bc0-46c7-4547-aee6-c31abb926845",
        "colab": {
          "base_uri": "https://localhost:8080/"
        }
      },
      "outputs": [
        {
          "output_type": "stream",
          "name": "stdout",
          "text": [
            "root\n",
            " |-- Index: string (nullable = true)\n",
            " |-- Date: date (nullable = true)\n",
            " |-- Open: string (nullable = true)\n",
            " |-- High: string (nullable = true)\n",
            " |-- Low: string (nullable = true)\n",
            " |-- Close: string (nullable = true)\n",
            " |-- Adj Close: string (nullable = true)\n",
            " |-- Volume: string (nullable = true)\n",
            "\n"
          ]
        }
      ],
      "source": [
        "df.printSchema()"
      ]
    },
    {
      "cell_type": "markdown",
      "id": "0d7c9dee-8f45-4e21-b33b-0e2e40b660b3",
      "metadata": {
        "id": "0d7c9dee-8f45-4e21-b33b-0e2e40b660b3"
      },
      "source": [
        "The DataFrame object has an attribute named columns which can be used to retrieve the columns in the dataset as a list"
      ]
    },
    {
      "cell_type": "code",
      "execution_count": null,
      "id": "88cd79ea-0b25-489c-ad5e-c8e71b959e84",
      "metadata": {
        "tags": [],
        "id": "88cd79ea-0b25-489c-ad5e-c8e71b959e84",
        "outputId": "2da68f93-9865-430c-a1e6-08d64fd5a5dd",
        "colab": {
          "base_uri": "https://localhost:8080/"
        }
      },
      "outputs": [
        {
          "output_type": "execute_result",
          "data": {
            "text/plain": [
              "['Index', 'Date', 'Open', 'High', 'Low', 'Close', 'Adj Close', 'Volume']"
            ]
          },
          "metadata": {},
          "execution_count": 19
        }
      ],
      "source": [
        "df.columns"
      ]
    },
    {
      "cell_type": "markdown",
      "id": "7fc7c441-a7bc-46c0-942e-21254147082f",
      "metadata": {
        "id": "7fc7c441-a7bc-46c0-942e-21254147082f"
      },
      "source": [
        "We can use the *count* function to check the number of rows in our DataFrame."
      ]
    },
    {
      "cell_type": "code",
      "execution_count": null,
      "id": "44ffb4d1-5d19-4807-a813-0aaec272e87e",
      "metadata": {
        "id": "44ffb4d1-5d19-4807-a813-0aaec272e87e",
        "outputId": "6bc1a40a-791c-487d-9883-82349382b6ca",
        "colab": {
          "base_uri": "https://localhost:8080/"
        }
      },
      "outputs": [
        {
          "output_type": "execute_result",
          "data": {
            "text/plain": [
              "112457"
            ]
          },
          "metadata": {},
          "execution_count": 20
        }
      ],
      "source": [
        "df.count()"
      ]
    },
    {
      "cell_type": "markdown",
      "id": "1c59cec6-bca4-44c7-9fb4-3b6910851b54",
      "metadata": {
        "id": "1c59cec6-bca4-44c7-9fb4-3b6910851b54"
      },
      "source": [
        "We can use the *describe* function to show statistics related to the different columns:\n",
        "- count (number of rows)\n",
        "- mean (average of the values from this column)\n",
        "- stddev (standard deviation of the values in this column)\n",
        "- min (minimum value from this column)\n",
        "- max (maximum value from this column)\n",
        "\n",
        "We need to call the *show* function because the result is a DataFrame itself."
      ]
    },
    {
      "cell_type": "code",
      "execution_count": null,
      "id": "fd7e2b2f-5b29-4420-bdae-950e1f4350c4",
      "metadata": {
        "tags": [],
        "id": "fd7e2b2f-5b29-4420-bdae-950e1f4350c4",
        "outputId": "bc9b0e22-2306-4368-fca4-0caa3335a369",
        "colab": {
          "base_uri": "https://localhost:8080/"
        }
      },
      "outputs": [
        {
          "output_type": "stream",
          "name": "stdout",
          "text": [
            "+-------+---------+-----------------+------------------+-----------------+-----------------+------------------+--------------------+\n",
            "|summary|    Index|             Open|              High|              Low|            Close|         Adj Close|              Volume|\n",
            "+-------+---------+-----------------+------------------+-----------------+-----------------+------------------+--------------------+\n",
            "|  count|   112457|           112457|            112457|           112457|           112457|            112457|              112457|\n",
            "|   mean|     NULL|7658.515221546726|7704.3729612772095|7608.000422337706|7657.545871842853|7657.3517293638315|1.2739751626030312E9|\n",
            "| stddev|     NULL| 9011.47891296602| 9066.638548034824| 8954.50698125186|9011.510443530395| 9011.608899984878| 4.315783120882288E9|\n",
            "|    min|000001.SS|              100|               100|              100|              100|               100|                   0|\n",
            "|    max|     TWII|             null|              null|             null|             null|              null|                null|\n",
            "+-------+---------+-----------------+------------------+-----------------+-----------------+------------------+--------------------+\n",
            "\n"
          ]
        }
      ],
      "source": [
        "df.describe().show()"
      ]
    },
    {
      "cell_type": "markdown",
      "id": "a1fd09bf-6c0f-4f1b-b3b4-6d6f36744883",
      "metadata": {
        "tags": [],
        "id": "a1fd09bf-6c0f-4f1b-b3b4-6d6f36744883"
      },
      "source": [
        "We can use the *select* function to retrieve one or multiple columns of the DataFrame. The result of the *select* funtion is another DataFrame."
      ]
    },
    {
      "cell_type": "code",
      "execution_count": null,
      "id": "1f837768-fa7b-40d1-954b-20e2d3501dbf",
      "metadata": {
        "tags": [],
        "id": "1f837768-fa7b-40d1-954b-20e2d3501dbf",
        "outputId": "a323f2f6-c30f-4610-82bd-fb7a7c82092c",
        "colab": {
          "base_uri": "https://localhost:8080/"
        }
      },
      "outputs": [
        {
          "output_type": "stream",
          "name": "stdout",
          "text": [
            "+----------+\n",
            "|      Date|\n",
            "+----------+\n",
            "|1965-12-31|\n",
            "|1966-01-03|\n",
            "|1966-01-04|\n",
            "|1966-01-05|\n",
            "|1966-01-06|\n",
            "+----------+\n",
            "only showing top 5 rows\n",
            "\n"
          ]
        }
      ],
      "source": [
        "df.select('Date').show(5)"
      ]
    },
    {
      "cell_type": "code",
      "execution_count": null,
      "id": "6a24abde-846e-43ed-86d0-dc5933698ef7",
      "metadata": {
        "tags": [],
        "id": "6a24abde-846e-43ed-86d0-dc5933698ef7",
        "outputId": "62d335d9-b88b-414e-8bd9-156a1830dc33",
        "colab": {
          "base_uri": "https://localhost:8080/"
        }
      },
      "outputs": [
        {
          "output_type": "stream",
          "name": "stdout",
          "text": [
            "+-----+----------+----------+\n",
            "|Index|      Date|      Open|\n",
            "+-----+----------+----------+\n",
            "|  NYA|1965-12-31|528.690002|\n",
            "|  NYA|1966-01-03|527.210022|\n",
            "|  NYA|1966-01-04|527.840027|\n",
            "|  NYA|1966-01-05|531.119995|\n",
            "|  NYA|1966-01-06|532.070007|\n",
            "|  NYA|1966-01-07|532.599976|\n",
            "|  NYA|1966-01-10|533.869995|\n",
            "+-----+----------+----------+\n",
            "only showing top 7 rows\n",
            "\n"
          ]
        }
      ],
      "source": [
        "df2 = df.select(['Index', 'Date', 'Open'])\n",
        "df2.show(7)"
      ]
    },
    {
      "cell_type": "markdown",
      "id": "86b9ff21-8f00-469d-ad7f-b2d857f06a33",
      "metadata": {
        "id": "86b9ff21-8f00-469d-ad7f-b2d857f06a33"
      },
      "source": [
        "We can add columns to the dataframe using the *withColumn* function.\n",
        "The original DataFrame is not changed, but a new DataFrame with the original and new data is created."
      ]
    },
    {
      "cell_type": "code",
      "execution_count": null,
      "id": "912e2657-0ca9-410f-a38d-adeb6f453368",
      "metadata": {
        "tags": [],
        "id": "912e2657-0ca9-410f-a38d-adeb6f453368",
        "outputId": "5ed5cce9-35e4-48a4-a31e-796be014c277",
        "colab": {
          "base_uri": "https://localhost:8080/"
        }
      },
      "outputs": [
        {
          "output_type": "stream",
          "name": "stdout",
          "text": [
            "+-----+----------+----------+----------+----------+----------+----------+------+----------+\n",
            "|Index|      Date|      Open|      High|       Low|     Close| Adj Close|Volume|   NewOpen|\n",
            "+-----+----------+----------+----------+----------+----------+----------+------+----------+\n",
            "|  NYA|1965-12-31|528.690002|528.690002|528.690002|528.690002|528.690002|     0|528.690002|\n",
            "|  NYA|1966-01-03|527.210022|527.210022|527.210022|527.210022|527.210022|     0|527.210022|\n",
            "|  NYA|1966-01-04|527.840027|527.840027|527.840027|527.840027|527.840027|     0|527.840027|\n",
            "|  NYA|1966-01-05|531.119995|531.119995|531.119995|531.119995|531.119995|     0|531.119995|\n",
            "|  NYA|1966-01-06|532.070007|532.070007|532.070007|532.070007|532.070007|     0|532.070007|\n",
            "+-----+----------+----------+----------+----------+----------+----------+------+----------+\n",
            "only showing top 5 rows\n",
            "\n"
          ]
        }
      ],
      "source": [
        "df.withColumn('NewOpen', df['Open']).show(5)"
      ]
    },
    {
      "cell_type": "markdown",
      "id": "c04312b0-9320-4430-806b-860916812d68",
      "metadata": {
        "id": "c04312b0-9320-4430-806b-860916812d68"
      },
      "source": [
        "We can add columns programatically, using mathematical expressions in conjuction with columns.\n",
        "The following code adds a column that will contain the double of the Open column. The result is saved in another DataFrame.\n",
        "\n",
        "Notice the original DataFrame is not affected."
      ]
    },
    {
      "cell_type": "code",
      "execution_count": null,
      "id": "7acc5f52-d6df-40f8-b2dc-77397e75ccd5",
      "metadata": {
        "tags": [],
        "id": "7acc5f52-d6df-40f8-b2dc-77397e75ccd5",
        "outputId": "e1a341c3-429e-42e6-a00f-8e311d580b9c",
        "colab": {
          "base_uri": "https://localhost:8080/"
        }
      },
      "outputs": [
        {
          "output_type": "stream",
          "name": "stdout",
          "text": [
            "+-----+----------+----------+----------+----------+----------+----------+------+-----------+\n",
            "|Index|      Date|      Open|      High|       Low|     Close| Adj Close|Volume| DoubleOpen|\n",
            "+-----+----------+----------+----------+----------+----------+----------+------+-----------+\n",
            "|  NYA|1965-12-31|528.690002|528.690002|528.690002|528.690002|528.690002|     0|1057.380004|\n",
            "|  NYA|1966-01-03|527.210022|527.210022|527.210022|527.210022|527.210022|     0|1054.420044|\n",
            "|  NYA|1966-01-04|527.840027|527.840027|527.840027|527.840027|527.840027|     0|1055.680054|\n",
            "|  NYA|1966-01-05|531.119995|531.119995|531.119995|531.119995|531.119995|     0| 1062.23999|\n",
            "|  NYA|1966-01-06|532.070007|532.070007|532.070007|532.070007|532.070007|     0|1064.140014|\n",
            "+-----+----------+----------+----------+----------+----------+----------+------+-----------+\n",
            "only showing top 5 rows\n",
            "\n",
            "+-----+----------+----------+----------+----------+----------+----------+------+\n",
            "|Index|      Date|      Open|      High|       Low|     Close| Adj Close|Volume|\n",
            "+-----+----------+----------+----------+----------+----------+----------+------+\n",
            "|  NYA|1965-12-31|528.690002|528.690002|528.690002|528.690002|528.690002|     0|\n",
            "|  NYA|1966-01-03|527.210022|527.210022|527.210022|527.210022|527.210022|     0|\n",
            "|  NYA|1966-01-04|527.840027|527.840027|527.840027|527.840027|527.840027|     0|\n",
            "|  NYA|1966-01-05|531.119995|531.119995|531.119995|531.119995|531.119995|     0|\n",
            "|  NYA|1966-01-06|532.070007|532.070007|532.070007|532.070007|532.070007|     0|\n",
            "+-----+----------+----------+----------+----------+----------+----------+------+\n",
            "only showing top 5 rows\n",
            "\n"
          ]
        }
      ],
      "source": [
        "df2 = df.withColumn('DoubleOpen', df['Open']*2)\n",
        "df2.show(5)\n",
        "df.show(5)"
      ]
    },
    {
      "cell_type": "markdown",
      "id": "6253e275-b3b7-411a-b45c-adda514dd368",
      "metadata": {
        "id": "6253e275-b3b7-411a-b45c-adda514dd368"
      },
      "source": [
        "We can use the *withColumnRenamed* function to rename a column. This will create a new DataFrame and the original is not affected."
      ]
    },
    {
      "cell_type": "code",
      "execution_count": null,
      "id": "709f419f-4dbf-4343-b13b-800c3c8ae33d",
      "metadata": {
        "tags": [],
        "id": "709f419f-4dbf-4343-b13b-800c3c8ae33d",
        "outputId": "f188bc63-427f-4b98-8f80-7fefe2a03866",
        "colab": {
          "base_uri": "https://localhost:8080/"
        }
      },
      "outputs": [
        {
          "output_type": "stream",
          "name": "stdout",
          "text": [
            "+-----+----------+----------+----------+----------+----------+----------+------+-----------+\n",
            "|Index|      Date|      Open|      High|       Low|     Close| Adj Close|Volume|      DOpen|\n",
            "+-----+----------+----------+----------+----------+----------+----------+------+-----------+\n",
            "|  NYA|1965-12-31|528.690002|528.690002|528.690002|528.690002|528.690002|     0|1057.380004|\n",
            "|  NYA|1966-01-03|527.210022|527.210022|527.210022|527.210022|527.210022|     0|1054.420044|\n",
            "|  NYA|1966-01-04|527.840027|527.840027|527.840027|527.840027|527.840027|     0|1055.680054|\n",
            "|  NYA|1966-01-05|531.119995|531.119995|531.119995|531.119995|531.119995|     0| 1062.23999|\n",
            "|  NYA|1966-01-06|532.070007|532.070007|532.070007|532.070007|532.070007|     0|1064.140014|\n",
            "+-----+----------+----------+----------+----------+----------+----------+------+-----------+\n",
            "only showing top 5 rows\n",
            "\n",
            "+-----+----------+----------+----------+----------+----------+----------+------+-----------+\n",
            "|Index|      Date|      Open|      High|       Low|     Close| Adj Close|Volume| DoubleOpen|\n",
            "+-----+----------+----------+----------+----------+----------+----------+------+-----------+\n",
            "|  NYA|1965-12-31|528.690002|528.690002|528.690002|528.690002|528.690002|     0|1057.380004|\n",
            "|  NYA|1966-01-03|527.210022|527.210022|527.210022|527.210022|527.210022|     0|1054.420044|\n",
            "|  NYA|1966-01-04|527.840027|527.840027|527.840027|527.840027|527.840027|     0|1055.680054|\n",
            "|  NYA|1966-01-05|531.119995|531.119995|531.119995|531.119995|531.119995|     0| 1062.23999|\n",
            "|  NYA|1966-01-06|532.070007|532.070007|532.070007|532.070007|532.070007|     0|1064.140014|\n",
            "+-----+----------+----------+----------+----------+----------+----------+------+-----------+\n",
            "only showing top 5 rows\n",
            "\n"
          ]
        }
      ],
      "source": [
        "df3 = df2.withColumnRenamed('DoubleOpen', 'DOpen')\n",
        "df3.show(5)\n",
        "df2.show(5)"
      ]
    },
    {
      "cell_type": "markdown",
      "id": "a7437e2f-3906-40bf-9fc0-1f3d1415447a",
      "metadata": {
        "id": "a7437e2f-3906-40bf-9fc0-1f3d1415447a"
      },
      "source": [
        "# Filters\n",
        "We can use the *filter* function to only retain data which satisfies the condition in the filter.\n",
        "Column names can be used with logical operators, as in the example below"
      ]
    },
    {
      "cell_type": "code",
      "execution_count": null,
      "id": "0ef1b6e1-1dff-4f7f-90b3-119af1814270",
      "metadata": {
        "tags": [],
        "id": "0ef1b6e1-1dff-4f7f-90b3-119af1814270",
        "outputId": "801cf5ee-7d92-4ecd-84e1-e0af1247f909",
        "colab": {
          "base_uri": "https://localhost:8080/"
        }
      },
      "outputs": [
        {
          "output_type": "execute_result",
          "data": {
            "text/plain": [
              "100726"
            ]
          },
          "metadata": {},
          "execution_count": 29
        }
      ],
      "source": [
        "filt_df = df.filter('Open > 600')\n",
        "filt_df.count()"
      ]
    },
    {
      "cell_type": "code",
      "execution_count": null,
      "id": "b8d5326f-0146-4848-92a3-2576c12168e8",
      "metadata": {
        "tags": [],
        "id": "b8d5326f-0146-4848-92a3-2576c12168e8",
        "outputId": "8b82acbb-7f30-4bd3-dc99-8b0003ad2623",
        "colab": {
          "base_uri": "https://localhost:8080/"
        }
      },
      "outputs": [
        {
          "output_type": "execute_result",
          "data": {
            "text/plain": [
              "43373"
            ]
          },
          "metadata": {},
          "execution_count": 30
        }
      ],
      "source": [
        "df4 = df.filter('Open > Close')\n",
        "df4.count()"
      ]
    },
    {
      "cell_type": "markdown",
      "id": "52e6f366-9352-49ab-ba75-3c9dda242b72",
      "metadata": {
        "id": "52e6f366-9352-49ab-ba75-3c9dda242b72"
      },
      "source": [
        "We can use an additional notation for more complex filters. The one below is using the Column type *df['Open']* and compares it with 300."
      ]
    },
    {
      "cell_type": "code",
      "execution_count": null,
      "id": "6c87baa4-9c49-4349-b2e1-38ad05e7d01d",
      "metadata": {
        "tags": [],
        "id": "6c87baa4-9c49-4349-b2e1-38ad05e7d01d",
        "outputId": "1b7272b6-25c2-4ec7-8be5-67a1f958ec8a",
        "colab": {
          "base_uri": "https://localhost:8080/"
        }
      },
      "outputs": [
        {
          "output_type": "stream",
          "name": "stdout",
          "text": [
            "+-----+----------+----------+----------+----------+----------+----------+------+\n",
            "|Index|      Date|      Open|      High|       Low|     Close| Adj Close|Volume|\n",
            "+-----+----------+----------+----------+----------+----------+----------+------+\n",
            "| IXIC|1971-02-05|       100|       100|       100|       100|       100|     0|\n",
            "| IXIC|1971-02-08|100.839996|100.839996|100.839996|100.839996|100.839996|     0|\n",
            "| IXIC|1971-02-09|100.760002|100.760002|100.760002|100.760002|100.760002|     0|\n",
            "| IXIC|1971-02-10|100.690002|100.690002|100.690002|100.690002|100.690002|     0|\n",
            "| IXIC|1971-02-11|101.449997|101.449997|101.449997|101.449997|101.449997|     0|\n",
            "+-----+----------+----------+----------+----------+----------+----------+------+\n",
            "only showing top 5 rows\n",
            "\n"
          ]
        }
      ],
      "source": [
        "df.filter(df['Open'] < 300).show(5)"
      ]
    },
    {
      "cell_type": "markdown",
      "id": "dfdbcb60-9712-44e2-ad43-c9ce131f06eb",
      "metadata": {
        "id": "dfdbcb60-9712-44e2-ad43-c9ce131f06eb"
      },
      "source": [
        "### Caution\n",
        "Logical conjunctions must use the **&** operator. An example is shown below."
      ]
    },
    {
      "cell_type": "code",
      "execution_count": null,
      "id": "33e47294-b6da-43d7-8841-68e960819b7a",
      "metadata": {
        "tags": [],
        "id": "33e47294-b6da-43d7-8841-68e960819b7a",
        "outputId": "7bc82cb4-7738-41c5-fd84-7a9ed0711967",
        "colab": {
          "base_uri": "https://localhost:8080/"
        }
      },
      "outputs": [
        {
          "output_type": "stream",
          "name": "stdout",
          "text": [
            "+-----+----------+----------+----------+----------+----------+----------+------+\n",
            "|Index|      Date|      Open|      High|       Low|     Close| Adj Close|Volume|\n",
            "+-----+----------+----------+----------+----------+----------+----------+------+\n",
            "| KS11|1997-10-28|522.390015|522.390015|492.299988|495.279999|495.279999| 45600|\n",
            "| KS11|1997-11-17|517.650024|526.119995|495.410004|496.980011|496.980011| 44700|\n",
            "| KS11|1997-11-20|504.940002|505.709991|475.859985|488.410004|488.410004| 56900|\n",
            "| KS11|1998-01-16| 512.27002|532.429993|485.829987|488.100006|488.100006|200100|\n",
            "| KS11|1998-01-22| 503.98999|510.869995| 483.98999| 483.98999| 483.98999|110800|\n",
            "+-----+----------+----------+----------+----------+----------+----------+------+\n",
            "only showing top 5 rows\n",
            "\n"
          ]
        }
      ],
      "source": [
        "df.filter((df['Open'] > 500) & (df['Close'] < 500)).show(5)"
      ]
    },
    {
      "cell_type": "markdown",
      "id": "91d4dd44-d480-4edf-8127-a40e75d50d26",
      "metadata": {
        "id": "91d4dd44-d480-4edf-8127-a40e75d50d26"
      },
      "source": [
        "## Grouping Data\n",
        "We can group data based on a column, but this returns us a *GroupedData* object."
      ]
    },
    {
      "cell_type": "code",
      "execution_count": null,
      "id": "4eaaac4f-0ad3-475e-a148-1b966ab338cb",
      "metadata": {
        "tags": [],
        "id": "4eaaac4f-0ad3-475e-a148-1b966ab338cb",
        "outputId": "c5cb27bd-55d8-487e-9784-ad6756eb61b6",
        "colab": {
          "base_uri": "https://localhost:8080/"
        }
      },
      "outputs": [
        {
          "output_type": "execute_result",
          "data": {
            "text/plain": [
              "GroupedData[grouping expressions: [Index], value: [Index: string, Date: date ... 6 more fields], type: GroupBy]"
            ]
          },
          "metadata": {},
          "execution_count": 33
        }
      ],
      "source": [
        "df.groupBy('Index')"
      ]
    },
    {
      "cell_type": "markdown",
      "id": "4f10fbb2-1540-4be2-b750-143f9fbe57d6",
      "metadata": {
        "id": "4f10fbb2-1540-4be2-b750-143f9fbe57d6"
      },
      "source": [
        "The *GroupedData* object can be used to call aggregator functions such as *mean*, *min*, *max*, *sum*, etc.\n",
        "However, it will not work on our DataFrame because our columns ar of type string."
      ]
    },
    {
      "cell_type": "code",
      "execution_count": null,
      "id": "87a12765-564c-4b39-ae88-26e224eb1522",
      "metadata": {
        "tags": [],
        "id": "87a12765-564c-4b39-ae88-26e224eb1522",
        "outputId": "d95ab551-def2-48a6-8b2d-52f4c9975aa9",
        "colab": {
          "base_uri": "https://localhost:8080/"
        }
      },
      "outputs": [
        {
          "output_type": "stream",
          "name": "stdout",
          "text": [
            "root\n",
            " |-- Index: string (nullable = true)\n",
            " |-- Date: date (nullable = true)\n",
            " |-- Open: string (nullable = true)\n",
            " |-- High: string (nullable = true)\n",
            " |-- Low: string (nullable = true)\n",
            " |-- Close: string (nullable = true)\n",
            " |-- Adj Close: string (nullable = true)\n",
            " |-- Volume: string (nullable = true)\n",
            "\n",
            "+---------+\n",
            "|    Index|\n",
            "+---------+\n",
            "|     NSEI|\n",
            "|   GSPTSE|\n",
            "|      NYA|\n",
            "|      HSI|\n",
            "|399001.SZ|\n",
            "|     IXIC|\n",
            "|000001.SS|\n",
            "|     KS11|\n",
            "|     SSMI|\n",
            "|    GDAXI|\n",
            "|     TWII|\n",
            "|     N225|\n",
            "|     N100|\n",
            "|  J203.JO|\n",
            "+---------+\n",
            "\n"
          ]
        }
      ],
      "source": [
        "df.printSchema()\n",
        "df.groupBy('Index').mean().show()"
      ]
    },
    {
      "cell_type": "markdown",
      "id": "1841e4af-cb99-4b64-8514-8ca7a9855311",
      "metadata": {
        "id": "1841e4af-cb99-4b64-8514-8ca7a9855311"
      },
      "source": [
        "# Casting columns\n",
        "We can cast our columns using the *cast* function. We need to import the corresponding Spark type."
      ]
    },
    {
      "cell_type": "code",
      "execution_count": null,
      "id": "2e896a58-3dd3-41a5-884e-9e3411db6962",
      "metadata": {
        "tags": [],
        "id": "2e896a58-3dd3-41a5-884e-9e3411db6962",
        "outputId": "375dafd6-6298-494e-df45-7dbcebc2edff",
        "colab": {
          "base_uri": "https://localhost:8080/"
        }
      },
      "outputs": [
        {
          "output_type": "stream",
          "name": "stdout",
          "text": [
            "root\n",
            " |-- Index: string (nullable = true)\n",
            " |-- Date: date (nullable = true)\n",
            " |-- Open: double (nullable = true)\n",
            " |-- High: string (nullable = true)\n",
            " |-- Low: string (nullable = true)\n",
            " |-- Close: double (nullable = true)\n",
            " |-- Adj Close: string (nullable = true)\n",
            " |-- Volume: string (nullable = true)\n",
            "\n",
            "+---------+------------------+------------------+\n",
            "|    Index|         avg(Open)|        avg(Close)|\n",
            "+---------+------------------+------------------+\n",
            "|     NSEI| 7665.751272509498| 7660.047238088113|\n",
            "|   GSPTSE|8091.1065434325765|8090.0663048776605|\n",
            "|      NYA|4451.7781505843395| 4452.174710990798|\n",
            "|      HSI|15206.355607330794| 15200.60562929962|\n",
            "|399001.SZ| 7968.340420628268| 7973.831004994244|\n",
            "|     IXIC|1985.0269605701312|1984.9067945188267|\n",
            "|000001.SS| 2381.208888480223| 2383.069134972016|\n",
            "|     KS11|1489.8147043765202| 1489.145146681539|\n",
            "|     SSMI| 6410.012761798593| 6409.733077902093|\n",
            "|    GDAXI| 5915.549219565168| 5914.846717036025|\n",
            "|     TWII| 8037.662437671959| 8028.866141293032|\n",
            "|     N225|12852.286238750094| 12849.15519663292|\n",
            "|     N100| 822.2613479773497| 822.1537191689832|\n",
            "|  J203.JO|50896.729911688366|50910.945859382315|\n",
            "+---------+------------------+------------------+\n",
            "\n"
          ]
        }
      ],
      "source": [
        "from pyspark.sql.types import DoubleType, IntegerType, BooleanType, DateType\n",
        "\n",
        "df2 = df.withColumn('Open', df['Open'].cast(DoubleType()))\n",
        "df2 = df2.withColumn('Close', df['Close'].cast(DoubleType()))\n",
        "\n",
        "df2.printSchema()\n",
        "df2.groupBy('Index').mean().show()"
      ]
    },
    {
      "cell_type": "markdown",
      "id": "a54e6c34-9782-4d07-b12b-5b4b123c1121",
      "metadata": {
        "id": "a54e6c34-9782-4d07-b12b-5b4b123c1121"
      },
      "source": [
        "Now we are able to call aggregator functions which will only work on columns of type Number."
      ]
    },
    {
      "cell_type": "code",
      "execution_count": null,
      "id": "c86b9579-9ec7-4bc2-a830-fddd50b8e9e5",
      "metadata": {
        "tags": [],
        "id": "c86b9579-9ec7-4bc2-a830-fddd50b8e9e5",
        "outputId": "12f836fc-9053-49ba-b822-9be7d2c6ab05",
        "colab": {
          "base_uri": "https://localhost:8080/"
        }
      },
      "outputs": [
        {
          "output_type": "stream",
          "name": "stdout",
          "text": [
            "+---------+-----------+-----------+\n",
            "|    Index|  min(Open)| min(Close)|\n",
            "+---------+-----------+-----------+\n",
            "|     NSEI|2553.600098|2524.199951|\n",
            "|   GSPTSE|     1352.0|1346.400024|\n",
            "|      NYA| 347.769989| 347.769989|\n",
            "|      HSI|     1950.5|1894.900024|\n",
            "|399001.SZ| 2533.27002|2534.719971|\n",
            "|     IXIC|  54.869999|  54.869999|\n",
            "|000001.SS|1007.901001|1011.499023|\n",
            "|     KS11| 283.410004|      280.0|\n",
            "|     SSMI|1288.699951|1287.599976|\n",
            "|    GDAXI|      936.0|      936.0|\n",
            "|     TWII|3475.870117| 3446.26001|\n",
            "|     N225| 1020.48999| 1020.48999|\n",
            "|     N100| 427.600006| 419.950012|\n",
            "|  J203.JO|32887.44922|32887.44922|\n",
            "+---------+-----------+-----------+\n",
            "\n"
          ]
        }
      ],
      "source": [
        "df2.groupBy('Index').min().show()"
      ]
    },
    {
      "cell_type": "code",
      "execution_count": null,
      "id": "c36039e6-5015-4680-a9a4-4da7c2c891f6",
      "metadata": {
        "tags": [],
        "id": "c36039e6-5015-4680-a9a4-4da7c2c891f6",
        "outputId": "75555eae-4e7a-4940-cca2-16460ff249b6",
        "colab": {
          "base_uri": "https://localhost:8080/"
        }
      },
      "outputs": [
        {
          "output_type": "stream",
          "name": "stdout",
          "text": [
            "+---------+--------------------+--------------------+\n",
            "|    Index|           sum(Open)|          sum(Close)|\n",
            "+---------+--------------------+--------------------+\n",
            "|     NSEI| 2.564960375781678E7|2.5630518058642827E7|\n",
            "|   GSPTSE|  8.51669874761713E7| 8.515603792514226E7|\n",
            "|      NYA|6.2088949866199784E7| 6.209448069418867E7|\n",
            "|      HSI| 1.291323718174531E8|1.2908354300401238E8|\n",
            "|399001.SZ| 4.589764082281882E7| 4.592926658876684E7|\n",
            "|     IXIC|2.5189992129634965E7|2.5188467222443912E7|\n",
            "|000001.SS| 1.378958067318897E7|1.3800353360622944E7|\n",
            "|     KS11|    8982092.85268604|   8978056.089342998|\n",
            "|     SSMI|4.9171207895757005E7|4.9169062440586954E7|\n",
            "|    GDAXI| 4.991540431469089E7| 4.990947659834998E7|\n",
            "|     TWII| 4.717304084669673E7|4.7121415383248806E7|\n",
            "|     N225| 1.783126192764188E8|1.7826917919808513E8|\n",
            "|     N100|   4501058.618828013|   4500469.458731014|\n",
            "|  J203.JO|1.1940372837282091E8|1.1943707898611091E8|\n",
            "+---------+--------------------+--------------------+\n",
            "\n"
          ]
        }
      ],
      "source": [
        "df2.groupBy('Index').sum().show()"
      ]
    },
    {
      "cell_type": "code",
      "execution_count": null,
      "id": "b74ab0b9-548b-4c9d-b016-0f5eed914511",
      "metadata": {
        "tags": [],
        "id": "b74ab0b9-548b-4c9d-b016-0f5eed914511",
        "outputId": "e33eec5c-e5aa-4aa9-9725-40eaa951da4a",
        "colab": {
          "base_uri": "https://localhost:8080/"
        }
      },
      "outputs": [
        {
          "output_type": "stream",
          "name": "stdout",
          "text": [
            "+---------+-----------+-----------+\n",
            "|    Index| max(Close)|  min(Open)|\n",
            "+---------+-----------+-----------+\n",
            "|     NSEI|15582.79981|2553.600098|\n",
            "|   GSPTSE|19852.19922|     1352.0|\n",
            "|      NYA|16590.42969| 347.769989|\n",
            "|      HSI|33154.12109|     1950.5|\n",
            "|399001.SZ|19531.15039| 2533.27002|\n",
            "|     IXIC|14138.78027|  54.869999|\n",
            "|000001.SS|6092.057129|1007.901001|\n",
            "|     KS11|3249.300049| 283.410004|\n",
            "|     SSMI|11426.15039|1288.699951|\n",
            "|    GDAXI|15519.98047|      936.0|\n",
            "|     TWII|17595.90039|3475.870117|\n",
            "|     N225|38915.87109| 1020.48999|\n",
            "|     N100|1263.619995| 427.600006|\n",
            "|  J203.JO| 68775.0625|32887.44922|\n",
            "+---------+-----------+-----------+\n",
            "\n"
          ]
        }
      ],
      "source": [
        "df2.groupBy('Index').agg({'Open':'min', 'Close':'max'}).show()"
      ]
    },
    {
      "cell_type": "code",
      "execution_count": null,
      "id": "b74f4192-d2e8-4162-ba31-d21905699572",
      "metadata": {
        "tags": [],
        "id": "b74f4192-d2e8-4162-ba31-d21905699572",
        "outputId": "d7fc8d60-a428-4d2e-f22a-a0ef07e8b2ae",
        "colab": {
          "base_uri": "https://localhost:8080/"
        }
      },
      "outputs": [
        {
          "output_type": "stream",
          "name": "stdout",
          "text": [
            "+-----+----------+----------+----------+----------+----------+----------+------+\n",
            "|Index|      Date|      Open|      High|       Low|     Close| Adj Close|Volume|\n",
            "+-----+----------+----------+----------+----------+----------+----------+------+\n",
            "| IXIC|1971-02-05|       100|       100|       100|       100|       100|     0|\n",
            "| IXIC|1973-07-09|100.010002|100.010002|100.010002|100.010002|100.010002|     0|\n",
            "| IXIC|1977-08-03|100.019997|100.019997|100.019997|100.019997|100.019997|     0|\n",
            "| IXIC|1977-08-31|100.099998|100.099998|100.099998|100.099998|100.099998|     0|\n",
            "| IXIC|1977-08-30|100.110001|100.110001|100.110001|100.110001|100.110001|     0|\n",
            "| IXIC|1977-07-05|100.120003|100.120003|100.120003|100.120003|100.120003|     0|\n",
            "| IXIC|1977-08-25|100.139999|100.139999|100.139999|100.139999|100.139999|     0|\n",
            "| IXIC|1973-07-02|100.150002|100.150002|100.150002|100.150002|100.150002|     0|\n",
            "| IXIC|1978-01-09|100.199997|100.199997|100.199997|100.199997|100.199997|     0|\n",
            "| IXIC|1973-06-27|100.220001|100.220001|100.220001|100.220001|100.220001|     0|\n",
            "| IXIC|1977-09-20|100.230003|100.230003|100.230003|100.230003|100.230003|     0|\n",
            "| IXIC|1977-09-29|100.269997|100.269997|100.269997|100.269997|100.269997|     0|\n",
            "| IXIC|1977-07-07|100.279999|100.279999|100.279999|100.279999|100.279999|     0|\n",
            "| IXIC|1971-11-23|100.309998|100.309998|100.309998|100.309998|100.309998|     0|\n",
            "| IXIC|1978-01-23|100.339996|100.339996|100.339996|100.339996|100.339996|     0|\n",
            "| IXIC|1977-09-19|100.349998|100.349998|100.349998|100.349998|100.349998|     0|\n",
            "| IXIC|1977-08-29|100.370003|100.370003|100.370003|100.370003|100.370003|     0|\n",
            "| IXIC|1977-08-04|100.389999|100.389999|100.389999|100.389999|100.389999|     0|\n",
            "| IXIC|1973-06-21|100.400002|100.400002|100.400002|100.400002|100.400002|     0|\n",
            "| IXIC|1971-11-24|100.400002|100.400002|100.400002|100.400002|100.400002|     0|\n",
            "+-----+----------+----------+----------+----------+----------+----------+------+\n",
            "only showing top 20 rows\n",
            "\n"
          ]
        }
      ],
      "source": [
        "df.orderBy('Open').show()"
      ]
    },
    {
      "cell_type": "code",
      "execution_count": null,
      "id": "fdde332d-84ed-4e57-a1e5-2afb0f3ea09b",
      "metadata": {
        "tags": [],
        "id": "fdde332d-84ed-4e57-a1e5-2afb0f3ea09b",
        "outputId": "cabf9b86-e90c-436b-93a2-6105216e71f4",
        "colab": {
          "base_uri": "https://localhost:8080/"
        }
      },
      "outputs": [
        {
          "output_type": "stream",
          "name": "stdout",
          "text": [
            "+-----+----------+----+----+----+-----+---------+------+\n",
            "|Index|      Date|Open|High| Low|Close|Adj Close|Volume|\n",
            "+-----+----------+----+----+----+-----+---------+------+\n",
            "| TWII|1997-09-29|null|null|null| null|     null|  null|\n",
            "|  HSI|1988-02-17|null|null|null| null|     null|  null|\n",
            "| TWII|1997-10-10|null|null|null| null|     null|  null|\n",
            "|  HSI|1989-06-19|null|null|null| null|     null|  null|\n",
            "| TWII|1997-10-31|null|null|null| null|     null|  null|\n",
            "|  HSI|1988-02-18|null|null|null| null|     null|  null|\n",
            "| TWII|1998-07-01|null|null|null| null|     null|  null|\n",
            "|  HSI|1987-12-25|null|null|null| null|     null|  null|\n",
            "| TWII|1997-11-12|null|null|null| null|     null|  null|\n",
            "|  HSI|1988-02-19|null|null|null| null|     null|  null|\n",
            "| SSMI|2021-01-04|null|null|null| null|     null|  null|\n",
            "|  HSI|1988-04-01|null|null|null| null|     null|  null|\n",
            "| TWII|1997-12-25|null|null|null| null|     null|  null|\n",
            "|  HSI|1989-06-08|null|null|null| null|     null|  null|\n",
            "| SSMI|2021-02-15|null|null|null| null|     null|  null|\n",
            "|  HSI|1988-04-04|null|null|null| null|     null|  null|\n",
            "| TWII|1998-01-01|null|null|null| null|     null|  null|\n",
            "|  HSI|1987-01-29|null|null|null| null|     null|  null|\n",
            "| SSMI|2021-03-03|null|null|null| null|     null|  null|\n",
            "|  HSI|1988-04-05|null|null|null| null|     null|  null|\n",
            "+-----+----------+----+----+----+-----+---------+------+\n",
            "only showing top 20 rows\n",
            "\n"
          ]
        }
      ],
      "source": [
        "df.orderBy(df['Open'].desc()).show()"
      ]
    },
    {
      "cell_type": "code",
      "execution_count": null,
      "id": "2eaf7aa1-709a-41af-ac1c-6fc4eda7db7d",
      "metadata": {
        "tags": [],
        "id": "2eaf7aa1-709a-41af-ac1c-6fc4eda7db7d",
        "outputId": "5be43b8e-2971-46f5-a05a-9ce2ace4a866",
        "colab": {
          "base_uri": "https://localhost:8080/"
        }
      },
      "outputs": [
        {
          "output_type": "stream",
          "name": "stdout",
          "text": [
            "+---------+------------------+------------------+\n",
            "|    Index|         avg(Open)|        avg(Close)|\n",
            "+---------+------------------+------------------+\n",
            "|     N100| 822.2613479773497| 822.1537191689832|\n",
            "|     KS11|1489.8147043765202| 1489.145146681539|\n",
            "|     IXIC|1985.0269605701312|1984.9067945188267|\n",
            "|000001.SS| 2381.208888480223| 2383.069134972016|\n",
            "|      NYA|4451.7781505843395| 4452.174710990798|\n",
            "|    GDAXI| 5915.549219565168| 5914.846717036025|\n",
            "|     SSMI| 6410.012761798593| 6409.733077902093|\n",
            "|     NSEI| 7665.751272509498| 7660.047238088113|\n",
            "|399001.SZ| 7968.340420628268| 7973.831004994244|\n",
            "|     TWII| 8037.662437671959| 8028.866141293032|\n",
            "|   GSPTSE|8091.1065434325765|8090.0663048776605|\n",
            "|     N225|12852.286238750094| 12849.15519663292|\n",
            "|      HSI|15206.355607330794| 15200.60562929962|\n",
            "|  J203.JO|50896.729911688366|50910.945859382315|\n",
            "+---------+------------------+------------------+\n",
            "\n"
          ]
        }
      ],
      "source": [
        "df2.groupBy(df2['Index']).mean().orderBy('avg(Open)').show()"
      ]
    },
    {
      "cell_type": "markdown",
      "source": [
        "Drop a column"
      ],
      "metadata": {
        "id": "AwASt2Q8gV5Y"
      },
      "id": "AwASt2Q8gV5Y"
    },
    {
      "cell_type": "code",
      "source": [
        "df.drop('Open', 'Close').show()"
      ],
      "metadata": {
        "colab": {
          "base_uri": "https://localhost:8080/"
        },
        "id": "uPcVPCqBgUwe",
        "outputId": "0df8bc6f-14be-4781-8e6f-3a1129191105"
      },
      "id": "uPcVPCqBgUwe",
      "execution_count": null,
      "outputs": [
        {
          "output_type": "stream",
          "name": "stdout",
          "text": [
            "+-----+----------+----------+----------+----------+------+\n",
            "|Index|      Date|      High|       Low| Adj Close|Volume|\n",
            "+-----+----------+----------+----------+----------+------+\n",
            "|  NYA|1965-12-31|528.690002|528.690002|528.690002|     0|\n",
            "|  NYA|1966-01-03|527.210022|527.210022|527.210022|     0|\n",
            "|  NYA|1966-01-04|527.840027|527.840027|527.840027|     0|\n",
            "|  NYA|1966-01-05|531.119995|531.119995|531.119995|     0|\n",
            "|  NYA|1966-01-06|532.070007|532.070007|532.070007|     0|\n",
            "|  NYA|1966-01-07|532.599976|532.599976|532.599976|     0|\n",
            "|  NYA|1966-01-10|533.869995|533.869995|533.869995|     0|\n",
            "|  NYA|1966-01-11|534.289978|534.289978|534.289978|     0|\n",
            "|  NYA|1966-01-12|533.340027|533.340027|533.340027|     0|\n",
            "|  NYA|1966-01-13|534.400024|534.400024|534.400024|     0|\n",
            "|  NYA|1966-01-14|535.450012|535.450012|535.450012|     0|\n",
            "|  NYA|1966-01-17|537.460022|537.460022|537.460022|     0|\n",
            "|  NYA|1966-01-18|538.940002|538.940002|538.940002|     0|\n",
            "|  NYA|1966-01-19|537.669983|537.669983|537.669983|     0|\n",
            "|  NYA|1966-01-20|535.669983|535.669983|535.669983|     0|\n",
            "|  NYA|1966-01-21| 535.97998| 535.97998| 535.97998|     0|\n",
            "|  NYA|1966-01-24|537.669983|537.669983|537.669983|     0|\n",
            "|  NYA|1966-01-25|538.099976|538.099976|538.099976|     0|\n",
            "|  NYA|1966-01-26|537.570007|537.570007|537.570007|     0|\n",
            "|  NYA|1966-01-27|537.359985|537.359985|537.359985|     0|\n",
            "+-----+----------+----------+----------+----------+------+\n",
            "only showing top 20 rows\n",
            "\n"
          ]
        }
      ]
    }
  ],
  "metadata": {
    "kernelspec": {
      "display_name": "Python 3 (ipykernel)",
      "language": "python",
      "name": "python3"
    },
    "language_info": {
      "codemirror_mode": {
        "name": "ipython",
        "version": 3
      },
      "file_extension": ".py",
      "mimetype": "text/x-python",
      "name": "python",
      "nbconvert_exporter": "python",
      "pygments_lexer": "ipython3",
      "version": "3.11.6"
    },
    "colab": {
      "provenance": []
    }
  },
  "nbformat": 4,
  "nbformat_minor": 5
}