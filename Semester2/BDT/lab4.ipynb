{
  "cells": [
    {
      "cell_type": "code",
      "source": [
        "!sudo apt update\n",
        "!apt-get install openjdk-8-jdk-headless -qq > /dev/null\n",
        "!wget -q https://dlcdn.apache.org/spark/spark-3.2.1/spark-3.2.1-bin-hadoop3.2.tgz\n",
        "!tar xf spark-3.2.1-bin-hadoop3.2.tgz\n",
        "!pip install -q findspark\n",
        "!pip install pyspark\n",
        "!pip install py4j"
      ],
      "metadata": {
        "colab": {
          "base_uri": "https://localhost:8080/"
        },
        "id": "5tk6rBZ7iaE4",
        "outputId": "ce01d689-7ad6-4505-a9ea-5426f5787fff"
      },
      "id": "5tk6rBZ7iaE4",
      "execution_count": null,
      "outputs": [
        {
          "output_type": "stream",
          "name": "stdout",
          "text": [
            "\u001b[33m\r0% [Working]\u001b[0m\r            \rGet:1 https://cloud.r-project.org/bin/linux/ubuntu jammy-cran40/ InRelease [3,626 B]\n",
            "Get:2 https://developer.download.nvidia.com/compute/cuda/repos/ubuntu2204/x86_64  InRelease [1,581 B]\n",
            "Get:3 http://security.ubuntu.com/ubuntu jammy-security InRelease [110 kB]\n",
            "Hit:4 http://archive.ubuntu.com/ubuntu jammy InRelease\n",
            "Get:5 https://developer.download.nvidia.com/compute/cuda/repos/ubuntu2204/x86_64  Packages [737 kB]\n",
            "Get:6 http://archive.ubuntu.com/ubuntu jammy-updates InRelease [119 kB]\n",
            "Hit:7 https://ppa.launchpadcontent.net/c2d4u.team/c2d4u4.0+/ubuntu jammy InRelease\n",
            "Hit:8 https://ppa.launchpadcontent.net/deadsnakes/ppa/ubuntu jammy InRelease\n",
            "Hit:9 https://ppa.launchpadcontent.net/graphics-drivers/ppa/ubuntu jammy InRelease\n",
            "Hit:10 https://ppa.launchpadcontent.net/ubuntugis/ppa/ubuntu jammy InRelease\n",
            "Get:11 http://security.ubuntu.com/ubuntu jammy-security/universe amd64 Packages [1,080 kB]\n",
            "Get:12 http://archive.ubuntu.com/ubuntu jammy-backports InRelease [109 kB]\n",
            "Get:13 http://archive.ubuntu.com/ubuntu jammy-updates/restricted amd64 Packages [2,056 kB]\n",
            "Get:14 http://security.ubuntu.com/ubuntu jammy-security/main amd64 Packages [1,570 kB]\n",
            "Get:15 http://archive.ubuntu.com/ubuntu jammy-updates/universe amd64 Packages [1,353 kB]\n",
            "Get:16 http://archive.ubuntu.com/ubuntu jammy-updates/main amd64 Packages [1,883 kB]\n",
            "Get:17 http://archive.ubuntu.com/ubuntu jammy-backports/universe amd64 Packages [33.3 kB]\n",
            "Fetched 9,055 kB in 3s (2,750 kB/s)\n",
            "Reading package lists... Done\n",
            "Building dependency tree... Done\n",
            "Reading state information... Done\n",
            "40 packages can be upgraded. Run 'apt list --upgradable' to see them.\n",
            "tar: spark-3.2.1-bin-hadoop3.2.tgz: Cannot open: No such file or directory\n",
            "tar: Error is not recoverable: exiting now\n",
            "Collecting pyspark\n",
            "  Downloading pyspark-3.5.1.tar.gz (317.0 MB)\n",
            "\u001b[2K     \u001b[90m━━━━━━━━━━━━━━━━━━━━━━━━━━━━━━━━━━━━━━━━\u001b[0m \u001b[32m317.0/317.0 MB\u001b[0m \u001b[31m4.6 MB/s\u001b[0m eta \u001b[36m0:00:00\u001b[0m\n",
            "\u001b[?25h  Preparing metadata (setup.py) ... \u001b[?25l\u001b[?25hdone\n",
            "Requirement already satisfied: py4j==0.10.9.7 in /usr/local/lib/python3.10/dist-packages (from pyspark) (0.10.9.7)\n",
            "Building wheels for collected packages: pyspark\n",
            "  Building wheel for pyspark (setup.py) ... \u001b[?25l\u001b[?25hdone\n",
            "  Created wheel for pyspark: filename=pyspark-3.5.1-py2.py3-none-any.whl size=317488491 sha256=bdf41357e78d6426a9227598db3396ee9d535a2f28c8475d8e6e1f57163d7814\n",
            "  Stored in directory: /root/.cache/pip/wheels/80/1d/60/2c256ed38dddce2fdd93be545214a63e02fbd8d74fb0b7f3a6\n",
            "Successfully built pyspark\n",
            "Installing collected packages: pyspark\n",
            "Successfully installed pyspark-3.5.1\n",
            "Requirement already satisfied: py4j in /usr/local/lib/python3.10/dist-packages (0.10.9.7)\n"
          ]
        }
      ]
    },
    {
      "cell_type": "code",
      "source": [
        "from google.colab import drive\n",
        "drive.mount('/content/drive')\n",
        "\n",
        "data_folder = '/content/drive/MyDrive/BDT Datasets/Lab 4/'"
      ],
      "metadata": {
        "colab": {
          "base_uri": "https://localhost:8080/"
        },
        "id": "JaPkD60BjGH1",
        "outputId": "e0f8d130-b5db-4acc-d299-48c583b50f2b"
      },
      "id": "JaPkD60BjGH1",
      "execution_count": null,
      "outputs": [
        {
          "output_type": "stream",
          "name": "stdout",
          "text": [
            "Mounted at /content/drive\n"
          ]
        }
      ]
    },
    {
      "cell_type": "code",
      "source": [
        "index_data_file = data_folder + 'indexData.csv'\n",
        "index_info_file = data_folder + 'indexInfo.csv'\n",
        "index_processed_file = data_folder + 'indexProcessed.csv'"
      ],
      "metadata": {
        "id": "SLh6RLDijJIX"
      },
      "id": "SLh6RLDijJIX",
      "execution_count": null,
      "outputs": []
    },
    {
      "cell_type": "code",
      "execution_count": null,
      "id": "529ccddd-5960-4933-bc1d-de00ebdce1c7",
      "metadata": {
        "tags": [],
        "id": "529ccddd-5960-4933-bc1d-de00ebdce1c7"
      },
      "outputs": [],
      "source": [
        "from pyspark.sql import SparkSession"
      ]
    },
    {
      "cell_type": "code",
      "execution_count": null,
      "id": "bc36fc96-0ee5-44d5-bc0e-b62c3b3b6de6",
      "metadata": {
        "tags": [],
        "id": "bc36fc96-0ee5-44d5-bc0e-b62c3b3b6de6"
      },
      "outputs": [],
      "source": [
        "spark =  SparkSession.builder.appName('Processing').getOrCreate()"
      ]
    },
    {
      "cell_type": "markdown",
      "id": "32778244-083a-475d-990a-e8ce3656ca36",
      "metadata": {
        "id": "32778244-083a-475d-990a-e8ce3656ca36"
      },
      "source": [
        "### Specifying the data schema"
      ]
    },
    {
      "cell_type": "code",
      "execution_count": null,
      "id": "c0559e58-7f91-443a-8552-55666b310e12",
      "metadata": {
        "tags": [],
        "id": "c0559e58-7f91-443a-8552-55666b310e12"
      },
      "outputs": [],
      "source": [
        "from pyspark.sql.types import StructType, StructField, StringType, IntegerType, DoubleType, DateType, TimestampType"
      ]
    },
    {
      "cell_type": "markdown",
      "id": "363bc8de-69c9-42e2-90dd-b27698355d67",
      "metadata": {
        "id": "363bc8de-69c9-42e2-90dd-b27698355d67"
      },
      "source": [
        "The construct of a field has the column, the type for the column, and a boolean value that allows null values or not.\n",
        "\n",
        "`StructField('column_name', type, allow_null)`"
      ]
    },
    {
      "cell_type": "code",
      "execution_count": null,
      "id": "7f10fd19-5f91-4399-93f5-52a4a3e68799",
      "metadata": {
        "tags": [],
        "id": "7f10fd19-5f91-4399-93f5-52a4a3e68799"
      },
      "outputs": [],
      "source": [
        "columns = []\n",
        "columns.append(StructField('Index', StringType(), True))\n",
        "columns.append(StructField('Date', TimestampType(), True))\n",
        "columns.append(StructField('Open', DoubleType(), True))\n",
        "columns.append(StructField('High', DoubleType(), True))\n",
        "columns.append(StructField('Low', DoubleType(), True))\n",
        "columns.append(StructField('Close', DoubleType(), True))\n",
        "columns.append(StructField('Adj Close', DoubleType(), True))\n",
        "columns.append(StructField('Volume', DoubleType(), True))\n"
      ]
    },
    {
      "cell_type": "code",
      "execution_count": null,
      "id": "3f00fc71-62bf-4074-b807-6e3b3dd3e016",
      "metadata": {
        "tags": [],
        "id": "3f00fc71-62bf-4074-b807-6e3b3dd3e016"
      },
      "outputs": [],
      "source": [
        "schema = StructType(fields=columns)"
      ]
    },
    {
      "cell_type": "code",
      "execution_count": null,
      "id": "2be66387-4d49-40f2-a37d-2b2cf1f90887",
      "metadata": {
        "tags": [],
        "id": "2be66387-4d49-40f2-a37d-2b2cf1f90887"
      },
      "outputs": [],
      "source": [
        "df = spark.read.csv(index_data_file, header=True, schema=schema)"
      ]
    },
    {
      "cell_type": "markdown",
      "id": "955236c4-2ada-4147-85c8-2529a33e5b86",
      "metadata": {
        "id": "955236c4-2ada-4147-85c8-2529a33e5b86"
      },
      "source": [
        "As you can see our data frame has all the columns that contain numbers as double."
      ]
    },
    {
      "cell_type": "code",
      "execution_count": null,
      "id": "49799c61-f080-480d-992f-d310e7183eb6",
      "metadata": {
        "tags": [],
        "colab": {
          "base_uri": "https://localhost:8080/"
        },
        "id": "49799c61-f080-480d-992f-d310e7183eb6",
        "outputId": "c5058d17-a32c-41fd-b57e-af475cadd5d8"
      },
      "outputs": [
        {
          "output_type": "stream",
          "name": "stdout",
          "text": [
            "root\n",
            " |-- Index: string (nullable = true)\n",
            " |-- Date: timestamp (nullable = true)\n",
            " |-- Open: double (nullable = true)\n",
            " |-- High: double (nullable = true)\n",
            " |-- Low: double (nullable = true)\n",
            " |-- Close: double (nullable = true)\n",
            " |-- Adj Close: double (nullable = true)\n",
            " |-- Volume: double (nullable = true)\n",
            "\n"
          ]
        }
      ],
      "source": [
        "df.printSchema()"
      ]
    },
    {
      "cell_type": "markdown",
      "id": "b9324323-6d84-452e-88a0-69fe5fdbc3f3",
      "metadata": {
        "id": "b9324323-6d84-452e-88a0-69fe5fdbc3f3"
      },
      "source": [
        "Notice that the *mean()* function is able to compute the average of all columns."
      ]
    },
    {
      "cell_type": "code",
      "execution_count": null,
      "id": "f8fe0d00-7a62-4eb9-85a2-2eec22356908",
      "metadata": {
        "tags": [],
        "colab": {
          "base_uri": "https://localhost:8080/"
        },
        "id": "f8fe0d00-7a62-4eb9-85a2-2eec22356908",
        "outputId": "8cb048df-edd6-4c00-8f80-ee7db9d3ec43"
      },
      "outputs": [
        {
          "output_type": "stream",
          "name": "stdout",
          "text": [
            "+---------+------------------+------------------+------------------+------------------+------------------+--------------------+\n",
            "|    Index|         avg(Open)|         avg(High)|          avg(Low)|        avg(Close)|    avg(Adj Close)|         avg(Volume)|\n",
            "+---------+------------------+------------------+------------------+------------------+------------------+--------------------+\n",
            "|     NSEI| 7665.751272509498| 7712.532773450627| 7605.887145197213| 7660.047238088113| 7660.047238088113|  183071.90675433353|\n",
            "|   GSPTSE|8091.1065434325765| 8128.025943173414| 8048.288132083155|8090.0663048776605| 8088.084509185663| 9.620499365380962E9|\n",
            "|      NYA|4451.7781505843395| 4468.236551545467| 4433.695014189053| 4452.174710990798| 4452.174710990798| 1.215565480748548E9|\n",
            "|      HSI|15206.355607330794| 15303.62676154348| 15091.04879081679| 15200.60562929962| 15200.60562929962| 8.430191354804522E8|\n",
            "|399001.SZ| 7968.340420628268| 8052.905486944613| 7882.030536089907| 7973.831004994244|7973.7586604673315|  250027.11805555556|\n",
            "|     IXIC|1985.0269605701312|1998.0502884984228|1969.9845492171723|1984.9067945188267|1984.9067945188267| 9.915283356973995E8|\n",
            "|000001.SS| 2381.208888480223|2402.1217474624355|2358.9470425755394| 2383.069134972016| 2383.069134972016|   106540.4420652737|\n",
            "|     KS11|1489.8147043765202|1499.1419952867784| 1478.324079876764| 1489.145146681539| 1489.145146681539|   419084.9444352297|\n",
            "|     SSMI| 6410.012761798593| 6448.342905341294| 6369.483406405556| 6409.733077902093| 6409.733077902093| 3.646631134141572E7|\n",
            "|    GDAXI| 5915.549219565168|  5956.94163160652| 5869.720949476386| 5914.846717036025| 5914.846717036025|  6.83038389547286E7|\n",
            "|     TWII| 8037.662437671959| 8082.502930899766| 7980.862417993302| 8028.866141293032| 8028.844382081953|   2457310.921792469|\n",
            "|     N225|12852.286238750094|12919.694377091744|12778.636383209496| 12849.15519663292| 12849.15519663292|3.9762887490413725E7|\n",
            "|     N100| 822.2613479773497| 826.8102335697838|  817.177208784437| 822.1537191689832| 822.1537191689832|1.9582260944464743E8|\n",
            "|  J203.JO|50896.729911688366|51220.236232438576|  50589.7524508998|50910.945859382315|50910.945859382315|                 0.0|\n",
            "+---------+------------------+------------------+------------------+------------------+------------------+--------------------+\n",
            "\n"
          ]
        }
      ],
      "source": [
        "df.groupBy('Index').mean().show()"
      ]
    },
    {
      "cell_type": "markdown",
      "id": "5af7a1a5-4165-430f-ae23-6d701a757e4a",
      "metadata": {
        "tags": [],
        "id": "5af7a1a5-4165-430f-ae23-6d701a757e4a"
      },
      "source": [
        "## Dealing with missing values"
      ]
    },
    {
      "cell_type": "markdown",
      "id": "b2f64cdf-de80-4e13-8818-1657a79b89b4",
      "metadata": {
        "id": "b2f64cdf-de80-4e13-8818-1657a79b89b4"
      },
      "source": [
        "### Dropping rows that have null values"
      ]
    },
    {
      "cell_type": "code",
      "execution_count": null,
      "id": "2fdea87e-2050-49e0-8105-07a62cec2461",
      "metadata": {
        "tags": [],
        "colab": {
          "base_uri": "https://localhost:8080/"
        },
        "id": "2fdea87e-2050-49e0-8105-07a62cec2461",
        "outputId": "9da7c7da-554f-41a3-ca76-3760673bc86a"
      },
      "outputs": [
        {
          "output_type": "execute_result",
          "data": {
            "text/plain": [
              "112457"
            ]
          },
          "metadata": {},
          "execution_count": 12
        }
      ],
      "source": [
        "df.count()"
      ]
    },
    {
      "cell_type": "code",
      "execution_count": null,
      "id": "575fdec9-d8cf-4e95-89d2-e8c3846b4f13",
      "metadata": {
        "tags": [],
        "id": "575fdec9-d8cf-4e95-89d2-e8c3846b4f13"
      },
      "outputs": [],
      "source": [
        "df2 = df.na.drop()"
      ]
    },
    {
      "cell_type": "code",
      "execution_count": null,
      "id": "f6dd7e31-d0e6-4142-ae56-77cf85e1cf56",
      "metadata": {
        "tags": [],
        "colab": {
          "base_uri": "https://localhost:8080/"
        },
        "id": "f6dd7e31-d0e6-4142-ae56-77cf85e1cf56",
        "outputId": "af02c35a-8cfd-4eb4-bc1e-669022137cce"
      },
      "outputs": [
        {
          "output_type": "execute_result",
          "data": {
            "text/plain": [
              "110253"
            ]
          },
          "metadata": {},
          "execution_count": 14
        }
      ],
      "source": [
        "df2.count()"
      ]
    },
    {
      "cell_type": "code",
      "execution_count": null,
      "id": "0050ea6d-9ce3-4e30-8226-4ad9cb8e856f",
      "metadata": {
        "tags": [],
        "id": "0050ea6d-9ce3-4e30-8226-4ad9cb8e856f"
      },
      "outputs": [],
      "source": [
        "df3 = df.na.drop('any') # if any of the columns is null, the row is dropped (similar with drop())"
      ]
    },
    {
      "cell_type": "code",
      "execution_count": null,
      "id": "cdfa3b6b-e41d-4067-bef1-57ce2942cc51",
      "metadata": {
        "tags": [],
        "colab": {
          "base_uri": "https://localhost:8080/"
        },
        "id": "cdfa3b6b-e41d-4067-bef1-57ce2942cc51",
        "outputId": "29dc20a0-ab69-4ce1-bb91-7476a6ecebea"
      },
      "outputs": [
        {
          "output_type": "execute_result",
          "data": {
            "text/plain": [
              "110253"
            ]
          },
          "metadata": {},
          "execution_count": 16
        }
      ],
      "source": [
        "df3.count()"
      ]
    },
    {
      "cell_type": "code",
      "execution_count": null,
      "id": "f5b3a178-7551-4e3f-ab00-035b66d190e9",
      "metadata": {
        "tags": [],
        "id": "f5b3a178-7551-4e3f-ab00-035b66d190e9"
      },
      "outputs": [],
      "source": [
        "df4 = df.na.drop('all') # if all of the columns are null, the row is dropped"
      ]
    },
    {
      "cell_type": "code",
      "execution_count": null,
      "id": "190b7498-8569-4e97-bf3b-227f3a4fe3f6",
      "metadata": {
        "tags": [],
        "colab": {
          "base_uri": "https://localhost:8080/"
        },
        "id": "190b7498-8569-4e97-bf3b-227f3a4fe3f6",
        "outputId": "abe9aa6c-df5d-48b8-b692-bae1e66f2584"
      },
      "outputs": [
        {
          "output_type": "execute_result",
          "data": {
            "text/plain": [
              "112457"
            ]
          },
          "metadata": {},
          "execution_count": 18
        }
      ],
      "source": [
        "df4.count()"
      ]
    },
    {
      "cell_type": "code",
      "execution_count": null,
      "id": "918616d0-7199-42a7-bde3-66ef4526b46b",
      "metadata": {
        "tags": [],
        "id": "918616d0-7199-42a7-bde3-66ef4526b46b"
      },
      "outputs": [],
      "source": [
        "df5 = df.na.drop(thresh=6) # if at most 6 columns are null, the row is dropped"
      ]
    },
    {
      "cell_type": "code",
      "execution_count": null,
      "id": "764fc5c3-3781-4559-8241-30f0abf65f90",
      "metadata": {
        "tags": [],
        "colab": {
          "base_uri": "https://localhost:8080/"
        },
        "id": "764fc5c3-3781-4559-8241-30f0abf65f90",
        "outputId": "4bc1630f-695d-4a52-cf3a-52ea0533d2f2"
      },
      "outputs": [
        {
          "output_type": "execute_result",
          "data": {
            "text/plain": [
              "110253"
            ]
          },
          "metadata": {},
          "execution_count": 20
        }
      ],
      "source": [
        "df5.count()"
      ]
    },
    {
      "cell_type": "code",
      "execution_count": null,
      "id": "79472ae5-edff-49d0-ae8a-7902160040b8",
      "metadata": {
        "tags": [],
        "id": "79472ae5-edff-49d0-ae8a-7902160040b8"
      },
      "outputs": [],
      "source": [
        "df6 = df.na.drop(subset=['Open']) # if any of the columns in the subset is null, the row is dropped"
      ]
    },
    {
      "cell_type": "code",
      "execution_count": null,
      "id": "e52610dc-88bf-45d7-bef3-1eb273d600f6",
      "metadata": {
        "tags": [],
        "colab": {
          "base_uri": "https://localhost:8080/"
        },
        "id": "e52610dc-88bf-45d7-bef3-1eb273d600f6",
        "outputId": "f54bf7b3-9812-493c-bdf0-b1c537ffe719"
      },
      "outputs": [
        {
          "output_type": "execute_result",
          "data": {
            "text/plain": [
              "110253"
            ]
          },
          "metadata": {},
          "execution_count": 22
        }
      ],
      "source": [
        "df6.count()"
      ]
    },
    {
      "cell_type": "code",
      "execution_count": null,
      "id": "8a032bf1-109d-4de0-a8d0-b31de61107d1",
      "metadata": {
        "tags": [],
        "colab": {
          "base_uri": "https://localhost:8080/"
        },
        "id": "8a032bf1-109d-4de0-a8d0-b31de61107d1",
        "outputId": "2d307c81-518e-40c5-93bd-73c29617f71c"
      },
      "outputs": [
        {
          "output_type": "stream",
          "name": "stdout",
          "text": [
            "+-----+-------------------+---------+---------+---------+---------+---------+------+\n",
            "|Index|               Date|     Open|     High|      Low|    Close|Adj Close|Volume|\n",
            "+-----+-------------------+---------+---------+---------+---------+---------+------+\n",
            "| IXIC|1974-10-03 00:00:00|54.869999|54.869999|54.869999|54.869999|54.869999|   0.0|\n",
            "| IXIC|1974-10-04 00:00:00|    55.16|    55.16|    55.16|    55.16|    55.16|   0.0|\n",
            "| IXIC|1974-10-01 00:00:00|    55.48|    55.48|    55.48|    55.48|    55.48|   0.0|\n",
            "| IXIC|1974-09-30 00:00:00|55.669998|55.669998|55.669998|55.669998|55.669998|   0.0|\n",
            "| IXIC|1974-10-02 00:00:00|55.669998|55.669998|55.669998|55.669998|55.669998|   0.0|\n",
            "| IXIC|1974-10-08 00:00:00|56.130001|56.130001|56.130001|56.130001|56.130001|   0.0|\n",
            "| IXIC|1974-10-07 00:00:00|    56.57|    56.57|    56.57|    56.57|    56.57|   0.0|\n",
            "| IXIC|1974-09-13 00:00:00|    56.66|    56.66|    56.66|    56.66|    56.66|   0.0|\n",
            "| IXIC|1974-09-27 00:00:00|57.119999|57.119999|57.119999|57.119999|57.119999|   0.0|\n",
            "| IXIC|1974-09-16 00:00:00|57.240002|57.240002|57.240002|57.240002|57.240002|   0.0|\n",
            "| IXIC|1974-10-09 00:00:00|    57.57|    57.57|    57.57|    57.57|    57.57|   0.0|\n",
            "| IXIC|1974-09-12 00:00:00|57.709999|57.709999|57.709999|57.709999|57.709999|   0.0|\n",
            "| IXIC|1974-09-17 00:00:00|57.720001|57.720001|57.720001|57.720001|57.720001|   0.0|\n",
            "| IXIC|1974-12-23 00:00:00|57.860001|57.860001|57.860001|57.860001|57.860001|   0.0|\n",
            "| IXIC|1974-09-26 00:00:00|57.869999|57.869999|57.869999|57.869999|57.869999|   0.0|\n",
            "| IXIC|1974-12-09 00:00:00|    57.91|    57.91|    57.91|    57.91|    57.91|   0.0|\n",
            "| IXIC|1974-09-18 00:00:00|58.119999|58.119999|58.119999|58.119999|58.119999|   0.0|\n",
            "| IXIC|1974-12-06 00:00:00|58.209999|58.209999|58.209999|58.209999|58.209999|   0.0|\n",
            "| IXIC|1974-12-24 00:00:00|58.310001|58.310001|58.310001|58.310001|58.310001|   0.0|\n",
            "| IXIC|1974-12-20 00:00:00|58.669998|58.669998|58.669998|58.669998|58.669998|   0.0|\n",
            "+-----+-------------------+---------+---------+---------+---------+---------+------+\n",
            "only showing top 20 rows\n",
            "\n"
          ]
        }
      ],
      "source": [
        "df6.orderBy('Open').show()"
      ]
    },
    {
      "cell_type": "markdown",
      "id": "5df5ce4c-25cf-412d-89e7-af7ad68a15fa",
      "metadata": {
        "id": "5df5ce4c-25cf-412d-89e7-af7ad68a15fa"
      },
      "source": [
        "### Filling rows that have null values"
      ]
    },
    {
      "cell_type": "code",
      "execution_count": null,
      "id": "4b407674-6668-4382-ad59-931185857b67",
      "metadata": {
        "tags": [],
        "id": "4b407674-6668-4382-ad59-931185857b67"
      },
      "outputs": [],
      "source": [
        "df7 = df.na.fill(0) # fill with 0 where null is found"
      ]
    },
    {
      "cell_type": "code",
      "execution_count": null,
      "id": "370787b6-87c1-4466-b2a2-6b0ab5393a88",
      "metadata": {
        "tags": [],
        "colab": {
          "base_uri": "https://localhost:8080/"
        },
        "id": "370787b6-87c1-4466-b2a2-6b0ab5393a88",
        "outputId": "e870c9e7-19d6-4e2b-f81c-385e747c0242"
      },
      "outputs": [
        {
          "output_type": "execute_result",
          "data": {
            "text/plain": [
              "112457"
            ]
          },
          "metadata": {},
          "execution_count": 25
        }
      ],
      "source": [
        "df7.count()"
      ]
    },
    {
      "cell_type": "code",
      "execution_count": null,
      "id": "ed2c6dbc-18f7-442e-9409-d8820424a144",
      "metadata": {
        "tags": [],
        "id": "ed2c6dbc-18f7-442e-9409-d8820424a144"
      },
      "outputs": [],
      "source": [
        "df8 = df.na.fill('No Index Name', subset=['Index']) # replace null with 'No Index Name' if a row has null for 'Index'"
      ]
    },
    {
      "cell_type": "code",
      "execution_count": null,
      "id": "4fd319a8-dcb6-49b1-ba05-30ff59cbb9ea",
      "metadata": {
        "tags": [],
        "colab": {
          "base_uri": "https://localhost:8080/"
        },
        "id": "4fd319a8-dcb6-49b1-ba05-30ff59cbb9ea",
        "outputId": "b2a82c8d-3f75-4d65-d2e6-388e3c849df4"
      },
      "outputs": [
        {
          "output_type": "stream",
          "name": "stdout",
          "text": [
            "+---------+------------------+------------------+------------------+------------------+------------------+--------------------+\n",
            "|    Index|         avg(Open)|         avg(High)|          avg(Low)|        avg(Close)|    avg(Adj Close)|         avg(Volume)|\n",
            "+---------+------------------+------------------+------------------+------------------+------------------+--------------------+\n",
            "|     NSEI| 7665.751272509498| 7712.532773450627| 7605.887145197213| 7660.047238088113| 7660.047238088113|  183071.90675433353|\n",
            "|   GSPTSE|8091.1065434325765| 8128.025943173414| 8048.288132083155|8090.0663048776605| 8088.084509185663| 9.620499365380962E9|\n",
            "|      NYA|4451.7781505843395| 4468.236551545467| 4433.695014189053| 4452.174710990798| 4452.174710990798| 1.215565480748548E9|\n",
            "|      HSI|15206.355607330794| 15303.62676154348| 15091.04879081679| 15200.60562929962| 15200.60562929962| 8.430191354804522E8|\n",
            "|399001.SZ| 7968.340420628268| 8052.905486944613| 7882.030536089907| 7973.831004994244|7973.7586604673315|  250027.11805555556|\n",
            "|     IXIC|1985.0269605701312|1998.0502884984228|1969.9845492171723|1984.9067945188267|1984.9067945188267| 9.915283356973995E8|\n",
            "|000001.SS| 2381.208888480223|2402.1217474624355|2358.9470425755394| 2383.069134972016| 2383.069134972016|   106540.4420652737|\n",
            "|     KS11|1489.8147043765202|1499.1419952867784| 1478.324079876764| 1489.145146681539| 1489.145146681539|   419084.9444352297|\n",
            "|     SSMI| 6410.012761798593| 6448.342905341294| 6369.483406405556| 6409.733077902093| 6409.733077902093| 3.646631134141572E7|\n",
            "|    GDAXI| 5915.549219565168|  5956.94163160652| 5869.720949476386| 5914.846717036025| 5914.846717036025|  6.83038389547286E7|\n",
            "|     TWII| 8037.662437671959| 8082.502930899766| 7980.862417993302| 8028.866141293032| 8028.844382081953|   2457310.921792469|\n",
            "|     N225|12852.286238750094|12919.694377091744|12778.636383209496| 12849.15519663292| 12849.15519663292|3.9762887490413725E7|\n",
            "|     N100| 822.2613479773497| 826.8102335697838|  817.177208784437| 822.1537191689832| 822.1537191689832|1.9582260944464743E8|\n",
            "|  J203.JO|50896.729911688366|51220.236232438576|  50589.7524508998|50910.945859382315|50910.945859382315|                 0.0|\n",
            "+---------+------------------+------------------+------------------+------------------+------------------+--------------------+\n",
            "\n"
          ]
        }
      ],
      "source": [
        "df8.groupBy('Index').mean().show()"
      ]
    },
    {
      "cell_type": "markdown",
      "id": "ca868039-b51d-4561-87b7-4a57ec2f1eba",
      "metadata": {
        "id": "ca868039-b51d-4561-87b7-4a57ec2f1eba"
      },
      "source": [
        "### Using functions to fill data"
      ]
    },
    {
      "cell_type": "code",
      "execution_count": null,
      "id": "bb896ab4-db1b-4e0b-a5e6-3335c127dc8e",
      "metadata": {
        "tags": [],
        "id": "bb896ab4-db1b-4e0b-a5e6-3335c127dc8e"
      },
      "outputs": [],
      "source": [
        "from pyspark.sql.functions import mean"
      ]
    },
    {
      "cell_type": "code",
      "execution_count": null,
      "id": "9777d176-10fc-449e-a8b6-8f3384334858",
      "metadata": {
        "tags": [],
        "id": "9777d176-10fc-449e-a8b6-8f3384334858"
      },
      "outputs": [],
      "source": [
        "mean_val = df.select(mean(df['Open'])).collect()"
      ]
    },
    {
      "cell_type": "code",
      "execution_count": null,
      "id": "430ffd20-c02a-4583-977b-6c5e65fc28a7",
      "metadata": {
        "tags": [],
        "colab": {
          "base_uri": "https://localhost:8080/"
        },
        "id": "430ffd20-c02a-4583-977b-6c5e65fc28a7",
        "outputId": "d4afa30e-e9ed-43c9-e6ef-3c26756ff6a1"
      },
      "outputs": [
        {
          "output_type": "execute_result",
          "data": {
            "text/plain": [
              "[Row(avg(Open)=7658.515221546726)]"
            ]
          },
          "metadata": {},
          "execution_count": 30
        }
      ],
      "source": [
        "mean_val"
      ]
    },
    {
      "cell_type": "code",
      "execution_count": null,
      "id": "90e9df8f-01c6-4708-a957-4748cab95488",
      "metadata": {
        "tags": [],
        "colab": {
          "base_uri": "https://localhost:8080/"
        },
        "id": "90e9df8f-01c6-4708-a957-4748cab95488",
        "outputId": "824b04e0-031c-4eb5-c71f-b506a76274f8"
      },
      "outputs": [
        {
          "output_type": "stream",
          "name": "stdout",
          "text": [
            "7658.515221546726\n"
          ]
        }
      ],
      "source": [
        "print(mean_val[0][0])"
      ]
    },
    {
      "cell_type": "code",
      "execution_count": null,
      "id": "fd13582b-5008-46a3-876c-a9a316ce25c8",
      "metadata": {
        "tags": [],
        "id": "fd13582b-5008-46a3-876c-a9a316ce25c8"
      },
      "outputs": [],
      "source": [
        "mean_open = mean_val[0][0]"
      ]
    },
    {
      "cell_type": "code",
      "execution_count": null,
      "id": "f18a1609-c1bc-4fd2-b0c3-e0a021455c82",
      "metadata": {
        "tags": [],
        "id": "f18a1609-c1bc-4fd2-b0c3-e0a021455c82",
        "outputId": "59f2d66d-0831-4ef3-9fd5-15f74632fc6d"
      },
      "outputs": [
        {
          "name": "stdout",
          "output_type": "stream",
          "text": [
            "+---------+-------------------+----+----+----+-----+---------+------+\n",
            "|    Index|               Date|Open|High| Low|Close|Adj Close|Volume|\n",
            "+---------+-------------------+----+----+----+-----+---------+------+\n",
            "|     N225|2018-12-31 00:00:00|NULL|NULL|NULL| NULL|     NULL|  NULL|\n",
            "|399001.SZ|2000-01-03 00:00:00|NULL|NULL|NULL| NULL|     NULL|  NULL|\n",
            "|      HSI|1987-01-01 00:00:00|NULL|NULL|NULL| NULL|     NULL|  NULL|\n",
            "|399001.SZ|1999-12-31 00:00:00|NULL|NULL|NULL| NULL|     NULL|  NULL|\n",
            "|     N225|2018-01-02 00:00:00|NULL|NULL|NULL| NULL|     NULL|  NULL|\n",
            "|399001.SZ|1999-02-10 00:00:00|NULL|NULL|NULL| NULL|     NULL|  NULL|\n",
            "|      HSI|1988-04-04 00:00:00|NULL|NULL|NULL| NULL|     NULL|  NULL|\n",
            "|399001.SZ|1999-02-18 00:00:00|NULL|NULL|NULL| NULL|     NULL|  NULL|\n",
            "|     N225|2018-05-03 00:00:00|NULL|NULL|NULL| NULL|     NULL|  NULL|\n",
            "|399001.SZ|1998-05-01 00:00:00|NULL|NULL|NULL| NULL|     NULL|  NULL|\n",
            "|      HSI|1987-01-29 00:00:00|NULL|NULL|NULL| NULL|     NULL|  NULL|\n",
            "|399001.SZ|1999-05-03 00:00:00|NULL|NULL|NULL| NULL|     NULL|  NULL|\n",
            "|     N225|2018-04-30 00:00:00|NULL|NULL|NULL| NULL|     NULL|  NULL|\n",
            "|399001.SZ|1998-10-02 00:00:00|NULL|NULL|NULL| NULL|     NULL|  NULL|\n",
            "|      HSI|1987-10-20 00:00:00|NULL|NULL|NULL| NULL|     NULL|  NULL|\n",
            "|399001.SZ|1999-10-07 00:00:00|NULL|NULL|NULL| NULL|     NULL|  NULL|\n",
            "|     N225|2018-05-04 00:00:00|NULL|NULL|NULL| NULL|     NULL|  NULL|\n",
            "|399001.SZ|1999-02-26 00:00:00|NULL|NULL|NULL| NULL|     NULL|  NULL|\n",
            "|      HSI|1987-10-21 00:00:00|NULL|NULL|NULL| NULL|     NULL|  NULL|\n",
            "|399001.SZ|1999-12-20 00:00:00|NULL|NULL|NULL| NULL|     NULL|  NULL|\n",
            "+---------+-------------------+----+----+----+-----+---------+------+\n",
            "only showing top 20 rows\n",
            "\n"
          ]
        }
      ],
      "source": [
        "df.orderBy('Open').show()"
      ]
    },
    {
      "cell_type": "code",
      "execution_count": null,
      "id": "77aa20d0-86bc-40ed-84d1-f8e98ce9d7b8",
      "metadata": {
        "tags": [],
        "id": "77aa20d0-86bc-40ed-84d1-f8e98ce9d7b8",
        "outputId": "f19ae443-e0ab-46b2-8b24-91aafab19253"
      },
      "outputs": [
        {
          "name": "stdout",
          "output_type": "stream",
          "text": [
            "+-----+-------------------+---------+---------+---------+---------+---------+------+\n",
            "|Index|               Date|     Open|     High|      Low|    Close|Adj Close|Volume|\n",
            "+-----+-------------------+---------+---------+---------+---------+---------+------+\n",
            "| IXIC|1974-10-03 00:00:00|54.869999|54.869999|54.869999|54.869999|54.869999|   0.0|\n",
            "| IXIC|1974-10-04 00:00:00|    55.16|    55.16|    55.16|    55.16|    55.16|   0.0|\n",
            "| IXIC|1974-10-01 00:00:00|    55.48|    55.48|    55.48|    55.48|    55.48|   0.0|\n",
            "| IXIC|1974-09-30 00:00:00|55.669998|55.669998|55.669998|55.669998|55.669998|   0.0|\n",
            "| IXIC|1974-10-02 00:00:00|55.669998|55.669998|55.669998|55.669998|55.669998|   0.0|\n",
            "| IXIC|1974-10-08 00:00:00|56.130001|56.130001|56.130001|56.130001|56.130001|   0.0|\n",
            "| IXIC|1974-10-07 00:00:00|    56.57|    56.57|    56.57|    56.57|    56.57|   0.0|\n",
            "| IXIC|1974-09-13 00:00:00|    56.66|    56.66|    56.66|    56.66|    56.66|   0.0|\n",
            "| IXIC|1974-09-27 00:00:00|57.119999|57.119999|57.119999|57.119999|57.119999|   0.0|\n",
            "| IXIC|1974-09-16 00:00:00|57.240002|57.240002|57.240002|57.240002|57.240002|   0.0|\n",
            "| IXIC|1974-10-09 00:00:00|    57.57|    57.57|    57.57|    57.57|    57.57|   0.0|\n",
            "| IXIC|1974-09-12 00:00:00|57.709999|57.709999|57.709999|57.709999|57.709999|   0.0|\n",
            "| IXIC|1974-09-17 00:00:00|57.720001|57.720001|57.720001|57.720001|57.720001|   0.0|\n",
            "| IXIC|1974-12-23 00:00:00|57.860001|57.860001|57.860001|57.860001|57.860001|   0.0|\n",
            "| IXIC|1974-09-26 00:00:00|57.869999|57.869999|57.869999|57.869999|57.869999|   0.0|\n",
            "| IXIC|1974-12-09 00:00:00|    57.91|    57.91|    57.91|    57.91|    57.91|   0.0|\n",
            "| IXIC|1974-09-18 00:00:00|58.119999|58.119999|58.119999|58.119999|58.119999|   0.0|\n",
            "| IXIC|1974-12-06 00:00:00|58.209999|58.209999|58.209999|58.209999|58.209999|   0.0|\n",
            "| IXIC|1974-12-24 00:00:00|58.310001|58.310001|58.310001|58.310001|58.310001|   0.0|\n",
            "| IXIC|1974-12-20 00:00:00|58.669998|58.669998|58.669998|58.669998|58.669998|   0.0|\n",
            "+-----+-------------------+---------+---------+---------+---------+---------+------+\n",
            "only showing top 20 rows\n",
            "\n"
          ]
        }
      ],
      "source": [
        "df_mean = df.na.fill(mean_open, subset=['Open'])\n",
        "df_mean.orderBy('Open').show()"
      ]
    },
    {
      "cell_type": "markdown",
      "id": "08410739-56c0-452b-a89f-6ed8bfd8b96b",
      "metadata": {
        "id": "08410739-56c0-452b-a89f-6ed8bfd8b96b"
      },
      "source": [
        "## Date and DateTime"
      ]
    },
    {
      "cell_type": "code",
      "execution_count": null,
      "id": "26ad8fbb-00ee-4649-9f45-1bbf338583b9",
      "metadata": {
        "tags": [],
        "id": "26ad8fbb-00ee-4649-9f45-1bbf338583b9"
      },
      "outputs": [],
      "source": [
        "from pyspark.sql.functions import dayofmonth, dayofyear, weekofyear, hour, month, year, format_number, date_format"
      ]
    },
    {
      "cell_type": "code",
      "execution_count": null,
      "id": "53e5fa71-8266-476b-8ce0-822919201ec4",
      "metadata": {
        "tags": [],
        "id": "53e5fa71-8266-476b-8ce0-822919201ec4",
        "outputId": "bd87e968-2f92-40ac-d547-e3abfec43dc8"
      },
      "outputs": [
        {
          "name": "stdout",
          "output_type": "stream",
          "text": [
            "+-----+-------------------+----------+----------+----------+----------+----------+------+------------+\n",
            "|Index|               Date|      Open|      High|       Low|     Close| Adj Close|Volume|Day of Month|\n",
            "+-----+-------------------+----------+----------+----------+----------+----------+------+------------+\n",
            "|  NYA|1965-12-31 00:00:00|528.690002|528.690002|528.690002|528.690002|528.690002|   0.0|          31|\n",
            "|  NYA|1966-01-03 00:00:00|527.210022|527.210022|527.210022|527.210022|527.210022|   0.0|           3|\n",
            "|  NYA|1966-01-04 00:00:00|527.840027|527.840027|527.840027|527.840027|527.840027|   0.0|           4|\n",
            "|  NYA|1966-01-05 00:00:00|531.119995|531.119995|531.119995|531.119995|531.119995|   0.0|           5|\n",
            "|  NYA|1966-01-06 00:00:00|532.070007|532.070007|532.070007|532.070007|532.070007|   0.0|           6|\n",
            "|  NYA|1966-01-07 00:00:00|532.599976|532.599976|532.599976|532.599976|532.599976|   0.0|           7|\n",
            "|  NYA|1966-01-10 00:00:00|533.869995|533.869995|533.869995|533.869995|533.869995|   0.0|          10|\n",
            "|  NYA|1966-01-11 00:00:00|534.289978|534.289978|534.289978|534.289978|534.289978|   0.0|          11|\n",
            "|  NYA|1966-01-12 00:00:00|533.340027|533.340027|533.340027|533.340027|533.340027|   0.0|          12|\n",
            "|  NYA|1966-01-13 00:00:00|534.400024|534.400024|534.400024|534.400024|534.400024|   0.0|          13|\n",
            "|  NYA|1966-01-14 00:00:00|535.450012|535.450012|535.450012|535.450012|535.450012|   0.0|          14|\n",
            "|  NYA|1966-01-17 00:00:00|537.460022|537.460022|537.460022|537.460022|537.460022|   0.0|          17|\n",
            "|  NYA|1966-01-18 00:00:00|538.940002|538.940002|538.940002|538.940002|538.940002|   0.0|          18|\n",
            "|  NYA|1966-01-19 00:00:00|537.669983|537.669983|537.669983|537.669983|537.669983|   0.0|          19|\n",
            "|  NYA|1966-01-20 00:00:00|535.669983|535.669983|535.669983|535.669983|535.669983|   0.0|          20|\n",
            "|  NYA|1966-01-21 00:00:00| 535.97998| 535.97998| 535.97998| 535.97998| 535.97998|   0.0|          21|\n",
            "|  NYA|1966-01-24 00:00:00|537.669983|537.669983|537.669983|537.669983|537.669983|   0.0|          24|\n",
            "|  NYA|1966-01-25 00:00:00|538.099976|538.099976|538.099976|538.099976|538.099976|   0.0|          25|\n",
            "|  NYA|1966-01-26 00:00:00|537.570007|537.570007|537.570007|537.570007|537.570007|   0.0|          26|\n",
            "|  NYA|1966-01-27 00:00:00|537.359985|537.359985|537.359985|537.359985|537.359985|   0.0|          27|\n",
            "+-----+-------------------+----------+----------+----------+----------+----------+------+------------+\n",
            "only showing top 20 rows\n",
            "\n"
          ]
        }
      ],
      "source": [
        "df.withColumn('Day of Month', dayofmonth(df['Date'])).show()"
      ]
    },
    {
      "cell_type": "code",
      "execution_count": null,
      "id": "387b7670-356a-4364-97c7-0f1d73c94eb3",
      "metadata": {
        "tags": [],
        "id": "387b7670-356a-4364-97c7-0f1d73c94eb3",
        "outputId": "f44acf2d-1ef3-4091-841e-213c3204c215"
      },
      "outputs": [
        {
          "name": "stdout",
          "output_type": "stream",
          "text": [
            "+----------+\n",
            "|hour(Date)|\n",
            "+----------+\n",
            "|         0|\n",
            "|         0|\n",
            "|         0|\n",
            "|         0|\n",
            "|         0|\n",
            "|         0|\n",
            "|         0|\n",
            "|         0|\n",
            "|         0|\n",
            "|         0|\n",
            "|         0|\n",
            "|         0|\n",
            "|         0|\n",
            "|         0|\n",
            "|         0|\n",
            "|         0|\n",
            "|         0|\n",
            "|         0|\n",
            "|         0|\n",
            "|         0|\n",
            "+----------+\n",
            "only showing top 20 rows\n",
            "\n"
          ]
        }
      ],
      "source": [
        "df.select(hour(df['Date'])).show()"
      ]
    },
    {
      "cell_type": "code",
      "execution_count": null,
      "id": "f51e125c-2409-4f5d-98fe-162b0c5e8bd5",
      "metadata": {
        "tags": [],
        "id": "f51e125c-2409-4f5d-98fe-162b0c5e8bd5",
        "outputId": "e1115d97-fd92-42f1-8990-c63135d12a9e"
      },
      "outputs": [
        {
          "name": "stdout",
          "output_type": "stream",
          "text": [
            "+-----------+\n",
            "|month(Date)|\n",
            "+-----------+\n",
            "|         12|\n",
            "|          1|\n",
            "|          1|\n",
            "|          1|\n",
            "|          1|\n",
            "|          1|\n",
            "|          1|\n",
            "|          1|\n",
            "|          1|\n",
            "|          1|\n",
            "|          1|\n",
            "|          1|\n",
            "|          1|\n",
            "|          1|\n",
            "|          1|\n",
            "|          1|\n",
            "|          1|\n",
            "|          1|\n",
            "|          1|\n",
            "|          1|\n",
            "+-----------+\n",
            "only showing top 20 rows\n",
            "\n"
          ]
        }
      ],
      "source": [
        "df.select(month(df['Date'])).show()"
      ]
    },
    {
      "cell_type": "code",
      "execution_count": null,
      "id": "a6c09930-48a6-46bf-9376-f1b5ccd5049a",
      "metadata": {
        "tags": [],
        "id": "a6c09930-48a6-46bf-9376-f1b5ccd5049a",
        "outputId": "f22e69f8-7abb-4913-a6f4-dc6754074bbb"
      },
      "outputs": [
        {
          "name": "stdout",
          "output_type": "stream",
          "text": [
            "+----+------------------+------------------+------------------+------------------+------------------+-----------------+\n",
            "|Year|         avg(Open)|         avg(High)|          avg(Low)|        avg(Close)|    avg(Adj Close)|      avg(Volume)|\n",
            "+----+------------------+------------------+------------------+------------------+------------------+-----------------+\n",
            "|1965|1198.7025404426226|1198.7025404426226|1198.7025404426226|1198.7025404426226|1198.7025404426226|              0.0|\n",
            "|1966|  976.632735987928|  976.632735987928|  976.632735987928|  976.632735987928|  976.632735987928|              0.0|\n",
            "|1967| 971.8781275835003| 971.8781275835003| 971.8781275835003| 971.8781275835003| 971.8781275835003|              0.0|\n",
            "|1968|1085.7454434300842|1085.7454434300842|1085.7454434300842|1085.7454434300842|1085.7454434300842|              0.0|\n",
            "|1969|1259.6028146093117|1259.6028146093117|1259.6028146093117|1259.6028146093117|1259.6028146093117|              0.0|\n",
            "|1970|1327.3219898067732|1327.3219898067732|1327.3219898067732|1327.3219898067732|1327.3219898067732|              0.0|\n",
            "|1971|1036.1519163034484|1036.1519163034484|1036.1519163034484|1036.1519163034484|1036.1519163034484|              0.0|\n",
            "|1972| 1499.284428956001| 1499.284428956001| 1499.284428956001| 1499.284428956001| 1499.284428956001|              0.0|\n",
            "|1973|1797.4952520841132|1797.4952520841132|1797.4952520841132|1797.4952520841132|1797.4952520841132|              0.0|\n",
            "|1974|1577.2682021597868|1577.2682021597868|1577.2682021597868|1577.2682021597868|1577.2682021597868|              0.0|\n",
            "|1975|1572.7674153373332|1572.7674153373332|1572.7674153373332|1572.7674153373332|1572.7674153373332|              0.0|\n",
            "|1976|1742.6213955938742|1742.6213955938742|1742.6213955938742|1742.6213955938742|1742.6213955938742|              0.0|\n",
            "|1977|1869.0897817102818|1869.0897817102818|1869.0897817102818|1869.0897817102818|1869.0897817102818|              0.0|\n",
            "|1978|2052.9041418721717|2052.9041418721717|2052.9041418721717|2052.9041418721717|2052.9041418721717|              0.0|\n",
            "|1979|2220.9998388659083| 2222.036769994317|2220.1563160818173|2221.2032485056807|2220.6014747556806|              0.0|\n",
            "|1980| 2448.868566854726| 2451.499909528358| 2446.459711479602|2448.9132433810937|2447.5835502975124|              0.0|\n",
            "|1981|2652.4849170796824| 2654.277844729084|2650.2164907848614|2652.1562331613554|2650.7861998675307|              0.0|\n",
            "|1982|2453.3751393076923|2455.3694441998005|  2451.44876551049|2453.4789356573433|2452.4480094275727|              0.0|\n",
            "|1983|  3075.98811572727|3078.1495558551424|3074.2251804265707|  3076.39091422777|3074.9090014885087|              0.0|\n",
            "|1984| 3526.495369124255| 3527.996860725647| 3524.751230931412| 3526.265448887675| 3524.787771734594|3739602.385685885|\n",
            "+----+------------------+------------------+------------------+------------------+------------------+-----------------+\n",
            "only showing top 20 rows\n",
            "\n"
          ]
        }
      ],
      "source": [
        "df2 = df.withColumn('Year', year(df['Date']))\n",
        "df3 = df.groupBy(year(df['Date']).alias('Year')).mean().orderBy('Year').show()"
      ]
    },
    {
      "cell_type": "code",
      "execution_count": null,
      "id": "5dc5a76f-b808-4c64-9c8b-32f2edbd06bd",
      "metadata": {
        "tags": [],
        "id": "5dc5a76f-b808-4c64-9c8b-32f2edbd06bd",
        "outputId": "6dce3c56-69f1-465f-9a12-d87afd71ce62"
      },
      "outputs": [
        {
          "name": "stdout",
          "output_type": "stream",
          "text": [
            "+----+------------------+------------------+------------------+------------------+------------------+--------------------+---------+\n",
            "|Year|         avg(Open)|         avg(High)|          avg(Low)|        avg(Close)|    avg(Adj Close)|         avg(Volume)|avg(Year)|\n",
            "+----+------------------+------------------+------------------+------------------+------------------+--------------------+---------+\n",
            "|1965|1198.7025404426226|1198.7025404426226|1198.7025404426226|1198.7025404426226|1198.7025404426226|                 0.0|   1965.0|\n",
            "|1966|  976.632735987928|  976.632735987928|  976.632735987928|  976.632735987928|  976.632735987928|                 0.0|   1966.0|\n",
            "|1967| 971.8781275835003| 971.8781275835003| 971.8781275835003| 971.8781275835003| 971.8781275835003|                 0.0|   1967.0|\n",
            "|1968|1085.7454434300842|1085.7454434300842|1085.7454434300842|1085.7454434300842|1085.7454434300842|                 0.0|   1968.0|\n",
            "|1969|1259.6028146093117|1259.6028146093117|1259.6028146093117|1259.6028146093117|1259.6028146093117|                 0.0|   1969.0|\n",
            "|1970|1327.3219898067732|1327.3219898067732|1327.3219898067732|1327.3219898067732|1327.3219898067732|                 0.0|   1970.0|\n",
            "|1971|1036.1519163034484|1036.1519163034484|1036.1519163034484|1036.1519163034484|1036.1519163034484|                 0.0|   1971.0|\n",
            "|1972| 1499.284428956001| 1499.284428956001| 1499.284428956001| 1499.284428956001| 1499.284428956001|                 0.0|   1972.0|\n",
            "|1973|1797.4952520841132|1797.4952520841132|1797.4952520841132|1797.4952520841132|1797.4952520841132|                 0.0|   1973.0|\n",
            "|1974|1577.2682021597868|1577.2682021597868|1577.2682021597868|1577.2682021597868|1577.2682021597868|                 0.0|   1974.0|\n",
            "|1975|1572.7674153373332|1572.7674153373332|1572.7674153373332|1572.7674153373332|1572.7674153373332|                 0.0|   1975.0|\n",
            "|1976|1742.6213955938742|1742.6213955938742|1742.6213955938742|1742.6213955938742|1742.6213955938742|                 0.0|   1976.0|\n",
            "|1977|1869.0897817102818|1869.0897817102818|1869.0897817102818|1869.0897817102818|1869.0897817102818|                 0.0|   1977.0|\n",
            "|1978|2052.9041418721717|2052.9041418721717|2052.9041418721717|2052.9041418721717|2052.9041418721717|                 0.0|   1978.0|\n",
            "|1979|2220.9998388659083| 2222.036769994317|2220.1563160818173|2221.2032485056807|2220.6014747556806|                 0.0|   1979.0|\n",
            "|1980| 2448.868566854726| 2451.499909528358| 2446.459711479602|2448.9132433810937|2447.5835502975124|                 0.0|   1980.0|\n",
            "|1981|2652.4849170796824| 2654.277844729084|2650.2164907848614|2652.1562331613554|2650.7861998675307|                 0.0|   1981.0|\n",
            "|1982|2453.3751393076923|2455.3694441998005|  2451.44876551049|2453.4789356573433|2452.4480094275727|                 0.0|   1982.0|\n",
            "|1983|  3075.98811572727|3078.1495558551424|3074.2251804265707|  3076.39091422777|3074.9090014885087|                 0.0|   1983.0|\n",
            "|1984| 3526.495369124255| 3527.996860725647| 3524.751230931412| 3526.265448887675| 3524.787771734594|   3739602.385685885|   1984.0|\n",
            "|1985| 4128.950976680639| 4130.926922893212| 4127.397683393213| 4129.361755783432| 4127.654152191616|2.3691656686626747E7|   1985.0|\n",
            "|1986| 5256.340434208955| 5258.433371317413| 5254.224513865673| 5256.403720688557| 5254.508889664677| 3.326731343283582E7|   1986.0|\n",
            "|1987| 6308.204833446036| 6311.865983571538| 6303.511787921656|6307.4549525523535| 6305.625431402073| 3.602266986410871E7|   1987.0|\n",
            "|1988| 5916.046891052529| 5932.510553593086|5901.3005752253985| 5917.496005420881| 5916.091141699473|2.4372406914893616E7|   1988.0|\n",
            "|1989| 7360.940986748503| 7385.255893950636| 7339.188473860579| 7365.583893111409| 7363.978035917279|2.6111787858572382E7|   1989.0|\n",
            "|1990| 6487.034727383314| 6531.781608004562| 6424.802609941329|  6477.05860345046| 6475.613208193615|2.5386238591916557E7|   1990.0|\n",
            "|1991| 5296.015948588001|5328.5240740651425| 5265.748128089143| 5296.178261825716|5295.6207279274295|          2.681924E7|   1991.0|\n",
            "|1992| 4747.452443063673| 4783.194593631608| 4708.721681699261| 4744.657594080729| 4744.657594080729|3.1726242183058556E7|   1992.0|\n",
            "|1993| 5361.725683610577| 5396.628777699261| 5330.061966914724| 5365.075591518471| 5365.075591518471| 4.613345650938033E7|   1993.0|\n",
            "|1994| 5955.444684803418| 5991.082963664386| 5916.641155046724| 5953.887704646721| 5953.887704646721| 5.103903703703704E7|   1994.0|\n",
            "|1995| 5652.495612604451| 5687.077538372717| 5616.546923742011| 5653.303509402397| 5653.303509402397|          6.668125E7|   1995.0|\n",
            "|1996| 6890.867944871272| 6924.127312794473| 6857.006594438176| 6892.372370808023| 6892.372370808023| 8.965062258610955E7|   1996.0|\n",
            "|1997| 6450.724148497857| 6498.052505194519| 6392.784733667101| 6445.372401409597| 6445.368789195374|5.1923954554413027E8|   1997.0|\n",
            "|1998| 5859.332573946662|5906.4349377574035| 5804.790951996711| 5853.695730127512| 5853.689396740228| 6.518377746803069E8|   1998.0|\n",
            "|1999| 6497.137823898594| 6547.372751167891| 6445.765375646584| 6496.657128322189| 6496.651222581556| 6.811865827332844E8|   1999.0|\n",
            "|2000| 7054.539702437355| 7111.370352178029|6986.1351342791395| 7047.397209356398|  7047.39065955828|  8.42617134676184E8|   2000.0|\n",
            "|2001| 5498.459050565157| 5539.738191726871|5449.9939159841315| 5495.652341096551| 5495.646981546925| 1.136555729308913E9|   2001.0|\n",
            "|2002|4681.1906502012735| 4715.913082227154| 4640.249313417338| 4676.783462993955| 4676.779014809481|1.2947660536626344E9|   2002.0|\n",
            "|2003| 4406.493484390751| 4437.260583268434| 4374.799782801273|4407.3900067439745| 4407.385496195715|1.3015494914544237E9|   2003.0|\n",
            "|2004| 5271.056770400062|  5300.25148539641| 5238.552778115394| 5270.220391459261| 5270.215358206851| 1.371566127136681E9|   2004.0|\n",
            "|2005| 5778.659186383633| 5804.483889587311| 5750.970863283131| 5779.419613654419| 5779.415056254421| 1.411728428914858E9|   2005.0|\n",
            "|2006| 7036.178975373195| 7074.832523269017|  6995.86915342513| 7038.508608373541|  7038.50268037823|1.9935505511892798E9|   2006.0|\n",
            "|2007| 9159.688855868264| 9228.102047535478| 9084.486102668865| 9163.666344166233| 9163.651830142579| 2.401201836695138E9|   2007.0|\n",
            "|2008| 7378.321347788483| 7463.169595476732| 7269.739896511586| 7364.891838793093|  7364.88074842615|2.7635638683317914E9|   2008.0|\n",
            "|2009|  6314.21577232003| 6376.998445235232| 6248.232605995054| 6317.328868555249| 6317.317740368928|2.4544834233673787E9|   2009.0|\n",
            "|2010| 7368.643960525737| 7414.793671913717| 7315.045832432051|  7366.77924456057| 7366.767127646235| 2.182076656302003E9|   2010.0|\n",
            "|2011| 7447.060509295035| 7497.382248494907| 7385.711110780057| 7441.670842808773| 7441.658805787461| 2.337990174425703E9|   2011.0|\n",
            "|2012|  8958.67501465807| 9005.795609462877|  8910.08502695592|  8961.60064622216| 8961.591341547859|1.8455560454176333E9|   2012.0|\n",
            "|2013| 10559.99051396366|10617.029566251522|10500.767534410443|10561.298158606283|10561.289315177675|1.3843837404961061E9|   2013.0|\n",
            "|2014|11838.285981698955|11895.864191975545|11776.703444911447|11838.645256567568|11838.636616327494|1.8447737946233468E9|   2014.0|\n",
            "|2015|13068.706920219087|13156.121010268695|12972.562242418107|13065.025105702589|13065.012773067085|2.0467470132778893E9|   2015.0|\n",
            "|2016|12194.946441975884|12269.031538681304| 12116.15443542636| 12194.81388637065|12194.804617696807| 2.218265479012346E9|   2016.0|\n",
            "|2017| 13810.52279413543|13865.587731150707|13755.263452713247|13814.377884337746| 13814.37121388472|1.9354738994645534E9|   2017.0|\n",
            "|2018|14434.804858576985|14514.468711053336|14336.369768831593| 14425.68442335496|14425.681999408018| 2.211674773961938E9|   2018.0|\n",
            "|2019|14423.032321741379| 14495.25963178795|14352.082523132762|14428.487043025443|14428.487043025443|2.1274215795487416E9|   2019.0|\n",
            "|2020|14663.046967949296| 14775.76078670103|14539.604000220495|14661.180591849356|14661.180591849356| 2.837930915778923E9|   2020.0|\n",
            "|2021|17956.040549525627| 18075.06249112251| 17835.68660400782|17961.546243356115|17961.546243356115| 2.835025665576923E9|   2021.0|\n",
            "+----+------------------+------------------+------------------+------------------+------------------+--------------------+---------+\n",
            "\n"
          ]
        }
      ],
      "source": [
        "order_by_year = df2.groupBy('Year').mean().orderBy('Year')\n",
        "order_by_year.show(order_by_year.count())"
      ]
    },
    {
      "cell_type": "code",
      "execution_count": null,
      "id": "61d16b26-51a6-405c-bbc2-e451aa9a1559",
      "metadata": {
        "tags": [],
        "id": "61d16b26-51a6-405c-bbc2-e451aa9a1559"
      },
      "outputs": [],
      "source": [
        "df_1983 = df2.filter('Year > 1983')"
      ]
    },
    {
      "cell_type": "code",
      "execution_count": null,
      "id": "f2330ea1-f554-4d34-8d3e-e11d88c4f727",
      "metadata": {
        "tags": [],
        "id": "f2330ea1-f554-4d34-8d3e-e11d88c4f727",
        "outputId": "164bc9bf-5e3c-4982-c60e-9110094459a1"
      },
      "outputs": [
        {
          "name": "stdout",
          "output_type": "stream",
          "text": [
            "+----+------------------+------------------+------------------+------------------+------------------+--------------------+---------+\n",
            "|Year|         avg(Open)|         avg(High)|          avg(Low)|        avg(Close)|    avg(Adj Close)|         avg(Volume)|avg(Year)|\n",
            "+----+------------------+------------------+------------------+------------------+------------------+--------------------+---------+\n",
            "|1984| 3526.495369124255| 3527.996860725647| 3524.751230931412| 3526.265448887675| 3524.787771734594|   3739602.385685885|   1984.0|\n",
            "|1985| 4128.950976680639| 4130.926922893212| 4127.397683393213| 4129.361755783432| 4127.654152191616|2.3691656686626747E7|   1985.0|\n",
            "|1986| 5256.340434208955| 5258.433371317413| 5254.224513865673| 5256.403720688557| 5254.508889664677| 3.326731343283582E7|   1986.0|\n",
            "|1987| 6308.204833446036| 6311.865983571538| 6303.511787921656|6307.4549525523535| 6305.625431402073| 3.602266986410871E7|   1987.0|\n",
            "|1988| 5916.046891052529| 5932.510553593086|5901.3005752253985| 5917.496005420881| 5916.091141699473|2.4372406914893616E7|   1988.0|\n",
            "|1989| 7360.940986748503| 7385.255893950636| 7339.188473860579| 7365.583893111409| 7363.978035917279|2.6111787858572382E7|   1989.0|\n",
            "|1990| 6487.034727383314| 6531.781608004562| 6424.802609941329|  6477.05860345046| 6475.613208193615|2.5386238591916557E7|   1990.0|\n",
            "|1991| 5296.015948588001|5328.5240740651425| 5265.748128089143| 5296.178261825716|5295.6207279274295|          2.681924E7|   1991.0|\n",
            "|1992| 4747.452443063673| 4783.194593631608| 4708.721681699261| 4744.657594080729| 4744.657594080729|3.1726242183058556E7|   1992.0|\n",
            "|1993| 5361.725683610577| 5396.628777699261| 5330.061966914724| 5365.075591518471| 5365.075591518471| 4.613345650938033E7|   1993.0|\n",
            "|1994| 5955.444684803418| 5991.082963664386| 5916.641155046724| 5953.887704646721| 5953.887704646721| 5.103903703703704E7|   1994.0|\n",
            "|1995| 5652.495612604451| 5687.077538372717| 5616.546923742011| 5653.303509402397| 5653.303509402397|          6.668125E7|   1995.0|\n",
            "|1996| 6890.867944871272| 6924.127312794473| 6857.006594438176| 6892.372370808023| 6892.372370808023| 8.965062258610955E7|   1996.0|\n",
            "|1997| 6450.724148497857| 6498.052505194519| 6392.784733667101| 6445.372401409597| 6445.368789195374|5.1923954554413027E8|   1997.0|\n",
            "|1998| 5859.332573946662|5906.4349377574035| 5804.790951996711| 5853.695730127512| 5853.689396740228| 6.518377746803069E8|   1998.0|\n",
            "|1999| 6497.137823898594| 6547.372751167891| 6445.765375646584| 6496.657128322189| 6496.651222581556| 6.811865827332844E8|   1999.0|\n",
            "|2000| 7054.539702437355| 7111.370352178029|6986.1351342791395| 7047.397209356398|  7047.39065955828|  8.42617134676184E8|   2000.0|\n",
            "|2001| 5498.459050565157| 5539.738191726871|5449.9939159841315| 5495.652341096551| 5495.646981546925| 1.136555729308913E9|   2001.0|\n",
            "|2002|4681.1906502012735| 4715.913082227154| 4640.249313417338| 4676.783462993955| 4676.779014809481|1.2947660536626344E9|   2002.0|\n",
            "|2003| 4406.493484390751| 4437.260583268434| 4374.799782801273|4407.3900067439745| 4407.385496195715|1.3015494914544237E9|   2003.0|\n",
            "|2004| 5271.056770400062|  5300.25148539641| 5238.552778115394| 5270.220391459261| 5270.215358206851| 1.371566127136681E9|   2004.0|\n",
            "|2005| 5778.659186383633| 5804.483889587311| 5750.970863283131| 5779.419613654419| 5779.415056254421| 1.411728428914858E9|   2005.0|\n",
            "|2006| 7036.178975373195| 7074.832523269017|  6995.86915342513| 7038.508608373541|  7038.50268037823|1.9935505511892798E9|   2006.0|\n",
            "|2007| 9159.688855868264| 9228.102047535478| 9084.486102668865| 9163.666344166233| 9163.651830142579| 2.401201836695138E9|   2007.0|\n",
            "|2008| 7378.321347788483| 7463.169595476732| 7269.739896511586| 7364.891838793093|  7364.88074842615|2.7635638683317914E9|   2008.0|\n",
            "|2009|  6314.21577232003| 6376.998445235232| 6248.232605995054| 6317.328868555249| 6317.317740368928|2.4544834233673787E9|   2009.0|\n",
            "|2010| 7368.643960525737| 7414.793671913717| 7315.045832432051|  7366.77924456057| 7366.767127646235| 2.182076656302003E9|   2010.0|\n",
            "|2011| 7447.060509295035| 7497.382248494907| 7385.711110780057| 7441.670842808773| 7441.658805787461| 2.337990174425703E9|   2011.0|\n",
            "|2012|  8958.67501465807| 9005.795609462877|  8910.08502695592|  8961.60064622216| 8961.591341547859|1.8455560454176333E9|   2012.0|\n",
            "|2013| 10559.99051396366|10617.029566251522|10500.767534410443|10561.298158606283|10561.289315177675|1.3843837404961061E9|   2013.0|\n",
            "|2014|11838.285981698955|11895.864191975545|11776.703444911447|11838.645256567568|11838.636616327494|1.8447737946233468E9|   2014.0|\n",
            "|2015|13068.706920219087|13156.121010268695|12972.562242418107|13065.025105702589|13065.012773067085|2.0467470132778893E9|   2015.0|\n",
            "|2016|12194.946441975884|12269.031538681304| 12116.15443542636| 12194.81388637065|12194.804617696807| 2.218265479012346E9|   2016.0|\n",
            "|2017| 13810.52279413543|13865.587731150707|13755.263452713247|13814.377884337746| 13814.37121388472|1.9354738994645534E9|   2017.0|\n",
            "|2018|14434.804858576985|14514.468711053336|14336.369768831593| 14425.68442335496|14425.681999408018| 2.211674773961938E9|   2018.0|\n",
            "|2019|14423.032321741379| 14495.25963178795|14352.082523132762|14428.487043025443|14428.487043025443|2.1274215795487416E9|   2019.0|\n",
            "|2020|14663.046967949296| 14775.76078670103|14539.604000220495|14661.180591849356|14661.180591849356| 2.837930915778923E9|   2020.0|\n",
            "|2021|17956.040549525627| 18075.06249112251| 17835.68660400782|17961.546243356115|17961.546243356115| 2.835025665576923E9|   2021.0|\n",
            "+----+------------------+------------------+------------------+------------------+------------------+--------------------+---------+\n",
            "\n"
          ]
        }
      ],
      "source": [
        "order_by_year = df_1983.groupBy('Year').mean().orderBy('Year')\n",
        "order_by_year.show(order_by_year.count())"
      ]
    },
    {
      "cell_type": "code",
      "execution_count": null,
      "id": "3ee72115-4afe-4b03-ad39-cf85e1d9d8bf",
      "metadata": {
        "tags": [],
        "id": "3ee72115-4afe-4b03-ad39-cf85e1d9d8bf"
      },
      "outputs": [],
      "source": [
        "from pyspark.sql.functions import countDistinct, avg, stddev\n"
      ]
    },
    {
      "cell_type": "code",
      "execution_count": null,
      "id": "7902ca3b-6da3-4e51-a484-3d1cb2ef1bdf",
      "metadata": {
        "tags": [],
        "id": "7902ca3b-6da3-4e51-a484-3d1cb2ef1bdf",
        "outputId": "e7abba03-9a47-48e2-9eb7-85ebc6105480"
      },
      "outputs": [
        {
          "name": "stdout",
          "output_type": "stream",
          "text": [
            "+---------------------+\n",
            "|count(DISTINCT Index)|\n",
            "+---------------------+\n",
            "|                   14|\n",
            "+---------------------+\n",
            "\n"
          ]
        }
      ],
      "source": [
        "df.select(countDistinct('Index')).show()\n"
      ]
    },
    {
      "cell_type": "code",
      "execution_count": null,
      "id": "66f5e6c4-bbd6-4fbd-b924-fdd708075ff2",
      "metadata": {
        "tags": [],
        "id": "66f5e6c4-bbd6-4fbd-b924-fdd708075ff2",
        "outputId": "305ab370-2249-48bc-f5c7-e5533a26cb18"
      },
      "outputs": [
        {
          "name": "stdout",
          "output_type": "stream",
          "text": [
            "+-----------------+\n",
            "|        avg(Open)|\n",
            "+-----------------+\n",
            "|7658.515221546692|\n",
            "+-----------------+\n",
            "\n"
          ]
        }
      ],
      "source": [
        "df.select(avg('Open')).show()\n"
      ]
    },
    {
      "cell_type": "code",
      "execution_count": null,
      "id": "7ebfc956-0c00-49b1-aee5-0cad97b5a44c",
      "metadata": {
        "tags": [],
        "id": "7ebfc956-0c00-49b1-aee5-0cad97b5a44c",
        "outputId": "246b5afd-a859-48b2-9abd-6b8c0d5b470d"
      },
      "outputs": [
        {
          "name": "stdout",
          "output_type": "stream",
          "text": [
            "+-----------------+\n",
            "|     Average Open|\n",
            "+-----------------+\n",
            "|7658.515221546692|\n",
            "+-----------------+\n",
            "\n"
          ]
        }
      ],
      "source": [
        "df.select(avg('Open').alias('Average Open')).show()\n"
      ]
    },
    {
      "cell_type": "code",
      "execution_count": null,
      "id": "545bd27c-a985-40ea-9285-47251c33e179",
      "metadata": {
        "tags": [],
        "id": "545bd27c-a985-40ea-9285-47251c33e179",
        "outputId": "b4725c02-8e2d-496b-b1cb-26421a01e433"
      },
      "outputs": [
        {
          "name": "stdout",
          "output_type": "stream",
          "text": [
            "+-----------------+\n",
            "|stddev_samp(Open)|\n",
            "+-----------------+\n",
            "|9011.478912966066|\n",
            "+-----------------+\n",
            "\n",
            "+-------+---------+-----------------+-----------------+------------------+-----------------+-----------------+--------------------+\n",
            "|summary|    Index|             Open|             High|               Low|            Close|        Adj Close|              Volume|\n",
            "+-------+---------+-----------------+-----------------+------------------+-----------------+-----------------+--------------------+\n",
            "|  count|   112457|           110253|           110253|            110253|           110253|           110253|              110253|\n",
            "|   mean|     null|7658.515221546692|7704.372961277125|7608.0004223377055|7657.545871842828|7657.351729363816|1.2739751626030312E9|\n",
            "| stddev|     null|9011.478912966066| 9066.63854803485| 8954.506981251896|9011.510443530442|9011.608899984898|  4.31578312088231E9|\n",
            "|    min|000001.SS|        54.869999|        54.869999|         54.869999|        54.869999|        54.869999|                 0.0|\n",
            "|    max|     TWII|       68775.0625|         69403.75|       68516.99219|       68775.0625|       68775.0625|         9.440374E10|\n",
            "+-------+---------+-----------------+-----------------+------------------+-----------------+-----------------+--------------------+\n",
            "\n"
          ]
        }
      ],
      "source": [
        "df.select(stddev('Open')).show()\n",
        "df.describe().show()"
      ]
    },
    {
      "cell_type": "code",
      "execution_count": null,
      "id": "e49d7179-a96f-45fd-9c1b-be4efa4a4e18",
      "metadata": {
        "tags": [],
        "id": "e49d7179-a96f-45fd-9c1b-be4efa4a4e18",
        "outputId": "bee1e76c-6cca-4eca-a198-93ec0c1f866b"
      },
      "outputs": [
        {
          "name": "stdout",
          "output_type": "stream",
          "text": [
            "root\n",
            " |-- summary: string (nullable = true)\n",
            " |-- Index: string (nullable = true)\n",
            " |-- Open: string (nullable = true)\n",
            " |-- High: string (nullable = true)\n",
            " |-- Low: string (nullable = true)\n",
            " |-- Close: string (nullable = true)\n",
            " |-- Adj Close: string (nullable = true)\n",
            " |-- Volume: string (nullable = true)\n",
            "\n",
            "+-------+---------+-----------------+-----------------+------------------+-----------------+-----------------+--------------------+\n",
            "|summary|    Index|             Open|             High|               Low|            Close|        Adj Close|              Volume|\n",
            "+-------+---------+-----------------+-----------------+------------------+-----------------+-----------------+--------------------+\n",
            "|  count|   112457|           110253|           110253|            110253|           110253|           110253|              110253|\n",
            "|   mean|     null|7658.515221546692|7704.372961277125|7608.0004223377055|7657.545871842828|7657.351729363816|1.2739751626030312E9|\n",
            "| stddev|     null|9011.478912966066| 9066.63854803485| 8954.506981251896|9011.510443530442|9011.608899984898|  4.31578312088231E9|\n",
            "|    min|000001.SS|        54.869999|        54.869999|         54.869999|        54.869999|        54.869999|                 0.0|\n",
            "|    max|     TWII|       68775.0625|         69403.75|       68516.99219|       68775.0625|       68775.0625|         9.440374E10|\n",
            "+-------+---------+-----------------+-----------------+------------------+-----------------+-----------------+--------------------+\n",
            "\n"
          ]
        }
      ],
      "source": [
        "description = df.describe()\n",
        "description.printSchema()\n",
        "description.show()"
      ]
    },
    {
      "cell_type": "code",
      "execution_count": null,
      "id": "02a3b808-3a5b-48ab-9679-ebed896eed12",
      "metadata": {
        "id": "02a3b808-3a5b-48ab-9679-ebed896eed12"
      },
      "outputs": [],
      "source": []
    }
  ],
  "metadata": {
    "kernelspec": {
      "display_name": "Python 3 (ipykernel)",
      "language": "python",
      "name": "python3"
    },
    "language_info": {
      "codemirror_mode": {
        "name": "ipython",
        "version": 3
      },
      "file_extension": ".py",
      "mimetype": "text/x-python",
      "name": "python",
      "nbconvert_exporter": "python",
      "pygments_lexer": "ipython3",
      "version": "3.11.6"
    },
    "colab": {
      "provenance": []
    }
  },
  "nbformat": 4,
  "nbformat_minor": 5
}