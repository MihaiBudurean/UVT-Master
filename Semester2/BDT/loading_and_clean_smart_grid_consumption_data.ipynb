{
  "nbformat": 4,
  "nbformat_minor": 0,
  "metadata": {
    "colab": {
      "name": "loading_and_clean_smart_grid_consumption_data.ipynb",
      "provenance": [],
      "collapsed_sections": [],
      "include_colab_link": true
    },
    "kernelspec": {
      "name": "python3",
      "display_name": "Python 3"
    },
    "language_info": {
      "name": "python"
    }
  },
  "cells": [
    {
      "cell_type": "markdown",
      "metadata": {
        "id": "view-in-github",
        "colab_type": "text"
      },
      "source": [
        "<a href=\"https://colab.research.google.com/gist/marcfrincu/cbfcf0f38af0766025180297a0077955/loading_and_clean_smart_grid_consumption_data.ipynb\" target=\"_parent\"><img src=\"https://colab.research.google.com/assets/colab-badge.svg\" alt=\"Open In Colab\"/></a>"
      ]
    },
    {
      "cell_type": "markdown",
      "metadata": {
        "id": "eTTlCdF0lM8K"
      },
      "source": [
        "# Loading and cleaning raw smart grid data\n",
        "\n",
        "We are all used to working with *clean data*. Whether for a school project or at work with a dataset taken from the Internet. The problem is that those clean datasets are produced after a long process from *raw data* taken by smart meters and transmitted over the Internet to a database storage system part of an integrated system. Raw data is *full of errors* as systems (processing, storage, and transmission) are not perfect.\n",
        "\n",
        "In this tutorial I will show **how raw smart meter is loaded into a dataframe and its contents is analyzed and errors are fixed** producing a clean dataset ready to be analyzed. "
      ]
    },
    {
      "cell_type": "markdown",
      "metadata": {
        "id": "nsxhb-njLBnS"
      },
      "source": [
        "Running the example requires several **libraries**:"
      ]
    },
    {
      "cell_type": "code",
      "metadata": {
        "id": "U65xziHnLD4Q",
        "colab": {
          "base_uri": "https://localhost:8080/"
        },
        "outputId": "c34185f6-225f-4bfc-ca29-8532b83af438"
      },
      "source": [
        "from google.colab import files\n",
        "import pandas as pd\n",
        "import matplotlib.pyplot as plt\n",
        "import scipy.stats as stats\n",
        "import numpy as np\n",
        "import datetime\n",
        "from statsmodels.tsa.seasonal import seasonal_decompose\n",
        "from google.colab import files"
      ],
      "execution_count": 1,
      "outputs": [
        {
          "output_type": "stream",
          "text": [
            "/usr/local/lib/python3.7/dist-packages/statsmodels/tools/_testing.py:19: FutureWarning: pandas.util.testing is deprecated. Use the functions in the public API at pandas.testing instead.\n",
            "  import pandas.util.testing as tm\n"
          ],
          "name": "stderr"
        }
      ]
    },
    {
      "cell_type": "markdown",
      "metadata": {
        "id": "PzTbFBCWLEWh"
      },
      "source": [
        "The **first step** is to **get the raw data** as exported from the smart meter data repository. In our example, the data is exported as a **csv file** with **three columns**: **datetime stamp**, **total consumed energy**, and **consumed energy from the last reading**. Each entry is separated by a semicolon ;. The energy is read every 15 minutes starting on the hour (00, 15, 30, 45) and each file contains the data for one smart meter.\n",
        "\n",
        "Next we will **upload** a file called test.csv in the above format and **read its content in a dataframe**."
      ]
    },
    {
      "cell_type": "code",
      "metadata": {
        "colab": {
          "resources": {
            "http://localhost:8080/nbextensions/google.colab/files.js": {
              "data": "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",
              "ok": true,
              "headers": [
                [
                  "content-type",
                  "application/javascript"
                ]
              ],
              "status": 200,
              "status_text": "OK"
            }
          },
          "base_uri": "https://localhost:8080/",
          "height": 371
        },
        "id": "MSAXDpQlQusY",
        "outputId": "b2ca0c63-6395-4bfd-d36b-3021dfecaf20"
      },
      "source": [
        "#!rm \"test.csv\"\n",
        "\n",
        "uploaded = files.upload()\n",
        "\n",
        "for fn in uploaded.keys():\n",
        "  print('User uploaded file \"{name}\" with length {length} bytes'.format(\n",
        "    name=fn, length=len(uploaded[fn])))\n",
        "  \n",
        "raw_df = pd.read_csv('test.csv',';')\n",
        "\n",
        "# We must convert the text in the csv to datetime format\n",
        "raw_df['time']= pd.to_datetime(raw_df['time'], infer_datetime_format=True)\n",
        "\n",
        "# Plot the raw data\n",
        "raw_df.plot(x = 'time', y = 'KWh')"
      ],
      "execution_count": 2,
      "outputs": [
        {
          "output_type": "display_data",
          "data": {
            "text/html": [
              "\n",
              "     <input type=\"file\" id=\"files-564790eb-66fe-4964-bb9d-1ed21af50eba\" name=\"files[]\" multiple disabled\n",
              "        style=\"border:none\" />\n",
              "     <output id=\"result-564790eb-66fe-4964-bb9d-1ed21af50eba\">\n",
              "      Upload widget is only available when the cell has been executed in the\n",
              "      current browser session. Please rerun this cell to enable.\n",
              "      </output>\n",
              "      <script src=\"/nbextensions/google.colab/files.js\"></script> "
            ],
            "text/plain": [
              "<IPython.core.display.HTML object>"
            ]
          },
          "metadata": {
            "tags": []
          }
        },
        {
          "output_type": "stream",
          "text": [
            "Saving test.csv to test.csv\n",
            "User uploaded file \"test.csv\" with length 1709244 bytes\n"
          ],
          "name": "stdout"
        },
        {
          "output_type": "execute_result",
          "data": {
            "text/plain": [
              "<matplotlib.axes._subplots.AxesSubplot at 0x7f7328c95d90>"
            ]
          },
          "metadata": {
            "tags": []
          },
          "execution_count": 2
        },
        {
          "output_type": "display_data",
          "data": {
            "image/png": "[encoded data removed]",
            "text/plain": [
              "<Figure size 432x288 with 1 Axes>"
            ]
          },
          "metadata": {
            "tags": [],
            "needs_background": "light"
          }
        }
      ]
    },
    {
      "cell_type": "markdown",
      "metadata": {
        "id": "SFUqI6KcjqQ8"
      },
      "source": [
        "The **firs row contains the column names** which we can visualize by running:"
      ]
    },
    {
      "cell_type": "code",
      "metadata": {
        "colab": {
          "base_uri": "https://localhost:8080/"
        },
        "id": "uJgA6zVjkGOB",
        "outputId": "f6e215ef-e5ca-43b5-ca9f-1a1b6b93f376"
      },
      "source": [
        "print (raw_df.columns)"
      ],
      "execution_count": 3,
      "outputs": [
        {
          "output_type": "stream",
          "text": [
            "Index(['time', 'totalKWh', 'KWh'], dtype='object')\n"
          ],
          "name": "stdout"
        }
      ]
    },
    {
      "cell_type": "markdown",
      "metadata": {
        "id": "T_VkiOZTkYHz"
      },
      "source": [
        "Now that the data is loaded we can proceed to **clean** it by **removing the outliers**, **duplicates**, and **fix missing data**. *The order of these operations is important* as each step can generate invalid data which was taken care before earlier."
      ]
    },
    {
      "cell_type": "markdown",
      "metadata": {
        "id": "PXNi0jMGlCjR"
      },
      "source": [
        "# Step 1: Remove the outliers\n",
        "\n",
        "Datasets can contain outlier, values which do not fit the general pattern of the overall data. For instance if the smart meter data has values in the [0,5] KWh range, having a reading with values as high as 100 is strange and should be treated carefully. Usually these are outliers so they should be removed.\n",
        "\n",
        "It is important to note that these outliers are not always bugs in the data collection system but rather derive from its normal operation. Let us see the following example showing three consecutive meter readings:\n",
        "\n",
        "*   1.26.14 22:30;\t1,835,239.35;\t2.6\n",
        "*   **1.*26*.14 22:45**;\t1,835,241.97;\t2.62\n",
        "*   **1.*29*.14 23:59**;\t1,837,500.00;\t**2258.03**\n",
        "\n",
        "We notice the value 2258.03 following the 2.62 KWh reading. This may initially seem like a bug attributed to an erroneous reading but if we carefully analyze the time stamps we see that there is a gap of over 3 days between the two readings. As the column shows the difference between consecutive readings it is natural to have a large value accounting for the 3 days. Nonetheless it represents an outlier which must be removed.\n",
        "\n",
        "Outliers can be removed by using the **Z-score** and eliminating any value less than -3 or greater than 3. The reason for that is that the empirical rule tells us that any data should be within 3 standard deviations from the mean."
      ]
    },
    {
      "cell_type": "code",
      "metadata": {
        "colab": {
          "base_uri": "https://localhost:8080/",
          "height": 295
        },
        "id": "Lo1cqOiDkXHZ",
        "outputId": "710da7dd-13eb-4a4a-836d-abbba854cf1a"
      },
      "source": [
        "# Compute Z score and remove outliers, Z score > 3\n",
        "z_scores = pd.DataFrame(stats.zscore(raw_df['KWh']))\n",
        "abs_z_scores = np.abs(z_scores)\n",
        "filtered_entries = (abs_z_scores < 3).all(axis=1)\n",
        "\n",
        "filtered_df = raw_df[filtered_entries]\n",
        "\n",
        "# Plot data without outliers\n",
        "filtered_df.plot(x = 'time', y = 'KWh')"
      ],
      "execution_count": 4,
      "outputs": [
        {
          "output_type": "execute_result",
          "data": {
            "text/plain": [
              "<matplotlib.axes._subplots.AxesSubplot at 0x7f7328783c50>"
            ]
          },
          "metadata": {
            "tags": []
          },
          "execution_count": 4
        },
        {
          "output_type": "display_data",
          "data": {
            "image/png": "[encoded data removed]",
            "text/plain": [
              "<Figure size 432x288 with 1 Axes>"
            ]
          },
          "metadata": {
            "tags": [],
            "needs_background": "light"
          }
        }
      ]
    },
    {
      "cell_type": "markdown",
      "metadata": {
        "id": "TAPL7eYloeRp"
      },
      "source": [
        "We note in the previous plot that removing the outliers has emphasized some **negative values**. Such values are incorrect as you cannot have a negative energy consumption reading. These can be easily removed as well as shown next:"
      ]
    },
    {
      "cell_type": "code",
      "metadata": {
        "colab": {
          "base_uri": "https://localhost:8080/",
          "height": 296
        },
        "id": "n3tQkKGVozjP",
        "outputId": "834efe88-541c-46c2-ed2d-78d895e4027e"
      },
      "source": [
        "# Remove any negatives\n",
        "filtered_df = filtered_df[filtered_df['KWh'] > 0] \n",
        "\n",
        "# Plot data without negatives\n",
        "filtered_df.plot(x = 'time', y = 'KWh')"
      ],
      "execution_count": 5,
      "outputs": [
        {
          "output_type": "execute_result",
          "data": {
            "text/plain": [
              "<matplotlib.axes._subplots.AxesSubplot at 0x7f73287dc150>"
            ]
          },
          "metadata": {
            "tags": []
          },
          "execution_count": 5
        },
        {
          "output_type": "display_data",
          "data": {
            "image/png": "[encoded data removed]",
            "text/plain": [
              "<Figure size 432x288 with 1 Axes>"
            ]
          },
          "metadata": {
            "tags": [],
            "needs_background": "light"
          }
        }
      ]
    },
    {
      "cell_type": "markdown",
      "metadata": {
        "id": "kaNnmjdytTXX"
      },
      "source": [
        "# Step 2: Remove duplicates\n",
        "\n",
        "Sometimes the same reading can get inserted into the database leading to cases such as the one below:\n",
        "\n",
        "\n",
        "\n",
        "*   **02.12.2014 08:45**;\t1839780.05;\t3.6\n",
        "*   **02.12.2014 08:45**;\t1839780.05;\t3.6\n",
        "\n",
        "where we can notice that the two entries are identical. As we only need one we can safely discard the other.\n",
        "\n",
        "Duplicates can be easily removed as shown next:"
      ]
    },
    {
      "cell_type": "code",
      "metadata": {
        "colab": {
          "base_uri": "https://localhost:8080/"
        },
        "id": "iLhda6S8t5RI",
        "outputId": "c76c82c1-686f-46e3-f6e1-f9807c98ec5b"
      },
      "source": [
        "with_duplicates_count = len(filtered_df)\n",
        "\n",
        "filtered_df.drop_duplicates(subset = 'time', keep = 'first', inplace = True)\n",
        "\n",
        "print('Removed ', with_duplicates_count - len(filtered_df), ' duplicates')"
      ],
      "execution_count": 6,
      "outputs": [
        {
          "output_type": "stream",
          "text": [
            "Removed  1  duplicates\n"
          ],
          "name": "stdout"
        },
        {
          "output_type": "stream",
          "text": [
            "/usr/local/lib/python3.7/dist-packages/ipykernel_launcher.py:3: SettingWithCopyWarning: \n",
            "A value is trying to be set on a copy of a slice from a DataFrame\n",
            "\n",
            "See the caveats in the documentation: https://pandas.pydata.org/pandas-docs/stable/user_guide/indexing.html#returning-a-view-versus-a-copy\n",
            "  This is separate from the ipykernel package so we can avoid doing imports until\n"
          ],
          "name": "stderr"
        }
      ]
    },
    {
      "cell_type": "markdown",
      "metadata": {
        "id": "unC9p_Dnpcjw"
      },
      "source": [
        "# Step 3: Check for missing read KWh values and flag them\n",
        "\n",
        "Due to **network communication issues** (among others) it is possible that sometimes reads at specific intervals are dropped as shown in the next example where the reading corresponding to the 02:00 time is missing:\n",
        "\n",
        "*   03.06.2013 01:45;\t1,754,862.46;\t1.34\n",
        "*   03.06.2013 02:15;\t1,754,865.25;\t2.79\n",
        "\n",
        "To address this problem we will generate a dataframe (called here *complete_df*) containing a series of consecutive datatimes spaced at 15-min intervals between our first and last datetime stamp in the time series. Then we will merge this dataframe with our filtered dataframe (*filtered_df*). Missing values will appear (if any) as NaN in the second and third columns.\n"
      ]
    },
    {
      "cell_type": "code",
      "metadata": {
        "colab": {
          "base_uri": "https://localhost:8080/"
        },
        "id": "zV_p722krZgY",
        "outputId": "b1f399fe-c424-48c0-8e3e-1446b5baad21"
      },
      "source": [
        "# Compute the difference between consecutive times\n",
        "diff_list = abs(filtered_df['time'] - filtered_df['time'].shift()) / np.timedelta64(1, 's') # difference is in transformed in seconds\n",
        "\n",
        "# Check if the difference is greater than 15 minutes\n",
        "gaps_df = diff_list[diff_list > 15 * 60]\n",
        "\n",
        "print('There are ', len(gaps_df), ' gaps in the dataset')\n",
        "\n",
        "# The previous steps were just for displaying the the number of gaps and their sizes between consecutive reads. This is useful for an initial analysis of their number of occurances\n",
        "\n",
        "# Next we create a new dataframe with all the indexes (times) and copy the values from the original dataframe here based on their indices\n",
        "# Missing indices from the initial dataframe will have a NaN in the new dataframe\n",
        "\n",
        "dates = pd.date_range(filtered_df['time'].iloc[0], filtered_df['time'].iloc[len(filtered_df)-1], freq=\"15T\")\n",
        "\n",
        "complete_df = pd.DataFrame(dates, columns=['time'])\n",
        "complete_df.set_index = 'time'\n",
        "complete_df['time'] = pd.to_datetime(complete_df['time'], infer_datetime_format=True)\n",
        "\n",
        "# We can now merge the two dataframes\n",
        "no_missing_vals_df = pd.merge(complete_df, filtered_df, on = 'time', how = 'outer')\n",
        "\n",
        "# Show only the rows having NaN (missing values)\n",
        "print(no_missing_vals_df[no_missing_vals_df['KWh'].isna()])"
      ],
      "execution_count": 7,
      "outputs": [
        {
          "output_type": "stream",
          "text": [
            "There are  24  gaps in the dataset\n",
            "                     time  totalKWh  KWh\n",
            "998   2013-03-06 02:00:00       NaN  NaN\n",
            "1107  2013-03-07 05:15:00       NaN  NaN\n",
            "1360  2013-03-09 20:30:00       NaN  NaN\n",
            "1382  2013-03-10 02:00:00       NaN  NaN\n",
            "1383  2013-03-10 02:15:00       NaN  NaN\n",
            "...                   ...       ...  ...\n",
            "39014 2014-04-06 02:00:00       NaN  NaN\n",
            "39015 2014-04-06 02:15:00       NaN  NaN\n",
            "39016 2014-04-06 02:30:00       NaN  NaN\n",
            "39017 2014-04-06 02:45:00       NaN  NaN\n",
            "43943 2014-05-27 10:15:00       NaN  NaN\n",
            "\n",
            "[2540 rows x 3 columns]\n"
          ],
          "name": "stdout"
        }
      ]
    },
    {
      "cell_type": "markdown",
      "metadata": {
        "id": "HLGSJccr06DB"
      },
      "source": [
        "# Step 4: Interpolate the missing values\n",
        "\n",
        "Missing values must be interpreted and handled based on the analysis result. Gaps can occur due to **misread/misstored values** or due to the **smart meter being offline**. If the gaps are too large (days, months), due to the smart meter being offline, then they should be probably left like that and taken care of during the proper analysis. \n",
        "\n",
        "The gaps due to misreads/misstored can be handled in different ways, one being interpolation.\n",
        "\n",
        "Next we will **interpolate** the values stored in the *no_missing_vals_df* dataframe and produce a final version of our ready to be analyzed dataset stored in the *interpolated_df* dataframe."
      ]
    },
    {
      "cell_type": "code",
      "metadata": {
        "colab": {
          "base_uri": "https://localhost:8080/",
          "height": 383
        },
        "id": "XLoGk75E4FWg",
        "outputId": "d9fcefed-bff5-4269-e732-e140727e4f0f"
      },
      "source": [
        "interpolated_df = no_missing_vals_df.interpolate()\n",
        "\n",
        "# Sanity check which should output an empty dataframe\n",
        "print(interpolated_df[interpolated_df['KWh'].isna()])\n",
        "\n",
        "# Show that the previously NaN value on index 43943 (see previous code snippet) has been interpolated\n",
        "print(interpolated_df['KWh'][43943])\n",
        "\n",
        "interpolated_df.plot(x='time', y='KWh')"
      ],
      "execution_count": 8,
      "outputs": [
        {
          "output_type": "stream",
          "text": [
            "Empty DataFrame\n",
            "Columns: [time, totalKWh, KWh]\n",
            "Index: []\n",
            "4.95\n"
          ],
          "name": "stdout"
        },
        {
          "output_type": "execute_result",
          "data": {
            "text/plain": [
              "<matplotlib.axes._subplots.AxesSubplot at 0x7f73276e12d0>"
            ]
          },
          "metadata": {
            "tags": []
          },
          "execution_count": 8
        },
        {
          "output_type": "display_data",
          "data": {
            "image/png": "[encoded data removed]",
            "text/plain": [
              "<Figure size 432x288 with 1 Axes>"
            ]
          },
          "metadata": {
            "tags": [],
            "needs_background": "light"
          }
        }
      ]
    },
    {
      "cell_type": "markdown",
      "metadata": {
        "id": "guGPra6gBUw6"
      },
      "source": [
        "# Saving the cleaning dataframe to a csv file\n",
        "\n",
        "Once the data has been cleaned it should be saved to a file for future processing. This can be done as shown next:"
      ]
    },
    {
      "cell_type": "code",
      "metadata": {
        "colab": {
          "base_uri": "https://localhost:8080/",
          "height": 328
        },
        "id": "Ffb0ALOIBhpx",
        "outputId": "7fef503a-1eda-4dfe-b57c-16b4eef24a50"
      },
      "source": [
        "interpolated_df.to_csv(r'test-cleaned.csv', header=True)\n",
        "\n",
        "# Now load it again and plot its content. Notice that the initial separator ; (semicolon) has been replaced by a , (comma)\n",
        "clean_df = pd.read_csv('test-cleaned.csv',',')\n",
        "\n",
        "# You can either download the cleaned dataset like this or from the left pane unde 'Files'\n",
        "#files.download('test-cleaned.csv')\n",
        "\n",
        "print(clean_df.columns)\n",
        "\n",
        "# We must convert the text in the csv to datetime format\n",
        "clean_df['time']= pd.to_datetime(clean_df['time'], infer_datetime_format=True)\n",
        "\n",
        "# Plot the raw data\n",
        "clean_df.plot(x = 'time', y = 'KWh')"
      ],
      "execution_count": null,
      "outputs": [
        {
          "output_type": "stream",
          "text": [
            "Index(['Unnamed: 0', 'time', 'totalKWh', 'KWh'], dtype='object')\n"
          ],
          "name": "stdout"
        },
        {
          "output_type": "execute_result",
          "data": {
            "text/plain": [
              "<matplotlib.axes._subplots.AxesSubplot at 0x7f26dbf2c910>"
            ]
          },
          "metadata": {
            "tags": []
          },
          "execution_count": 9
        },
        {
          "output_type": "display_data",
          "data": {
            "image/png": "[encoded data removed]",
            "text/plain": [
              "<Figure size 432x288 with 1 Axes>"
            ]
          },
          "metadata": {
            "tags": [],
            "needs_background": "light"
          }
        }
      ]
    },
    {
      "cell_type": "markdown",
      "metadata": {
        "id": "JlR0BGMB4uny"
      },
      "source": [
        "# Some final thoughts\n",
        "## Zooming in a portion of the plot\n",
        "\n",
        "The plots showing the data are quite dense due to the large volume of plotted KWh readings. This can be solved in various ways such as using a smaller dataset or **zooming** in a specific region of the plot. \n",
        "\n",
        "Zooming is a better choice for the analysis of the data as it is not always possible or feasible to split the data in smaller sets and process them independently."
      ]
    },
    {
      "cell_type": "code",
      "metadata": {
        "colab": {
          "base_uri": "https://localhost:8080/",
          "height": 312
        },
        "id": "9hg5Jmo65Fxy",
        "outputId": "b8e8f76b-6495-4f52-959b-57f34384e8e1"
      },
      "source": [
        "ax = plt.subplot(111) \n",
        "ax.set_xlim([interpolated_df['time'][0], interpolated_df['time'][10]])\n",
        "ax.set_ylim([0, 6])\n",
        "ax.plot(interpolated_df['time'], interpolated_df['KWh'])  \n",
        "ax.grid()\n",
        "\n",
        "plt.ylabel(\"KWh\")\n",
        "plt.xlabel(\"time\")\n",
        "plt.xticks(rotation=45)\n",
        "\n",
        "plt.show()"
      ],
      "execution_count": 9,
      "outputs": [
        {
          "output_type": "display_data",
          "data": {
            "image/png": "[encoded data removed]",
            "text/plain": [
              "<Figure size 432x288 with 1 Axes>"
            ]
          },
          "metadata": {
            "tags": [],
            "needs_background": "light"
          }
        }
      ]
    },
    {
      "cell_type": "markdown",
      "metadata": {
        "id": "w7xPZCx5Fa6R"
      },
      "source": [
        "# A complex scenario\n",
        "\n",
        "Sometimes the data stored data reads produce interesting cases which must be carefully analyzed. Take for instance the next one:\n",
        "\n",
        "1.   1.26.14 22:45;\t1835241.97;\t2.62\n",
        "2.   1.29.14 **23:59**;\t1837500;\t**2258.03**\n",
        "3.   1.30.14 **0:00**;\t1837500;\t**0**\n",
        "\n",
        "Here we have the following problems:\n",
        "\n",
        "*   On line 2 we have an outlier with a value of 2258.03\n",
        "*   On line 3 we have a reading with a value of 0\n",
        "\n",
        "By removing the outlier we end up with a nice timeseries spaced at 15-min intervals however the problem is not fully fixed as the 0 value follows from the fact that the reading took place immediately after the outlier (0:00 vs. 23:59). This means that the 0 value must be dealt with as well by removing it and then interpolating the new missing value. Finding such a case automatically is challenging as it depends on the scenario (the 0 value may in fact be real with all the appliances and othe consumers being offline). \n",
        "\n",
        "It is up to the data scientist to see these particular cases and address them accordingly.\n"
      ]
    },
    {
      "cell_type": "markdown",
      "metadata": {
        "id": "Xowj-SwV6xLG"
      },
      "source": [
        "## Changing the processing order\n",
        "\n",
        "So far, the data cleaning process followed this order:\n",
        "\n",
        "1.   Outlier removal (including negatives)\n",
        "2.   Duplicate removal\n",
        "3.   Find and flag missing values\n",
        "4.   Interpolate missing values\n",
        "\n",
        "*What happens if we change the order? Say we first find, flag and interpolate missing values and then remove outliers?*\n",
        "\n",
        "Let us look at the next example which does just that (the code is identical with the previous snippets except the dataframes which have been updated to reflect the new scenario):\n"
      ]
    },
    {
      "cell_type": "code",
      "metadata": {
        "colab": {
          "base_uri": "https://localhost:8080/",
          "height": 571
        },
        "id": "V7Ix4yxi8d2K",
        "outputId": "99a04caf-edeb-4fb9-d228-8522c80c45c5"
      },
      "source": [
        "##\n",
        "# FIND, FLAG, INTERPOLATE MISSING VALUES\n",
        "##\n",
        "\n",
        "# Compute the difference between consecutive times\n",
        "diff_list = abs(raw_df['time'] - raw_df['time'].shift()) / np.timedelta64(1, 's') # difference is in transformed in seconds\n",
        "\n",
        "# Check if the difference is greater than 15 minutes\n",
        "gaps_df = diff_list[diff_list > 15 * 60]\n",
        "\n",
        "print('There are ', len(gaps_df), ' gaps in the dataset')\n",
        "\n",
        "# The previous steps were just for displaying the the number of gaps and their sizes between consecutive reads. This is useful for an initial analysis of their number of occurances\n",
        "\n",
        "# Next we create a new dataframe with all the indexes (times) and copy the values from the original dataframe here based on their indices\n",
        "# Missing indices from the initial dataframe will have a NaN in the new dataframe\n",
        "\n",
        "dates = pd.date_range(raw_df['time'].iloc[0], raw_df['time'].iloc[len(raw_df)-1], freq=\"15T\")\n",
        "\n",
        "complete_df = pd.DataFrame(dates, columns=['time'])\n",
        "complete_df.set_index = 'time'\n",
        "complete_df['time'] = pd.to_datetime(complete_df['time'], infer_datetime_format=True)\n",
        "\n",
        "# We can now merge the two dataframes\n",
        "no_missing_vals_df = pd.merge(complete_df, raw_df, on = 'time', how = 'outer')\n",
        "\n",
        "# Show only the rows having NaN (missing values)\n",
        "print(no_missing_vals_df[no_missing_vals_df['KWh'].isna()])\n",
        "\n",
        "interpolated_df = no_missing_vals_df.interpolate()\n",
        "\n",
        "# Sannity check which should output an empty dataframe\n",
        "#print(interpolated_df[interpolated_df['KWh'].isna()])\n",
        "\n",
        "# Show that the previously NaN value on index 43943 (see previous code snippet) has been interpolated\n",
        "#print(interpolated_df['KWh'][43942])\n",
        "\n",
        "#interpolated_df.plot(x='time', y='KWh')\n",
        "\n",
        "##\n",
        "# REMOVE OUTLIERS INCL. NEGATIVES\n",
        "##\n",
        "\n",
        "# Compute Z score and remove outliers, Z score > 3\n",
        "z_scores = pd.DataFrame(stats.zscore(interpolated_df['KWh']))\n",
        "abs_z_scores = np.abs(z_scores)\n",
        "filtered_entries = (abs_z_scores < 3).all(axis=1)\n",
        "\n",
        "filtered_df = interpolated_df[filtered_entries]\n",
        "\n",
        "# Plot data without outliers\n",
        "#filtered_df.plot(x = 'time', y = 'KWh')\n",
        "\n",
        "# Remove any negatives\n",
        "filtered_df = filtered_df[filtered_df['KWh'] > 0] \n",
        "\n",
        "# Plot data without negatives\n",
        "filtered_df.plot(x = 'time', y = 'KWh')"
      ],
      "execution_count": null,
      "outputs": [
        {
          "output_type": "stream",
          "text": [
            "There are  25  gaps in the dataset\n",
            "                     time  totalKWh  KWh\n",
            "998   2013-03-06 02:00:00       NaN  NaN\n",
            "1107  2013-03-07 05:15:00       NaN  NaN\n",
            "1360  2013-03-09 20:30:00       NaN  NaN\n",
            "1382  2013-03-10 02:00:00       NaN  NaN\n",
            "1383  2013-03-10 02:15:00       NaN  NaN\n",
            "...                   ...       ...  ...\n",
            "39018 2014-04-06 02:00:00       NaN  NaN\n",
            "39019 2014-04-06 02:15:00       NaN  NaN\n",
            "39020 2014-04-06 02:30:00       NaN  NaN\n",
            "39021 2014-04-06 02:45:00       NaN  NaN\n",
            "43947 2014-05-27 10:15:00       NaN  NaN\n",
            "\n",
            "[2536 rows x 3 columns]\n"
          ],
          "name": "stdout"
        },
        {
          "output_type": "execute_result",
          "data": {
            "text/plain": [
              "<matplotlib.axes._subplots.AxesSubplot at 0x7f6a1a093b90>"
            ]
          },
          "metadata": {
            "tags": []
          },
          "execution_count": 14
        },
        {
          "output_type": "display_data",
          "data": {
            "image/png": "[encoded data removed]",
            "text/plain": [
              "<Figure size 432x288 with 1 Axes>"
            ]
          },
          "metadata": {
            "tags": [],
            "needs_background": "light"
          }
        }
      ]
    },
    {
      "cell_type": "markdown",
      "metadata": {
        "id": "RB2Fehtb-rO3"
      },
      "source": [
        "The plot above shows the time series after our cleaning. It can be seen that several outliers are still present. In addition there are several gaps in the series as we have removed outliers and negatives after interpolation which has produced some missing intervals. Compare it to the plot shown at Step 4.\n",
        "\n",
        "This means we will have to interpolate again. We will not do that as it has already been shown before, but instead count the number of gaps:"
      ]
    },
    {
      "cell_type": "code",
      "metadata": {
        "colab": {
          "base_uri": "https://localhost:8080/"
        },
        "id": "QNQZ76iO-q10",
        "outputId": "4ae5f855-7b71-4ec5-ff94-6dda6ab881d6"
      },
      "source": [
        "# Compute the difference between consecutive times\n",
        "diff_list = abs(filtered_df['time'] - filtered_df['time'].shift()) / np.timedelta64(1, 's') # difference is in transformed in seconds\n",
        "\n",
        "# Check if the difference is greater than 15 minutes\n",
        "gaps_df = diff_list[diff_list > 15 * 60]\n",
        "\n",
        "print('There are ', len(gaps_df), ' gaps in the dataset')"
      ],
      "execution_count": null,
      "outputs": [
        {
          "output_type": "stream",
          "text": [
            "There are  3  gaps in the dataset\n"
          ],
          "name": "stdout"
        }
      ]
    },
    {
      "cell_type": "markdown",
      "metadata": {
        "id": "FpArRR_RApS5"
      },
      "source": [
        "This concludes our short incursion into the world of smart grid raw data cleaning. My next example will show how you can perform some simple statistics on the data."
      ]
    }
  ]
}